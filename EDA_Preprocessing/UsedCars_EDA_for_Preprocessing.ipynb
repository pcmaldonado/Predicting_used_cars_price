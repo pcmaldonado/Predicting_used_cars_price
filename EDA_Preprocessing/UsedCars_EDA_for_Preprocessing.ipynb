{
 "cells": [
  {
   "cell_type": "markdown",
   "id": "b7f11b40",
   "metadata": {},
   "source": [
    "# Import libraries"
   ]
  },
  {
   "cell_type": "code",
   "execution_count": 1,
   "id": "5a77fe2e",
   "metadata": {},
   "outputs": [],
   "source": [
    "# Basic libraries\n",
    "import numpy as np\n",
    "import pandas as pd\n",
    "import matplotlib.pyplot as plt\n",
    "import seaborn as sns ; sns.set()\n",
    "\n",
    "import re\n",
    "\n",
    "from sklearn.model_selection import train_test_split\n",
    "\n",
    "pd.set_option('display.max_columns', None)\n",
    "pd.set_option('display.float_format', lambda x: '%.2f' % x)"
   ]
  },
  {
   "cell_type": "markdown",
   "id": "90f6b8de",
   "metadata": {},
   "source": [
    "# Load data "
   ]
  },
  {
   "cell_type": "code",
   "execution_count": 2,
   "id": "6c1a60a4",
   "metadata": {},
   "outputs": [
    {
     "data": {
      "text/html": [
       "<div>\n",
       "<style scoped>\n",
       "    .dataframe tbody tr th:only-of-type {\n",
       "        vertical-align: middle;\n",
       "    }\n",
       "\n",
       "    .dataframe tbody tr th {\n",
       "        vertical-align: top;\n",
       "    }\n",
       "\n",
       "    .dataframe thead th {\n",
       "        text-align: right;\n",
       "    }\n",
       "</style>\n",
       "<table border=\"1\" class=\"dataframe\">\n",
       "  <thead>\n",
       "    <tr style=\"text-align: right;\">\n",
       "      <th></th>\n",
       "      <th>id</th>\n",
       "      <th>url</th>\n",
       "      <th>region</th>\n",
       "      <th>region_url</th>\n",
       "      <th>price</th>\n",
       "      <th>year</th>\n",
       "      <th>manufacturer</th>\n",
       "      <th>model</th>\n",
       "      <th>condition</th>\n",
       "      <th>cylinders</th>\n",
       "      <th>fuel</th>\n",
       "      <th>odometer</th>\n",
       "      <th>title_status</th>\n",
       "      <th>transmission</th>\n",
       "      <th>VIN</th>\n",
       "      <th>drive</th>\n",
       "      <th>size</th>\n",
       "      <th>type</th>\n",
       "      <th>paint_color</th>\n",
       "      <th>image_url</th>\n",
       "      <th>description</th>\n",
       "      <th>county</th>\n",
       "      <th>state</th>\n",
       "      <th>lat</th>\n",
       "      <th>long</th>\n",
       "      <th>posting_date</th>\n",
       "    </tr>\n",
       "  </thead>\n",
       "  <tbody>\n",
       "    <tr>\n",
       "      <th>0</th>\n",
       "      <td>7222695916</td>\n",
       "      <td>https://prescott.craigslist.org/cto/d/prescott...</td>\n",
       "      <td>prescott</td>\n",
       "      <td>https://prescott.craigslist.org</td>\n",
       "      <td>6000</td>\n",
       "      <td>NaN</td>\n",
       "      <td>NaN</td>\n",
       "      <td>NaN</td>\n",
       "      <td>NaN</td>\n",
       "      <td>NaN</td>\n",
       "      <td>NaN</td>\n",
       "      <td>NaN</td>\n",
       "      <td>NaN</td>\n",
       "      <td>NaN</td>\n",
       "      <td>NaN</td>\n",
       "      <td>NaN</td>\n",
       "      <td>NaN</td>\n",
       "      <td>NaN</td>\n",
       "      <td>NaN</td>\n",
       "      <td>NaN</td>\n",
       "      <td>NaN</td>\n",
       "      <td>NaN</td>\n",
       "      <td>az</td>\n",
       "      <td>NaN</td>\n",
       "      <td>NaN</td>\n",
       "      <td>NaN</td>\n",
       "    </tr>\n",
       "    <tr>\n",
       "      <th>1</th>\n",
       "      <td>7218891961</td>\n",
       "      <td>https://fayar.craigslist.org/ctd/d/bentonville...</td>\n",
       "      <td>fayetteville</td>\n",
       "      <td>https://fayar.craigslist.org</td>\n",
       "      <td>11900</td>\n",
       "      <td>NaN</td>\n",
       "      <td>NaN</td>\n",
       "      <td>NaN</td>\n",
       "      <td>NaN</td>\n",
       "      <td>NaN</td>\n",
       "      <td>NaN</td>\n",
       "      <td>NaN</td>\n",
       "      <td>NaN</td>\n",
       "      <td>NaN</td>\n",
       "      <td>NaN</td>\n",
       "      <td>NaN</td>\n",
       "      <td>NaN</td>\n",
       "      <td>NaN</td>\n",
       "      <td>NaN</td>\n",
       "      <td>NaN</td>\n",
       "      <td>NaN</td>\n",
       "      <td>NaN</td>\n",
       "      <td>ar</td>\n",
       "      <td>NaN</td>\n",
       "      <td>NaN</td>\n",
       "      <td>NaN</td>\n",
       "    </tr>\n",
       "    <tr>\n",
       "      <th>2</th>\n",
       "      <td>7221797935</td>\n",
       "      <td>https://keys.craigslist.org/cto/d/summerland-k...</td>\n",
       "      <td>florida keys</td>\n",
       "      <td>https://keys.craigslist.org</td>\n",
       "      <td>21000</td>\n",
       "      <td>NaN</td>\n",
       "      <td>NaN</td>\n",
       "      <td>NaN</td>\n",
       "      <td>NaN</td>\n",
       "      <td>NaN</td>\n",
       "      <td>NaN</td>\n",
       "      <td>NaN</td>\n",
       "      <td>NaN</td>\n",
       "      <td>NaN</td>\n",
       "      <td>NaN</td>\n",
       "      <td>NaN</td>\n",
       "      <td>NaN</td>\n",
       "      <td>NaN</td>\n",
       "      <td>NaN</td>\n",
       "      <td>NaN</td>\n",
       "      <td>NaN</td>\n",
       "      <td>NaN</td>\n",
       "      <td>fl</td>\n",
       "      <td>NaN</td>\n",
       "      <td>NaN</td>\n",
       "      <td>NaN</td>\n",
       "    </tr>\n",
       "    <tr>\n",
       "      <th>3</th>\n",
       "      <td>7222270760</td>\n",
       "      <td>https://worcester.craigslist.org/cto/d/west-br...</td>\n",
       "      <td>worcester / central MA</td>\n",
       "      <td>https://worcester.craigslist.org</td>\n",
       "      <td>1500</td>\n",
       "      <td>NaN</td>\n",
       "      <td>NaN</td>\n",
       "      <td>NaN</td>\n",
       "      <td>NaN</td>\n",
       "      <td>NaN</td>\n",
       "      <td>NaN</td>\n",
       "      <td>NaN</td>\n",
       "      <td>NaN</td>\n",
       "      <td>NaN</td>\n",
       "      <td>NaN</td>\n",
       "      <td>NaN</td>\n",
       "      <td>NaN</td>\n",
       "      <td>NaN</td>\n",
       "      <td>NaN</td>\n",
       "      <td>NaN</td>\n",
       "      <td>NaN</td>\n",
       "      <td>NaN</td>\n",
       "      <td>ma</td>\n",
       "      <td>NaN</td>\n",
       "      <td>NaN</td>\n",
       "      <td>NaN</td>\n",
       "    </tr>\n",
       "    <tr>\n",
       "      <th>4</th>\n",
       "      <td>7210384030</td>\n",
       "      <td>https://greensboro.craigslist.org/cto/d/trinit...</td>\n",
       "      <td>greensboro</td>\n",
       "      <td>https://greensboro.craigslist.org</td>\n",
       "      <td>4900</td>\n",
       "      <td>NaN</td>\n",
       "      <td>NaN</td>\n",
       "      <td>NaN</td>\n",
       "      <td>NaN</td>\n",
       "      <td>NaN</td>\n",
       "      <td>NaN</td>\n",
       "      <td>NaN</td>\n",
       "      <td>NaN</td>\n",
       "      <td>NaN</td>\n",
       "      <td>NaN</td>\n",
       "      <td>NaN</td>\n",
       "      <td>NaN</td>\n",
       "      <td>NaN</td>\n",
       "      <td>NaN</td>\n",
       "      <td>NaN</td>\n",
       "      <td>NaN</td>\n",
       "      <td>NaN</td>\n",
       "      <td>nc</td>\n",
       "      <td>NaN</td>\n",
       "      <td>NaN</td>\n",
       "      <td>NaN</td>\n",
       "    </tr>\n",
       "  </tbody>\n",
       "</table>\n",
       "</div>"
      ],
      "text/plain": [
       "           id                                                url  \\\n",
       "0  7222695916  https://prescott.craigslist.org/cto/d/prescott...   \n",
       "1  7218891961  https://fayar.craigslist.org/ctd/d/bentonville...   \n",
       "2  7221797935  https://keys.craigslist.org/cto/d/summerland-k...   \n",
       "3  7222270760  https://worcester.craigslist.org/cto/d/west-br...   \n",
       "4  7210384030  https://greensboro.craigslist.org/cto/d/trinit...   \n",
       "\n",
       "                   region                         region_url  price  year  \\\n",
       "0                prescott    https://prescott.craigslist.org   6000   NaN   \n",
       "1            fayetteville       https://fayar.craigslist.org  11900   NaN   \n",
       "2            florida keys        https://keys.craigslist.org  21000   NaN   \n",
       "3  worcester / central MA   https://worcester.craigslist.org   1500   NaN   \n",
       "4              greensboro  https://greensboro.craigslist.org   4900   NaN   \n",
       "\n",
       "  manufacturer model condition cylinders fuel  odometer title_status  \\\n",
       "0          NaN   NaN       NaN       NaN  NaN       NaN          NaN   \n",
       "1          NaN   NaN       NaN       NaN  NaN       NaN          NaN   \n",
       "2          NaN   NaN       NaN       NaN  NaN       NaN          NaN   \n",
       "3          NaN   NaN       NaN       NaN  NaN       NaN          NaN   \n",
       "4          NaN   NaN       NaN       NaN  NaN       NaN          NaN   \n",
       "\n",
       "  transmission  VIN drive size type paint_color image_url description  county  \\\n",
       "0          NaN  NaN   NaN  NaN  NaN         NaN       NaN         NaN     NaN   \n",
       "1          NaN  NaN   NaN  NaN  NaN         NaN       NaN         NaN     NaN   \n",
       "2          NaN  NaN   NaN  NaN  NaN         NaN       NaN         NaN     NaN   \n",
       "3          NaN  NaN   NaN  NaN  NaN         NaN       NaN         NaN     NaN   \n",
       "4          NaN  NaN   NaN  NaN  NaN         NaN       NaN         NaN     NaN   \n",
       "\n",
       "  state  lat  long posting_date  \n",
       "0    az  NaN   NaN          NaN  \n",
       "1    ar  NaN   NaN          NaN  \n",
       "2    fl  NaN   NaN          NaN  \n",
       "3    ma  NaN   NaN          NaN  \n",
       "4    nc  NaN   NaN          NaN  "
      ]
     },
     "execution_count": 2,
     "metadata": {},
     "output_type": "execute_result"
    }
   ],
   "source": [
    "raw_data = pd.read_csv('vehicles.csv')\n",
    "raw_data.head()"
   ]
  },
  {
   "cell_type": "code",
   "execution_count": 3,
   "id": "85e0c2e6",
   "metadata": {},
   "outputs": [
    {
     "data": {
      "text/plain": [
       "(341504, 26)"
      ]
     },
     "execution_count": 3,
     "metadata": {},
     "output_type": "execute_result"
    }
   ],
   "source": [
    "train_set, test_set = train_test_split(raw_data, test_size = 0.2, random_state = 42)\n",
    "train_set.shape"
   ]
  },
  {
   "cell_type": "markdown",
   "id": "cb29e466",
   "metadata": {},
   "source": [
    "# Data Preprocessing"
   ]
  },
  {
   "cell_type": "markdown",
   "id": "20d2777b",
   "metadata": {},
   "source": [
    "## Dropping unnecessary features"
   ]
  },
  {
   "cell_type": "code",
   "execution_count": 4,
   "id": "171a0a59",
   "metadata": {},
   "outputs": [],
   "source": [
    "# From the raw data, we can already spot some features that will not help us with our analysis\n",
    "to_drop = ['url', 'region_url', 'VIN','image_url']"
   ]
  },
  {
   "cell_type": "code",
   "execution_count": 5,
   "id": "0ddfb6cf",
   "metadata": {},
   "outputs": [
    {
     "data": {
      "text/html": [
       "<div>\n",
       "<style scoped>\n",
       "    .dataframe tbody tr th:only-of-type {\n",
       "        vertical-align: middle;\n",
       "    }\n",
       "\n",
       "    .dataframe tbody tr th {\n",
       "        vertical-align: top;\n",
       "    }\n",
       "\n",
       "    .dataframe thead th {\n",
       "        text-align: right;\n",
       "    }\n",
       "</style>\n",
       "<table border=\"1\" class=\"dataframe\">\n",
       "  <thead>\n",
       "    <tr style=\"text-align: right;\">\n",
       "      <th></th>\n",
       "      <th>id</th>\n",
       "      <th>url</th>\n",
       "      <th>region</th>\n",
       "      <th>region_url</th>\n",
       "      <th>price</th>\n",
       "      <th>year</th>\n",
       "      <th>manufacturer</th>\n",
       "      <th>model</th>\n",
       "      <th>condition</th>\n",
       "      <th>cylinders</th>\n",
       "      <th>fuel</th>\n",
       "      <th>odometer</th>\n",
       "      <th>title_status</th>\n",
       "      <th>transmission</th>\n",
       "      <th>VIN</th>\n",
       "      <th>drive</th>\n",
       "      <th>size</th>\n",
       "      <th>type</th>\n",
       "      <th>paint_color</th>\n",
       "      <th>image_url</th>\n",
       "      <th>description</th>\n",
       "      <th>county</th>\n",
       "      <th>state</th>\n",
       "      <th>lat</th>\n",
       "      <th>long</th>\n",
       "      <th>posting_date</th>\n",
       "    </tr>\n",
       "  </thead>\n",
       "  <tbody>\n",
       "    <tr>\n",
       "      <th>366318</th>\n",
       "      <td>7310804917</td>\n",
       "      <td>https://austin.craigslist.org/ctd/d/houston-20...</td>\n",
       "      <td>austin</td>\n",
       "      <td>https://austin.craigslist.org</td>\n",
       "      <td>46995</td>\n",
       "      <td>2017.00</td>\n",
       "      <td>ford</td>\n",
       "      <td>f-150</td>\n",
       "      <td>NaN</td>\n",
       "      <td>8 cylinders</td>\n",
       "      <td>gas</td>\n",
       "      <td>48544.00</td>\n",
       "      <td>clean</td>\n",
       "      <td>automatic</td>\n",
       "      <td>1FTEW1EFXHKC11214</td>\n",
       "      <td>4wd</td>\n",
       "      <td>NaN</td>\n",
       "      <td>truck</td>\n",
       "      <td>black</td>\n",
       "      <td>https://images.craigslist.org/00202_fA8s718RZU...</td>\n",
       "      <td>This 2017 Ford F-150 Lariat 4WD SuperCrew 5.5'...</td>\n",
       "      <td>NaN</td>\n",
       "      <td>tx</td>\n",
       "      <td>29.68</td>\n",
       "      <td>-95.44</td>\n",
       "      <td>2021-04-22T09:03:58-0500</td>\n",
       "    </tr>\n",
       "  </tbody>\n",
       "</table>\n",
       "</div>"
      ],
      "text/plain": [
       "                id                                                url  region  \\\n",
       "366318  7310804917  https://austin.craigslist.org/ctd/d/houston-20...  austin   \n",
       "\n",
       "                           region_url  price    year manufacturer  model  \\\n",
       "366318  https://austin.craigslist.org  46995 2017.00         ford  f-150   \n",
       "\n",
       "       condition    cylinders fuel  odometer title_status transmission  \\\n",
       "366318       NaN  8 cylinders  gas  48544.00        clean    automatic   \n",
       "\n",
       "                      VIN drive size   type paint_color  \\\n",
       "366318  1FTEW1EFXHKC11214   4wd  NaN  truck       black   \n",
       "\n",
       "                                                image_url  \\\n",
       "366318  https://images.craigslist.org/00202_fA8s718RZU...   \n",
       "\n",
       "                                              description  county state   lat  \\\n",
       "366318  This 2017 Ford F-150 Lariat 4WD SuperCrew 5.5'...     NaN    tx 29.68   \n",
       "\n",
       "         long              posting_date  \n",
       "366318 -95.44  2021-04-22T09:03:58-0500  "
      ]
     },
     "execution_count": 5,
     "metadata": {},
     "output_type": "execute_result"
    }
   ],
   "source": [
    "df0 = train_set.copy()\n",
    "df0.head(1)"
   ]
  },
  {
   "cell_type": "markdown",
   "id": "2fb7d6c0",
   "metadata": {},
   "source": [
    "### ID"
   ]
  },
  {
   "cell_type": "code",
   "execution_count": 6,
   "id": "12ca454d",
   "metadata": {},
   "outputs": [
    {
     "data": {
      "text/plain": [
       "True"
      ]
     },
     "execution_count": 6,
     "metadata": {},
     "output_type": "execute_result"
    }
   ],
   "source": [
    "# Confirming there is one distinct id per row\n",
    "len(df0) == len(set(df0.id))"
   ]
  },
  {
   "cell_type": "code",
   "execution_count": 7,
   "id": "115b1767",
   "metadata": {},
   "outputs": [],
   "source": [
    "to_drop.append('id')"
   ]
  },
  {
   "cell_type": "markdown",
   "id": "fe373b2a",
   "metadata": {},
   "source": [
    "### Description"
   ]
  },
  {
   "cell_type": "code",
   "execution_count": 8,
   "id": "f6a4dbe5",
   "metadata": {},
   "outputs": [
    {
     "data": {
      "text/plain": [
       "366318    This 2017 Ford F-150 Lariat 4WD SuperCrew 5.5'...\n",
       "56271     Coachella Valley Volkswagen        STOCK #:  P...\n",
       "264620    2016 Ford F-250 Super Duty XL 4x4 4dr Crew Cab...\n",
       "88787     2021 WOLF ISLANDER 50CC     Offered by: Beyond...\n",
       "341412    Carvana is the safer way to buy a car During t...\n",
       "Name: description, dtype: object"
      ]
     },
     "execution_count": 8,
     "metadata": {},
     "output_type": "execute_result"
    }
   ],
   "source": [
    "# We do not have any data on purchases, so we cannot know how descriptions could affect buyers' decisions\n",
    "# Moreover, there are descriptions that seem like spam, however, we cannot be sure\n",
    "df0.description.head(5)"
   ]
  },
  {
   "cell_type": "code",
   "execution_count": 9,
   "id": "69470471",
   "metadata": {},
   "outputs": [],
   "source": [
    "to_drop.append('description')"
   ]
  },
  {
   "cell_type": "markdown",
   "id": "c8f31d89",
   "metadata": {},
   "source": [
    "### Posting date"
   ]
  },
  {
   "cell_type": "code",
   "execution_count": 10,
   "id": "88d19969",
   "metadata": {},
   "outputs": [
    {
     "name": "stdout",
     "output_type": "stream",
     "text": [
      "2021-04-04 03:01:16-04:00\n",
      "2021-05-04 23:24:09-05:00\n"
     ]
    }
   ],
   "source": [
    "# All offers on the dataset seem to have been posted in a month --between 2021-04-04 and 2021-05-04\n",
    "# Therefore, no real analysis can be made about prices and a possible seasonal effect\n",
    "df0.posting_date = pd.to_datetime(df0.posting_date, infer_datetime_format = True)\n",
    "print(df0[df0.posting_date.isna() == False].posting_date.min())\n",
    "print(df0[df0.posting_date.isna() == False].posting_date.max())"
   ]
  },
  {
   "cell_type": "code",
   "execution_count": 11,
   "id": "26429da4",
   "metadata": {},
   "outputs": [
    {
     "data": {
      "image/png": "[encoded data removed]",
      "text/plain": [
       "<Figure size 640x480 with 1 Axes>"
      ]
     },
     "metadata": {},
     "output_type": "display_data"
    }
   ],
   "source": [
    "# We can only know that most offers were posted during the second half of the 4 weeks period\n",
    "df0.posting_date.hist(bins = 4)\n",
    "plt.xticks(rotation=45)\n",
    "plt.show()"
   ]
  },
  {
   "cell_type": "code",
   "execution_count": 12,
   "id": "a52f5fca",
   "metadata": {},
   "outputs": [],
   "source": [
    "to_drop.append('posting_date')"
   ]
  },
  {
   "cell_type": "markdown",
   "id": "1cfecde8",
   "metadata": {},
   "source": [
    "### Checking nulls"
   ]
  },
  {
   "cell_type": "code",
   "execution_count": 13,
   "id": "6a523247",
   "metadata": {},
   "outputs": [
    {
     "data": {
      "text/plain": [
       "size      71.73\n",
       "county   100.00\n",
       "dtype: float64"
      ]
     },
     "execution_count": 13,
     "metadata": {},
     "output_type": "execute_result"
    }
   ],
   "source": [
    "df0.isnull().sum()[df0.isnull().sum() / len(df0) > 0.5] / len(df0) * 100"
   ]
  },
  {
   "cell_type": "code",
   "execution_count": 14,
   "id": "010ef312",
   "metadata": {},
   "outputs": [
    {
     "data": {
      "text/plain": [
       "['url',\n",
       " 'region_url',\n",
       " 'VIN',\n",
       " 'image_url',\n",
       " 'id',\n",
       " 'description',\n",
       " 'posting_date',\n",
       " 'county',\n",
       " 'size']"
      ]
     },
     "execution_count": 14,
     "metadata": {},
     "output_type": "execute_result"
    }
   ],
   "source": [
    "# We can see that 'County' is empty --has 100% of null values-- & 'Size' contains around 70% of null values\n",
    "to_drop.extend(['county', 'size'])\n",
    "to_drop"
   ]
  },
  {
   "cell_type": "markdown",
   "id": "c4a16903",
   "metadata": {},
   "source": [
    "### Dropping features"
   ]
  },
  {
   "cell_type": "code",
   "execution_count": 15,
   "id": "cf43f73d",
   "metadata": {},
   "outputs": [
    {
     "name": "stdout",
     "output_type": "stream",
     "text": [
      "9 features dropped:\n",
      "\t(['url', 'region_url', 'VIN', 'image_url', 'id', 'description', 'posting_date', 'county', 'size'])\n"
     ]
    }
   ],
   "source": [
    "# To keep tracked of features dropped\n",
    "features_dropped = []\n",
    "features_dropped.extend(to_drop)\n",
    "\n",
    "# Dropping identified features\n",
    "df1 = df0.drop(to_drop, axis = 1)\n",
    "print(f'{len(to_drop)} features dropped:\\n\\t({to_drop})')"
   ]
  },
  {
   "cell_type": "markdown",
   "id": "a2ffb611",
   "metadata": {},
   "source": [
    "# Exploring remaining features"
   ]
  },
  {
   "cell_type": "markdown",
   "id": "cede9dab",
   "metadata": {},
   "source": [
    "## Price"
   ]
  },
  {
   "cell_type": "code",
   "execution_count": 16,
   "id": "dc58b6a6",
   "metadata": {},
   "outputs": [
    {
     "data": {
      "text/plain": [
       "count       341504.00\n",
       "mean         57185.22\n",
       "std        9361777.68\n",
       "min              0.00\n",
       "25%           5900.00\n",
       "50%          13950.00\n",
       "75%          26288.50\n",
       "max     3736928711.00\n",
       "Name: price, dtype: float64"
      ]
     },
     "execution_count": 16,
     "metadata": {},
     "output_type": "execute_result"
    }
   ],
   "source": [
    "df1.price.describe()"
   ]
  },
  {
   "cell_type": "code",
   "execution_count": 17,
   "id": "439a0ce8",
   "metadata": {},
   "outputs": [
    {
     "name": "stdout",
     "output_type": "stream",
     "text": [
      "q3-q2: 12338\n",
      "q2-q1: 8050\n"
     ]
    }
   ],
   "source": [
    "print('q3-q2: ' + str(26288-13950) + '\\nq2-q1: ' + str(13950-5900) )"
   ]
  },
  {
   "cell_type": "code",
   "execution_count": 18,
   "id": "d3207b11",
   "metadata": {},
   "outputs": [
    {
     "data": {
      "image/png": "[encoded data removed]",
      "text/plain": [
       "<Figure size 500x300 with 1 Axes>"
      ]
     },
     "metadata": {},
     "output_type": "display_data"
    }
   ],
   "source": [
    "plt.figure(figsize = (5,3))\n",
    "sns.boxplot(x = df1.price)\n",
    "plt.title('Boxplot of price')\n",
    "plt.show()"
   ]
  },
  {
   "cell_type": "markdown",
   "id": "84b3b338",
   "metadata": {},
   "source": [
    "### Mean, Median & Distribution (skewness)"
   ]
  },
  {
   "cell_type": "code",
   "execution_count": 19,
   "id": "d50d0b38",
   "metadata": {},
   "outputs": [
    {
     "data": {
      "text/plain": [
       "13950.0"
      ]
     },
     "execution_count": 19,
     "metadata": {},
     "output_type": "execute_result"
    }
   ],
   "source": [
    "df1.price.median()"
   ]
  },
  {
   "cell_type": "code",
   "execution_count": 20,
   "id": "bf76e892",
   "metadata": {},
   "outputs": [
    {
     "data": {
      "text/plain": [
       "43235.22"
      ]
     },
     "execution_count": 20,
     "metadata": {},
     "output_type": "execute_result"
    }
   ],
   "source": [
    "round(df1.price.mean() - df1.price.median(), 2)"
   ]
  },
  {
   "cell_type": "markdown",
   "id": "986916b3",
   "metadata": {},
   "source": [
    "When the **mean** is higher than the **median** this generally implies that the distribution is \"Right-Skewed\""
   ]
  },
  {
   "cell_type": "code",
   "execution_count": 21,
   "id": "a83c0b48",
   "metadata": {},
   "outputs": [
    {
     "data": {
      "image/png": "[encoded data removed]",
      "text/plain": [
       "<Figure size 500x300 with 1 Axes>"
      ]
     },
     "metadata": {},
     "output_type": "display_data"
    }
   ],
   "source": [
    "plt.figure(figsize = (5,3))\n",
    "plt.hist(df1.price)\n",
    "plt.title('Price distribution')\n",
    "plt.show()"
   ]
  },
  {
   "cell_type": "markdown",
   "id": "bc71c9f9",
   "metadata": {},
   "source": [
    "### Analysis on 'Price'"
   ]
  },
  {
   "cell_type": "markdown",
   "id": "ae8aece3",
   "metadata": {},
   "source": [
    "There are clearly some problems with the 'Price' feature:\n",
    "* Clear presence of outliers\n",
    "* **Max price** is 3,736,928,711 \n",
    "    * The most expensive car ever sold was sold in 2018 for \\$48.4 millions at an auction\n",
    "    * The most expensive car, oficially, has a tag price of \\$18.7 millions after taxtes\n",
    "* **Min price** is 0\n",
    "    * No car is going to be \"sold\" at \\$0 \n",
    "    * It is more difficult to know exactly the minimum price at which a car can be sold, but it is rare to see a car selling for less than \\\\$800 to \\$1,000."
   ]
  },
  {
   "cell_type": "markdown",
   "id": "162c0b5f",
   "metadata": {},
   "source": [
    "### Fixing 'Price'\n",
    "The objective of this project is to accurately predict the price of a used car. However, as it stands, the dataset contains noise that must be filtered out before modeling. Indeed, even if the 'Price' will be the target, we do not want to predict for a car that should be sold at impossible values.\n",
    "\n",
    "75% of the data seem to be below \\\\$26,288.5, so a very conventional range for price, which will still include some outliers that could be encountered with real world data, could be between \\\\$1,000 and \\$70,000"
   ]
  },
  {
   "cell_type": "code",
   "execution_count": 22,
   "id": "32b747fa",
   "metadata": {},
   "outputs": [
    {
     "name": "stdout",
     "output_type": "stream",
     "text": [
      "39672 rows will be dropped, this is 12% of the dataset\n"
     ]
    }
   ],
   "source": [
    "filtered_data = df1[(df1.price > 1000) & (df1.price <= 70000)]\n",
    "dropped_data = df1[(df1.price < 1000) | (df1.price > 70000)].index\n",
    "print(f'{len(dropped_data)} rows will be dropped, this is {round(len(dropped_data)/len(df1)*100)}% of the dataset')"
   ]
  },
  {
   "cell_type": "code",
   "execution_count": 23,
   "id": "f0c8aae0",
   "metadata": {},
   "outputs": [
    {
     "data": {
      "image/png": "[encoded data removed]",
      "text/plain": [
       "<Figure size 500x300 with 1 Axes>"
      ]
     },
     "metadata": {},
     "output_type": "display_data"
    }
   ],
   "source": [
    "plt.figure(figsize = (5,3))\n",
    "sns.boxplot(x = filtered_data.price)\n",
    "plt.title('Boxplot of price')\n",
    "plt.show()"
   ]
  },
  {
   "cell_type": "code",
   "execution_count": 24,
   "id": "fc3c6f89",
   "metadata": {},
   "outputs": [
    {
     "data": {
      "text/html": [
       "<div>\n",
       "<style scoped>\n",
       "    .dataframe tbody tr th:only-of-type {\n",
       "        vertical-align: middle;\n",
       "    }\n",
       "\n",
       "    .dataframe tbody tr th {\n",
       "        vertical-align: top;\n",
       "    }\n",
       "\n",
       "    .dataframe thead th {\n",
       "        text-align: right;\n",
       "    }\n",
       "</style>\n",
       "<table border=\"1\" class=\"dataframe\">\n",
       "  <thead>\n",
       "    <tr style=\"text-align: right;\">\n",
       "      <th></th>\n",
       "      <th>region</th>\n",
       "      <th>price</th>\n",
       "      <th>year</th>\n",
       "      <th>manufacturer</th>\n",
       "      <th>model</th>\n",
       "      <th>condition</th>\n",
       "      <th>cylinders</th>\n",
       "      <th>fuel</th>\n",
       "      <th>odometer</th>\n",
       "      <th>title_status</th>\n",
       "      <th>transmission</th>\n",
       "      <th>drive</th>\n",
       "      <th>type</th>\n",
       "      <th>paint_color</th>\n",
       "      <th>state</th>\n",
       "      <th>lat</th>\n",
       "      <th>long</th>\n",
       "    </tr>\n",
       "  </thead>\n",
       "  <tbody>\n",
       "    <tr>\n",
       "      <th>0</th>\n",
       "      <td>austin</td>\n",
       "      <td>46995</td>\n",
       "      <td>2017.00</td>\n",
       "      <td>ford</td>\n",
       "      <td>f-150</td>\n",
       "      <td>NaN</td>\n",
       "      <td>8 cylinders</td>\n",
       "      <td>gas</td>\n",
       "      <td>48544.00</td>\n",
       "      <td>clean</td>\n",
       "      <td>automatic</td>\n",
       "      <td>4wd</td>\n",
       "      <td>truck</td>\n",
       "      <td>black</td>\n",
       "      <td>tx</td>\n",
       "      <td>29.68</td>\n",
       "      <td>-95.44</td>\n",
       "    </tr>\n",
       "    <tr>\n",
       "      <th>1</th>\n",
       "      <td>albany</td>\n",
       "      <td>36900</td>\n",
       "      <td>2016.00</td>\n",
       "      <td>ford</td>\n",
       "      <td>f-250 super duty</td>\n",
       "      <td>excellent</td>\n",
       "      <td>8 cylinders</td>\n",
       "      <td>gas</td>\n",
       "      <td>73394.00</td>\n",
       "      <td>clean</td>\n",
       "      <td>automatic</td>\n",
       "      <td>4wd</td>\n",
       "      <td>truck</td>\n",
       "      <td>white</td>\n",
       "      <td>ny</td>\n",
       "      <td>42.48</td>\n",
       "      <td>-73.38</td>\n",
       "    </tr>\n",
       "    <tr>\n",
       "      <th>2</th>\n",
       "      <td>washington, DC</td>\n",
       "      <td>1399</td>\n",
       "      <td>2021.00</td>\n",
       "      <td>NaN</td>\n",
       "      <td>WOLF ISLANDER</td>\n",
       "      <td>NaN</td>\n",
       "      <td>NaN</td>\n",
       "      <td>gas</td>\n",
       "      <td>500.00</td>\n",
       "      <td>clean</td>\n",
       "      <td>automatic</td>\n",
       "      <td>NaN</td>\n",
       "      <td>other</td>\n",
       "      <td>orange</td>\n",
       "      <td>dc</td>\n",
       "      <td>38.76</td>\n",
       "      <td>-77.45</td>\n",
       "    </tr>\n",
       "    <tr>\n",
       "      <th>3</th>\n",
       "      <td>york</td>\n",
       "      <td>29590</td>\n",
       "      <td>2018.00</td>\n",
       "      <td>buick</td>\n",
       "      <td>enclave essence sport</td>\n",
       "      <td>good</td>\n",
       "      <td>6 cylinders</td>\n",
       "      <td>gas</td>\n",
       "      <td>38459.00</td>\n",
       "      <td>clean</td>\n",
       "      <td>other</td>\n",
       "      <td>fwd</td>\n",
       "      <td>SUV</td>\n",
       "      <td>white</td>\n",
       "      <td>pa</td>\n",
       "      <td>39.96</td>\n",
       "      <td>-76.73</td>\n",
       "    </tr>\n",
       "    <tr>\n",
       "      <th>4</th>\n",
       "      <td>lafayette / west lafayette</td>\n",
       "      <td>7950</td>\n",
       "      <td>2008.00</td>\n",
       "      <td>ford</td>\n",
       "      <td>f150 fx/2 sport</td>\n",
       "      <td>excellent</td>\n",
       "      <td>8 cylinders</td>\n",
       "      <td>gas</td>\n",
       "      <td>173267.00</td>\n",
       "      <td>clean</td>\n",
       "      <td>automatic</td>\n",
       "      <td>rwd</td>\n",
       "      <td>pickup</td>\n",
       "      <td>black</td>\n",
       "      <td>in</td>\n",
       "      <td>40.14</td>\n",
       "      <td>-87.62</td>\n",
       "    </tr>\n",
       "  </tbody>\n",
       "</table>\n",
       "</div>"
      ],
      "text/plain": [
       "                       region  price    year manufacturer  \\\n",
       "0                      austin  46995 2017.00         ford   \n",
       "1                      albany  36900 2016.00         ford   \n",
       "2              washington, DC   1399 2021.00          NaN   \n",
       "3                        york  29590 2018.00        buick   \n",
       "4  lafayette / west lafayette   7950 2008.00         ford   \n",
       "\n",
       "                   model  condition    cylinders fuel  odometer title_status  \\\n",
       "0                  f-150        NaN  8 cylinders  gas  48544.00        clean   \n",
       "1       f-250 super duty  excellent  8 cylinders  gas  73394.00        clean   \n",
       "2          WOLF ISLANDER        NaN          NaN  gas    500.00        clean   \n",
       "3  enclave essence sport       good  6 cylinders  gas  38459.00        clean   \n",
       "4        f150 fx/2 sport  excellent  8 cylinders  gas 173267.00        clean   \n",
       "\n",
       "  transmission drive    type paint_color state   lat   long  \n",
       "0    automatic   4wd   truck       black    tx 29.68 -95.44  \n",
       "1    automatic   4wd   truck       white    ny 42.48 -73.38  \n",
       "2    automatic   NaN   other      orange    dc 38.76 -77.45  \n",
       "3        other   fwd     SUV       white    pa 39.96 -76.73  \n",
       "4    automatic   rwd  pickup       black    in 40.14 -87.62  "
      ]
     },
     "execution_count": 24,
     "metadata": {},
     "output_type": "execute_result"
    }
   ],
   "source": [
    "df2 = df1.drop(dropped_data, axis = 0)\n",
    "df2.reset_index(inplace = True, drop = True)\n",
    "df2.head()"
   ]
  },
  {
   "cell_type": "markdown",
   "id": "6a6c1fd9",
   "metadata": {},
   "source": [
    "## Odometer"
   ]
  },
  {
   "cell_type": "code",
   "execution_count": 25,
   "id": "091d1eeb",
   "metadata": {},
   "outputs": [
    {
     "data": {
      "text/plain": [
       "count     300208.00\n",
       "mean       98560.85\n",
       "std       183347.52\n",
       "min            0.00\n",
       "25%        39082.75\n",
       "50%        88361.00\n",
       "75%       136500.00\n",
       "max     10000000.00\n",
       "Name: odometer, dtype: float64"
      ]
     },
     "execution_count": 25,
     "metadata": {},
     "output_type": "execute_result"
    }
   ],
   "source": [
    "df2.odometer.describe()"
   ]
  },
  {
   "cell_type": "code",
   "execution_count": 26,
   "id": "d3b4edc3",
   "metadata": {},
   "outputs": [
    {
     "data": {
      "image/png": "[encoded data removed]",
      "text/plain": [
       "<Figure size 500x300 with 1 Axes>"
      ]
     },
     "metadata": {},
     "output_type": "display_data"
    }
   ],
   "source": [
    "plt.figure(figsize = (5,3))\n",
    "sns.boxplot(x = df2.odometer)\n",
    "plt.title('Boxplot of odometer')\n",
    "plt.show()"
   ]
  },
  {
   "cell_type": "markdown",
   "id": "75306565",
   "metadata": {},
   "source": [
    "In reality, a car with having more than 1M miles is extremely rare, and the max value does not seem very probable"
   ]
  },
  {
   "cell_type": "code",
   "execution_count": 27,
   "id": "5987fb2f",
   "metadata": {},
   "outputs": [
    {
     "data": {
      "text/plain": [
       "9999999.00     45\n",
       "1000000.00     45\n",
       "10000000.00    20\n",
       "1234567.00     20\n",
       "1111111.00     19\n",
       "               ..\n",
       "1547940.00      1\n",
       "2251212.00      1\n",
       "1200290.00      1\n",
       "7465644.00      1\n",
       "1582919.00      1\n",
       "Name: odometer, Length: 153, dtype: int64"
      ]
     },
     "execution_count": 27,
     "metadata": {},
     "output_type": "execute_result"
    }
   ],
   "source": [
    "# Moreover, we can see that many values seem made up '9999999', '1234567', ...\n",
    "df2[df2.odometer >= 1000000].odometer.value_counts()"
   ]
  },
  {
   "cell_type": "code",
   "execution_count": 28,
   "id": "02dab483",
   "metadata": {},
   "outputs": [
    {
     "name": "stdout",
     "output_type": "stream",
     "text": [
      "345 rows will be dropped, this is 0% of the dataset\n"
     ]
    }
   ],
   "source": [
    "filtered_data = df2[df2.odometer < 1000000]\n",
    "dropped_data = df2[df2.odometer >= 1000000].index\n",
    "print(f'{len(dropped_data)} rows will be dropped, this is {round(len(dropped_data)/len(df2)*100)}% of the dataset')"
   ]
  },
  {
   "cell_type": "code",
   "execution_count": 29,
   "id": "e54ac337",
   "metadata": {},
   "outputs": [
    {
     "data": {
      "image/png": "[encoded data removed]",
      "text/plain": [
       "<Figure size 500x300 with 1 Axes>"
      ]
     },
     "metadata": {},
     "output_type": "display_data"
    }
   ],
   "source": [
    "plt.figure(figsize = (5,3))\n",
    "sns.boxplot(x = filtered_data.odometer)\n",
    "plt.title('Boxplot of odometer')\n",
    "plt.show()"
   ]
  },
  {
   "cell_type": "code",
   "execution_count": 30,
   "id": "80db0f07",
   "metadata": {},
   "outputs": [
    {
     "data": {
      "text/html": [
       "<div>\n",
       "<style scoped>\n",
       "    .dataframe tbody tr th:only-of-type {\n",
       "        vertical-align: middle;\n",
       "    }\n",
       "\n",
       "    .dataframe tbody tr th {\n",
       "        vertical-align: top;\n",
       "    }\n",
       "\n",
       "    .dataframe thead th {\n",
       "        text-align: right;\n",
       "    }\n",
       "</style>\n",
       "<table border=\"1\" class=\"dataframe\">\n",
       "  <thead>\n",
       "    <tr style=\"text-align: right;\">\n",
       "      <th></th>\n",
       "      <th>region</th>\n",
       "      <th>price</th>\n",
       "      <th>year</th>\n",
       "      <th>manufacturer</th>\n",
       "      <th>model</th>\n",
       "      <th>condition</th>\n",
       "      <th>cylinders</th>\n",
       "      <th>fuel</th>\n",
       "      <th>odometer</th>\n",
       "      <th>title_status</th>\n",
       "      <th>transmission</th>\n",
       "      <th>drive</th>\n",
       "      <th>type</th>\n",
       "      <th>paint_color</th>\n",
       "      <th>state</th>\n",
       "      <th>lat</th>\n",
       "      <th>long</th>\n",
       "    </tr>\n",
       "  </thead>\n",
       "  <tbody>\n",
       "    <tr>\n",
       "      <th>0</th>\n",
       "      <td>austin</td>\n",
       "      <td>46995</td>\n",
       "      <td>2017.00</td>\n",
       "      <td>ford</td>\n",
       "      <td>f-150</td>\n",
       "      <td>NaN</td>\n",
       "      <td>8 cylinders</td>\n",
       "      <td>gas</td>\n",
       "      <td>48544.00</td>\n",
       "      <td>clean</td>\n",
       "      <td>automatic</td>\n",
       "      <td>4wd</td>\n",
       "      <td>truck</td>\n",
       "      <td>black</td>\n",
       "      <td>tx</td>\n",
       "      <td>29.68</td>\n",
       "      <td>-95.44</td>\n",
       "    </tr>\n",
       "    <tr>\n",
       "      <th>1</th>\n",
       "      <td>albany</td>\n",
       "      <td>36900</td>\n",
       "      <td>2016.00</td>\n",
       "      <td>ford</td>\n",
       "      <td>f-250 super duty</td>\n",
       "      <td>excellent</td>\n",
       "      <td>8 cylinders</td>\n",
       "      <td>gas</td>\n",
       "      <td>73394.00</td>\n",
       "      <td>clean</td>\n",
       "      <td>automatic</td>\n",
       "      <td>4wd</td>\n",
       "      <td>truck</td>\n",
       "      <td>white</td>\n",
       "      <td>ny</td>\n",
       "      <td>42.48</td>\n",
       "      <td>-73.38</td>\n",
       "    </tr>\n",
       "    <tr>\n",
       "      <th>2</th>\n",
       "      <td>washington, DC</td>\n",
       "      <td>1399</td>\n",
       "      <td>2021.00</td>\n",
       "      <td>NaN</td>\n",
       "      <td>WOLF ISLANDER</td>\n",
       "      <td>NaN</td>\n",
       "      <td>NaN</td>\n",
       "      <td>gas</td>\n",
       "      <td>500.00</td>\n",
       "      <td>clean</td>\n",
       "      <td>automatic</td>\n",
       "      <td>NaN</td>\n",
       "      <td>other</td>\n",
       "      <td>orange</td>\n",
       "      <td>dc</td>\n",
       "      <td>38.76</td>\n",
       "      <td>-77.45</td>\n",
       "    </tr>\n",
       "    <tr>\n",
       "      <th>3</th>\n",
       "      <td>york</td>\n",
       "      <td>29590</td>\n",
       "      <td>2018.00</td>\n",
       "      <td>buick</td>\n",
       "      <td>enclave essence sport</td>\n",
       "      <td>good</td>\n",
       "      <td>6 cylinders</td>\n",
       "      <td>gas</td>\n",
       "      <td>38459.00</td>\n",
       "      <td>clean</td>\n",
       "      <td>other</td>\n",
       "      <td>fwd</td>\n",
       "      <td>SUV</td>\n",
       "      <td>white</td>\n",
       "      <td>pa</td>\n",
       "      <td>39.96</td>\n",
       "      <td>-76.73</td>\n",
       "    </tr>\n",
       "    <tr>\n",
       "      <th>4</th>\n",
       "      <td>lafayette / west lafayette</td>\n",
       "      <td>7950</td>\n",
       "      <td>2008.00</td>\n",
       "      <td>ford</td>\n",
       "      <td>f150 fx/2 sport</td>\n",
       "      <td>excellent</td>\n",
       "      <td>8 cylinders</td>\n",
       "      <td>gas</td>\n",
       "      <td>173267.00</td>\n",
       "      <td>clean</td>\n",
       "      <td>automatic</td>\n",
       "      <td>rwd</td>\n",
       "      <td>pickup</td>\n",
       "      <td>black</td>\n",
       "      <td>in</td>\n",
       "      <td>40.14</td>\n",
       "      <td>-87.62</td>\n",
       "    </tr>\n",
       "  </tbody>\n",
       "</table>\n",
       "</div>"
      ],
      "text/plain": [
       "                       region  price    year manufacturer  \\\n",
       "0                      austin  46995 2017.00         ford   \n",
       "1                      albany  36900 2016.00         ford   \n",
       "2              washington, DC   1399 2021.00          NaN   \n",
       "3                        york  29590 2018.00        buick   \n",
       "4  lafayette / west lafayette   7950 2008.00         ford   \n",
       "\n",
       "                   model  condition    cylinders fuel  odometer title_status  \\\n",
       "0                  f-150        NaN  8 cylinders  gas  48544.00        clean   \n",
       "1       f-250 super duty  excellent  8 cylinders  gas  73394.00        clean   \n",
       "2          WOLF ISLANDER        NaN          NaN  gas    500.00        clean   \n",
       "3  enclave essence sport       good  6 cylinders  gas  38459.00        clean   \n",
       "4        f150 fx/2 sport  excellent  8 cylinders  gas 173267.00        clean   \n",
       "\n",
       "  transmission drive    type paint_color state   lat   long  \n",
       "0    automatic   4wd   truck       black    tx 29.68 -95.44  \n",
       "1    automatic   4wd   truck       white    ny 42.48 -73.38  \n",
       "2    automatic   NaN   other      orange    dc 38.76 -77.45  \n",
       "3        other   fwd     SUV       white    pa 39.96 -76.73  \n",
       "4    automatic   rwd  pickup       black    in 40.14 -87.62  "
      ]
     },
     "execution_count": 30,
     "metadata": {},
     "output_type": "execute_result"
    }
   ],
   "source": [
    "df3 = df2.drop(dropped_data, axis = 0)\n",
    "df3.reset_index(inplace = True, drop = True)\n",
    "df3.head()"
   ]
  },
  {
   "cell_type": "markdown",
   "id": "5702d977",
   "metadata": {},
   "source": [
    "## Cylinders"
   ]
  },
  {
   "cell_type": "code",
   "execution_count": 31,
   "id": "b37d7bd1",
   "metadata": {},
   "outputs": [
    {
     "data": {
      "text/plain": [
       "6 cylinders     68396\n",
       "4 cylinders     55664\n",
       "8 cylinders     50879\n",
       "5 cylinders      1320\n",
       "10 cylinders      890\n",
       "other             777\n",
       "3 cylinders       452\n",
       "12 cylinders      119\n",
       "Name: cylinders, dtype: int64"
      ]
     },
     "execution_count": 31,
     "metadata": {},
     "output_type": "execute_result"
    }
   ],
   "source": [
    "df3.cylinders.value_counts()"
   ]
  },
  {
   "cell_type": "code",
   "execution_count": 32,
   "id": "3ab74b94",
   "metadata": {},
   "outputs": [
    {
     "data": {
      "text/plain": [
       "6.00     68396\n",
       "4.00     55664\n",
       "8.00     50879\n",
       "5.00      1320\n",
       "10.00      890\n",
       "3.00       452\n",
       "12.00      119\n",
       "Name: cylinders, dtype: int64"
      ]
     },
     "execution_count": 32,
     "metadata": {},
     "output_type": "execute_result"
    }
   ],
   "source": [
    "df4 = df3.copy()\n",
    "df4.cylinders = [float(d) for d in df3.cylinders.str.extract(r'(\\d+)')[0]]\n",
    "df4.cylinders.value_counts()"
   ]
  },
  {
   "cell_type": "markdown",
   "id": "4c3e5c7a",
   "metadata": {},
   "source": [
    "## Model"
   ]
  },
  {
   "cell_type": "code",
   "execution_count": 33,
   "id": "de13aedb",
   "metadata": {},
   "outputs": [
    {
     "data": {
      "text/plain": [
       "f-150                          5449\n",
       "silverado 1500                 3551\n",
       "1500                           2903\n",
       "camry                          2175\n",
       "silverado                      2158\n",
       "                               ... \n",
       "tundra 2wd truck limited          1\n",
       "terrain slt-1 sport utility       1\n",
       "spark ev 1lt hatchback 4d         1\n",
       "dts limo                          1\n",
       "4500 crew cab 4x4                 1\n",
       "Name: model, Length: 23809, dtype: int64"
      ]
     },
     "execution_count": 33,
     "metadata": {},
     "output_type": "execute_result"
    }
   ],
   "source": [
    "df4.model.value_counts()"
   ]
  },
  {
   "cell_type": "markdown",
   "id": "cb83b6c0",
   "metadata": {},
   "source": [
    "\"Model\"  dropped as information not standardized. Same model cars are inputed with different names and many models only appeared once."
   ]
  },
  {
   "cell_type": "code",
   "execution_count": 34,
   "id": "dbc99416",
   "metadata": {},
   "outputs": [],
   "source": [
    "features_dropped.append('model')\n",
    "df4.drop(['model'], axis = 1, inplace = True)"
   ]
  },
  {
   "cell_type": "markdown",
   "id": "b2185fa1",
   "metadata": {},
   "source": [
    "## Condition"
   ]
  },
  {
   "cell_type": "code",
   "execution_count": 35,
   "id": "13dd8ef0",
   "metadata": {},
   "outputs": [
    {
     "data": {
      "text/plain": [
       "good         94341\n",
       "excellent    72982\n",
       "like new     15260\n",
       "fair          4756\n",
       "new            714\n",
       "salvage        332\n",
       "Name: condition, dtype: int64"
      ]
     },
     "execution_count": 35,
     "metadata": {},
     "output_type": "execute_result"
    }
   ],
   "source": [
    "df4.condition.value_counts()"
   ]
  },
  {
   "cell_type": "code",
   "execution_count": 36,
   "id": "221cf023",
   "metadata": {},
   "outputs": [
    {
     "data": {
      "text/html": [
       "<div>\n",
       "<style scoped>\n",
       "    .dataframe tbody tr th:only-of-type {\n",
       "        vertical-align: middle;\n",
       "    }\n",
       "\n",
       "    .dataframe tbody tr th {\n",
       "        vertical-align: top;\n",
       "    }\n",
       "\n",
       "    .dataframe thead th {\n",
       "        text-align: right;\n",
       "    }\n",
       "</style>\n",
       "<table border=\"1\" class=\"dataframe\">\n",
       "  <thead>\n",
       "    <tr style=\"text-align: right;\">\n",
       "      <th></th>\n",
       "      <th>region</th>\n",
       "      <th>price</th>\n",
       "      <th>year</th>\n",
       "      <th>manufacturer</th>\n",
       "      <th>condition</th>\n",
       "      <th>cylinders</th>\n",
       "      <th>fuel</th>\n",
       "      <th>odometer</th>\n",
       "      <th>title_status</th>\n",
       "      <th>transmission</th>\n",
       "      <th>drive</th>\n",
       "      <th>type</th>\n",
       "      <th>paint_color</th>\n",
       "      <th>state</th>\n",
       "      <th>lat</th>\n",
       "      <th>long</th>\n",
       "    </tr>\n",
       "  </thead>\n",
       "  <tbody>\n",
       "    <tr>\n",
       "      <th>0</th>\n",
       "      <td>austin</td>\n",
       "      <td>46995</td>\n",
       "      <td>2017.00</td>\n",
       "      <td>ford</td>\n",
       "      <td>NaN</td>\n",
       "      <td>8.00</td>\n",
       "      <td>gas</td>\n",
       "      <td>48544.00</td>\n",
       "      <td>clean</td>\n",
       "      <td>automatic</td>\n",
       "      <td>4wd</td>\n",
       "      <td>truck</td>\n",
       "      <td>black</td>\n",
       "      <td>tx</td>\n",
       "      <td>29.68</td>\n",
       "      <td>-95.44</td>\n",
       "    </tr>\n",
       "    <tr>\n",
       "      <th>1</th>\n",
       "      <td>albany</td>\n",
       "      <td>36900</td>\n",
       "      <td>2016.00</td>\n",
       "      <td>ford</td>\n",
       "      <td>3.00</td>\n",
       "      <td>8.00</td>\n",
       "      <td>gas</td>\n",
       "      <td>73394.00</td>\n",
       "      <td>clean</td>\n",
       "      <td>automatic</td>\n",
       "      <td>4wd</td>\n",
       "      <td>truck</td>\n",
       "      <td>white</td>\n",
       "      <td>ny</td>\n",
       "      <td>42.48</td>\n",
       "      <td>-73.38</td>\n",
       "    </tr>\n",
       "    <tr>\n",
       "      <th>2</th>\n",
       "      <td>washington, DC</td>\n",
       "      <td>1399</td>\n",
       "      <td>2021.00</td>\n",
       "      <td>NaN</td>\n",
       "      <td>NaN</td>\n",
       "      <td>NaN</td>\n",
       "      <td>gas</td>\n",
       "      <td>500.00</td>\n",
       "      <td>clean</td>\n",
       "      <td>automatic</td>\n",
       "      <td>NaN</td>\n",
       "      <td>other</td>\n",
       "      <td>orange</td>\n",
       "      <td>dc</td>\n",
       "      <td>38.76</td>\n",
       "      <td>-77.45</td>\n",
       "    </tr>\n",
       "  </tbody>\n",
       "</table>\n",
       "</div>"
      ],
      "text/plain": [
       "           region  price    year manufacturer  condition  cylinders fuel  \\\n",
       "0          austin  46995 2017.00         ford        NaN       8.00  gas   \n",
       "1          albany  36900 2016.00         ford       3.00       8.00  gas   \n",
       "2  washington, DC   1399 2021.00          NaN        NaN        NaN  gas   \n",
       "\n",
       "   odometer title_status transmission drive   type paint_color state   lat  \\\n",
       "0  48544.00        clean    automatic   4wd  truck       black    tx 29.68   \n",
       "1  73394.00        clean    automatic   4wd  truck       white    ny 42.48   \n",
       "2    500.00        clean    automatic   NaN  other      orange    dc 38.76   \n",
       "\n",
       "    long  \n",
       "0 -95.44  \n",
       "1 -73.38  \n",
       "2 -77.45  "
      ]
     },
     "execution_count": 36,
     "metadata": {},
     "output_type": "execute_result"
    }
   ],
   "source": [
    "condition_dict = {'salvage':0,\n",
    "                     'fair':1,\n",
    "                     'good':2,\n",
    "                     'excellent':3,\n",
    "                     'like new':4,\n",
    "                     'new':5}\n",
    "\n",
    "df4['condition'] = df3['condition'].replace(condition_dict)\n",
    "df4.head(3)"
   ]
  },
  {
   "cell_type": "code",
   "execution_count": 37,
   "id": "3309d87a",
   "metadata": {},
   "outputs": [
    {
     "data": {
      "text/plain": [
       "2.00    94341\n",
       "3.00    72982\n",
       "4.00    15260\n",
       "1.00     4756\n",
       "5.00      714\n",
       "0.00      332\n",
       "Name: condition, dtype: int64"
      ]
     },
     "execution_count": 37,
     "metadata": {},
     "output_type": "execute_result"
    }
   ],
   "source": [
    "df4.condition.value_counts()"
   ]
  },
  {
   "cell_type": "markdown",
   "id": "66b95ed6",
   "metadata": {},
   "source": [
    "## Fuel"
   ]
  },
  {
   "cell_type": "code",
   "execution_count": 38,
   "id": "c0ea97d0",
   "metadata": {},
   "outputs": [
    {
     "data": {
      "text/plain": [
       "gas         253375\n",
       "other        21618\n",
       "diesel       19448\n",
       "hybrid        3755\n",
       "electric      1248\n",
       "Name: fuel, dtype: int64"
      ]
     },
     "execution_count": 38,
     "metadata": {},
     "output_type": "execute_result"
    }
   ],
   "source": [
    "df4.fuel.value_counts()"
   ]
  },
  {
   "cell_type": "code",
   "execution_count": 39,
   "id": "af1854cb",
   "metadata": {},
   "outputs": [
    {
     "data": {
      "text/html": [
       "<div>\n",
       "<style scoped>\n",
       "    .dataframe tbody tr th:only-of-type {\n",
       "        vertical-align: middle;\n",
       "    }\n",
       "\n",
       "    .dataframe tbody tr th {\n",
       "        vertical-align: top;\n",
       "    }\n",
       "\n",
       "    .dataframe thead th {\n",
       "        text-align: right;\n",
       "    }\n",
       "</style>\n",
       "<table border=\"1\" class=\"dataframe\">\n",
       "  <thead>\n",
       "    <tr style=\"text-align: right;\">\n",
       "      <th></th>\n",
       "      <th>region</th>\n",
       "      <th>price</th>\n",
       "      <th>year</th>\n",
       "      <th>manufacturer</th>\n",
       "      <th>condition</th>\n",
       "      <th>cylinders</th>\n",
       "      <th>fuel_gas</th>\n",
       "      <th>odometer</th>\n",
       "      <th>title_status</th>\n",
       "      <th>transmission</th>\n",
       "      <th>drive</th>\n",
       "      <th>type</th>\n",
       "      <th>paint_color</th>\n",
       "      <th>state</th>\n",
       "      <th>lat</th>\n",
       "      <th>long</th>\n",
       "    </tr>\n",
       "  </thead>\n",
       "  <tbody>\n",
       "    <tr>\n",
       "      <th>0</th>\n",
       "      <td>austin</td>\n",
       "      <td>46995</td>\n",
       "      <td>2017.00</td>\n",
       "      <td>ford</td>\n",
       "      <td>NaN</td>\n",
       "      <td>8.00</td>\n",
       "      <td>1.00</td>\n",
       "      <td>48544.00</td>\n",
       "      <td>clean</td>\n",
       "      <td>automatic</td>\n",
       "      <td>4wd</td>\n",
       "      <td>truck</td>\n",
       "      <td>black</td>\n",
       "      <td>tx</td>\n",
       "      <td>29.68</td>\n",
       "      <td>-95.44</td>\n",
       "    </tr>\n",
       "    <tr>\n",
       "      <th>1</th>\n",
       "      <td>albany</td>\n",
       "      <td>36900</td>\n",
       "      <td>2016.00</td>\n",
       "      <td>ford</td>\n",
       "      <td>3.00</td>\n",
       "      <td>8.00</td>\n",
       "      <td>1.00</td>\n",
       "      <td>73394.00</td>\n",
       "      <td>clean</td>\n",
       "      <td>automatic</td>\n",
       "      <td>4wd</td>\n",
       "      <td>truck</td>\n",
       "      <td>white</td>\n",
       "      <td>ny</td>\n",
       "      <td>42.48</td>\n",
       "      <td>-73.38</td>\n",
       "    </tr>\n",
       "    <tr>\n",
       "      <th>2</th>\n",
       "      <td>washington, DC</td>\n",
       "      <td>1399</td>\n",
       "      <td>2021.00</td>\n",
       "      <td>NaN</td>\n",
       "      <td>NaN</td>\n",
       "      <td>NaN</td>\n",
       "      <td>1.00</td>\n",
       "      <td>500.00</td>\n",
       "      <td>clean</td>\n",
       "      <td>automatic</td>\n",
       "      <td>NaN</td>\n",
       "      <td>other</td>\n",
       "      <td>orange</td>\n",
       "      <td>dc</td>\n",
       "      <td>38.76</td>\n",
       "      <td>-77.45</td>\n",
       "    </tr>\n",
       "  </tbody>\n",
       "</table>\n",
       "</div>"
      ],
      "text/plain": [
       "           region  price    year manufacturer  condition  cylinders  fuel_gas  \\\n",
       "0          austin  46995 2017.00         ford        NaN       8.00      1.00   \n",
       "1          albany  36900 2016.00         ford       3.00       8.00      1.00   \n",
       "2  washington, DC   1399 2021.00          NaN        NaN        NaN      1.00   \n",
       "\n",
       "   odometer title_status transmission drive   type paint_color state   lat  \\\n",
       "0  48544.00        clean    automatic   4wd  truck       black    tx 29.68   \n",
       "1  73394.00        clean    automatic   4wd  truck       white    ny 42.48   \n",
       "2    500.00        clean    automatic   NaN  other      orange    dc 38.76   \n",
       "\n",
       "    long  \n",
       "0 -95.44  \n",
       "1 -73.38  \n",
       "2 -77.45  "
      ]
     },
     "execution_count": 39,
     "metadata": {},
     "output_type": "execute_result"
    }
   ],
   "source": [
    "fuel_dict = {'gas':1,\n",
    "                'other':0,\n",
    "                'diesel':0,\n",
    "                'hybrid':0,\n",
    "                'electric':0}\n",
    "\n",
    "df4['fuel'] = df3['fuel'].replace(fuel_dict)\n",
    "df4.rename(columns = {'fuel':'fuel_gas'}, inplace = True)\n",
    "df4.head(3)"
   ]
  },
  {
   "cell_type": "code",
   "execution_count": 40,
   "id": "e5e472fb",
   "metadata": {},
   "outputs": [
    {
     "data": {
      "text/plain": [
       "1.00    253375\n",
       "0.00     46069\n",
       "Name: fuel_gas, dtype: int64"
      ]
     },
     "execution_count": 40,
     "metadata": {},
     "output_type": "execute_result"
    }
   ],
   "source": [
    "df4.fuel_gas.value_counts()"
   ]
  },
  {
   "cell_type": "markdown",
   "id": "381e84b8",
   "metadata": {},
   "source": [
    "## Title_status"
   ]
  },
  {
   "cell_type": "code",
   "execution_count": 41,
   "id": "954fed4e",
   "metadata": {},
   "outputs": [
    {
     "data": {
      "text/plain": [
       "clean         286196\n",
       "rebuilt         5638\n",
       "salvage         2861\n",
       "lien            1101\n",
       "missing          478\n",
       "parts only        87\n",
       "Name: title_status, dtype: int64"
      ]
     },
     "execution_count": 41,
     "metadata": {},
     "output_type": "execute_result"
    }
   ],
   "source": [
    "df3.title_status.value_counts()"
   ]
  },
  {
   "cell_type": "code",
   "execution_count": 42,
   "id": "67a88be2",
   "metadata": {},
   "outputs": [
    {
     "data": {
      "text/html": [
       "<div>\n",
       "<style scoped>\n",
       "    .dataframe tbody tr th:only-of-type {\n",
       "        vertical-align: middle;\n",
       "    }\n",
       "\n",
       "    .dataframe tbody tr th {\n",
       "        vertical-align: top;\n",
       "    }\n",
       "\n",
       "    .dataframe thead th {\n",
       "        text-align: right;\n",
       "    }\n",
       "</style>\n",
       "<table border=\"1\" class=\"dataframe\">\n",
       "  <thead>\n",
       "    <tr style=\"text-align: right;\">\n",
       "      <th></th>\n",
       "      <th>region</th>\n",
       "      <th>price</th>\n",
       "      <th>year</th>\n",
       "      <th>manufacturer</th>\n",
       "      <th>condition</th>\n",
       "      <th>cylinders</th>\n",
       "      <th>fuel_gas</th>\n",
       "      <th>odometer</th>\n",
       "      <th>title_status_ok</th>\n",
       "      <th>transmission</th>\n",
       "      <th>drive</th>\n",
       "      <th>type</th>\n",
       "      <th>paint_color</th>\n",
       "      <th>state</th>\n",
       "      <th>lat</th>\n",
       "      <th>long</th>\n",
       "    </tr>\n",
       "  </thead>\n",
       "  <tbody>\n",
       "    <tr>\n",
       "      <th>0</th>\n",
       "      <td>austin</td>\n",
       "      <td>46995</td>\n",
       "      <td>2017.00</td>\n",
       "      <td>ford</td>\n",
       "      <td>NaN</td>\n",
       "      <td>8.00</td>\n",
       "      <td>1.00</td>\n",
       "      <td>48544.00</td>\n",
       "      <td>1.00</td>\n",
       "      <td>automatic</td>\n",
       "      <td>4wd</td>\n",
       "      <td>truck</td>\n",
       "      <td>black</td>\n",
       "      <td>tx</td>\n",
       "      <td>29.68</td>\n",
       "      <td>-95.44</td>\n",
       "    </tr>\n",
       "    <tr>\n",
       "      <th>1</th>\n",
       "      <td>albany</td>\n",
       "      <td>36900</td>\n",
       "      <td>2016.00</td>\n",
       "      <td>ford</td>\n",
       "      <td>3.00</td>\n",
       "      <td>8.00</td>\n",
       "      <td>1.00</td>\n",
       "      <td>73394.00</td>\n",
       "      <td>1.00</td>\n",
       "      <td>automatic</td>\n",
       "      <td>4wd</td>\n",
       "      <td>truck</td>\n",
       "      <td>white</td>\n",
       "      <td>ny</td>\n",
       "      <td>42.48</td>\n",
       "      <td>-73.38</td>\n",
       "    </tr>\n",
       "    <tr>\n",
       "      <th>2</th>\n",
       "      <td>washington, DC</td>\n",
       "      <td>1399</td>\n",
       "      <td>2021.00</td>\n",
       "      <td>NaN</td>\n",
       "      <td>NaN</td>\n",
       "      <td>NaN</td>\n",
       "      <td>1.00</td>\n",
       "      <td>500.00</td>\n",
       "      <td>1.00</td>\n",
       "      <td>automatic</td>\n",
       "      <td>NaN</td>\n",
       "      <td>other</td>\n",
       "      <td>orange</td>\n",
       "      <td>dc</td>\n",
       "      <td>38.76</td>\n",
       "      <td>-77.45</td>\n",
       "    </tr>\n",
       "  </tbody>\n",
       "</table>\n",
       "</div>"
      ],
      "text/plain": [
       "           region  price    year manufacturer  condition  cylinders  fuel_gas  \\\n",
       "0          austin  46995 2017.00         ford        NaN       8.00      1.00   \n",
       "1          albany  36900 2016.00         ford       3.00       8.00      1.00   \n",
       "2  washington, DC   1399 2021.00          NaN        NaN        NaN      1.00   \n",
       "\n",
       "   odometer  title_status_ok transmission drive   type paint_color state  \\\n",
       "0  48544.00             1.00    automatic   4wd  truck       black    tx   \n",
       "1  73394.00             1.00    automatic   4wd  truck       white    ny   \n",
       "2    500.00             1.00    automatic   NaN  other      orange    dc   \n",
       "\n",
       "    lat   long  \n",
       "0 29.68 -95.44  \n",
       "1 42.48 -73.38  \n",
       "2 38.76 -77.45  "
      ]
     },
     "execution_count": 42,
     "metadata": {},
     "output_type": "execute_result"
    }
   ],
   "source": [
    "title_status_dict = {'clean':1,\n",
    "                'rebuilt':1,\n",
    "                'salvage':0,\n",
    "                'lien':0,\n",
    "                'missing':0,\n",
    "                'parts only':0}\n",
    "\n",
    "df4['title_status'] = df3['title_status'].replace(title_status_dict)\n",
    "df4.rename(columns = {'title_status':'title_status_ok'}, inplace = True)\n",
    "df4.head(3)"
   ]
  },
  {
   "cell_type": "markdown",
   "id": "df205d8b",
   "metadata": {},
   "source": [
    "## Transmission"
   ]
  },
  {
   "cell_type": "code",
   "execution_count": 43,
   "id": "5f1b8172",
   "metadata": {},
   "outputs": [
    {
     "data": {
      "text/plain": [
       "automatic    233593\n",
       "other         48335\n",
       "manual        18127\n",
       "Name: transmission, dtype: int64"
      ]
     },
     "execution_count": 43,
     "metadata": {},
     "output_type": "execute_result"
    }
   ],
   "source": [
    "df4.transmission.value_counts()"
   ]
  },
  {
   "cell_type": "code",
   "execution_count": 44,
   "id": "df44018e",
   "metadata": {},
   "outputs": [
    {
     "data": {
      "text/html": [
       "<div>\n",
       "<style scoped>\n",
       "    .dataframe tbody tr th:only-of-type {\n",
       "        vertical-align: middle;\n",
       "    }\n",
       "\n",
       "    .dataframe tbody tr th {\n",
       "        vertical-align: top;\n",
       "    }\n",
       "\n",
       "    .dataframe thead th {\n",
       "        text-align: right;\n",
       "    }\n",
       "</style>\n",
       "<table border=\"1\" class=\"dataframe\">\n",
       "  <thead>\n",
       "    <tr style=\"text-align: right;\">\n",
       "      <th></th>\n",
       "      <th>region</th>\n",
       "      <th>price</th>\n",
       "      <th>year</th>\n",
       "      <th>manufacturer</th>\n",
       "      <th>condition</th>\n",
       "      <th>cylinders</th>\n",
       "      <th>fuel_gas</th>\n",
       "      <th>odometer</th>\n",
       "      <th>title_status_ok</th>\n",
       "      <th>transmission_automatic</th>\n",
       "      <th>drive</th>\n",
       "      <th>type</th>\n",
       "      <th>paint_color</th>\n",
       "      <th>state</th>\n",
       "      <th>lat</th>\n",
       "      <th>long</th>\n",
       "    </tr>\n",
       "  </thead>\n",
       "  <tbody>\n",
       "    <tr>\n",
       "      <th>0</th>\n",
       "      <td>austin</td>\n",
       "      <td>46995</td>\n",
       "      <td>2017.00</td>\n",
       "      <td>ford</td>\n",
       "      <td>NaN</td>\n",
       "      <td>8.00</td>\n",
       "      <td>1.00</td>\n",
       "      <td>48544.00</td>\n",
       "      <td>1.00</td>\n",
       "      <td>1.00</td>\n",
       "      <td>4wd</td>\n",
       "      <td>truck</td>\n",
       "      <td>black</td>\n",
       "      <td>tx</td>\n",
       "      <td>29.68</td>\n",
       "      <td>-95.44</td>\n",
       "    </tr>\n",
       "    <tr>\n",
       "      <th>1</th>\n",
       "      <td>albany</td>\n",
       "      <td>36900</td>\n",
       "      <td>2016.00</td>\n",
       "      <td>ford</td>\n",
       "      <td>3.00</td>\n",
       "      <td>8.00</td>\n",
       "      <td>1.00</td>\n",
       "      <td>73394.00</td>\n",
       "      <td>1.00</td>\n",
       "      <td>1.00</td>\n",
       "      <td>4wd</td>\n",
       "      <td>truck</td>\n",
       "      <td>white</td>\n",
       "      <td>ny</td>\n",
       "      <td>42.48</td>\n",
       "      <td>-73.38</td>\n",
       "    </tr>\n",
       "    <tr>\n",
       "      <th>2</th>\n",
       "      <td>washington, DC</td>\n",
       "      <td>1399</td>\n",
       "      <td>2021.00</td>\n",
       "      <td>NaN</td>\n",
       "      <td>NaN</td>\n",
       "      <td>NaN</td>\n",
       "      <td>1.00</td>\n",
       "      <td>500.00</td>\n",
       "      <td>1.00</td>\n",
       "      <td>1.00</td>\n",
       "      <td>NaN</td>\n",
       "      <td>other</td>\n",
       "      <td>orange</td>\n",
       "      <td>dc</td>\n",
       "      <td>38.76</td>\n",
       "      <td>-77.45</td>\n",
       "    </tr>\n",
       "  </tbody>\n",
       "</table>\n",
       "</div>"
      ],
      "text/plain": [
       "           region  price    year manufacturer  condition  cylinders  fuel_gas  \\\n",
       "0          austin  46995 2017.00         ford        NaN       8.00      1.00   \n",
       "1          albany  36900 2016.00         ford       3.00       8.00      1.00   \n",
       "2  washington, DC   1399 2021.00          NaN        NaN        NaN      1.00   \n",
       "\n",
       "   odometer  title_status_ok  transmission_automatic drive   type paint_color  \\\n",
       "0  48544.00             1.00                    1.00   4wd  truck       black   \n",
       "1  73394.00             1.00                    1.00   4wd  truck       white   \n",
       "2    500.00             1.00                    1.00   NaN  other      orange   \n",
       "\n",
       "  state   lat   long  \n",
       "0    tx 29.68 -95.44  \n",
       "1    ny 42.48 -73.38  \n",
       "2    dc 38.76 -77.45  "
      ]
     },
     "execution_count": 44,
     "metadata": {},
     "output_type": "execute_result"
    }
   ],
   "source": [
    "transmission_dict = {'automatic':1,\n",
    "                'other':0,\n",
    "                'manual':0}\n",
    "\n",
    "df4['transmission'] = df3['transmission'].replace(transmission_dict)\n",
    "df4.rename(columns = {'transmission':'transmission_automatic'}, inplace = True)\n",
    "df4.head(3)"
   ]
  },
  {
   "cell_type": "markdown",
   "id": "250c9190",
   "metadata": {},
   "source": [
    "## Drive"
   ]
  },
  {
   "cell_type": "code",
   "execution_count": 45,
   "id": "e9bbc43b",
   "metadata": {},
   "outputs": [
    {
     "data": {
      "text/plain": [
       "4wd    91483\n",
       "fwd    75841\n",
       "rwd    42677\n",
       "Name: drive, dtype: int64"
      ]
     },
     "execution_count": 45,
     "metadata": {},
     "output_type": "execute_result"
    }
   ],
   "source": [
    "df4.drive.value_counts()"
   ]
  },
  {
   "cell_type": "markdown",
   "id": "66f93fad",
   "metadata": {},
   "source": [
    "## Type & Paint color"
   ]
  },
  {
   "cell_type": "code",
   "execution_count": 46,
   "id": "5bcebd6d",
   "metadata": {},
   "outputs": [
    {
     "data": {
      "text/plain": [
       "sedan          61710\n",
       "SUV            54210\n",
       "pickup         32365\n",
       "truck          22880\n",
       "other          15537\n",
       "coupe          13803\n",
       "hatchback      12482\n",
       "wagon           7787\n",
       "van             6173\n",
       "convertible     5694\n",
       "mini-van        3630\n",
       "offroad          456\n",
       "bus              373\n",
       "Name: type, dtype: int64"
      ]
     },
     "execution_count": 46,
     "metadata": {},
     "output_type": "execute_result"
    }
   ],
   "source": [
    "df4.type.value_counts()"
   ]
  },
  {
   "cell_type": "code",
   "execution_count": 47,
   "id": "9da61a68",
   "metadata": {},
   "outputs": [
    {
     "data": {
      "image/png": "[encoded data removed]",
      "text/plain": [
       "<Figure size 500x300 with 1 Axes>"
      ]
     },
     "metadata": {},
     "output_type": "display_data"
    }
   ],
   "source": [
    "df4.type.hist(bins = len(set(df4.type)), figsize = (5,3))\n",
    "plt.xticks(rotation=45)\n",
    "plt.show()"
   ]
  },
  {
   "cell_type": "code",
   "execution_count": 48,
   "id": "0320ed9f",
   "metadata": {},
   "outputs": [
    {
     "data": {
      "text/plain": [
       "other     130322\n",
       "sedan      61710\n",
       "SUV        54210\n",
       "pickup     32365\n",
       "truck      22880\n",
       "Name: type, dtype: int64"
      ]
     },
     "execution_count": 48,
     "metadata": {},
     "output_type": "execute_result"
    }
   ],
   "source": [
    "top_4_type = df4.type.value_counts()[:4].index\n",
    "   \n",
    "df5 = df4.copy()\n",
    "df5.type = ['other' if car_type not in top_4_type else car_type for car_type in df4.type] \n",
    "df5.type.value_counts()"
   ]
  },
  {
   "cell_type": "code",
   "execution_count": 49,
   "id": "96d67a98",
   "metadata": {},
   "outputs": [
    {
     "data": {
      "image/png": "[encoded data removed]",
      "text/plain": [
       "<Figure size 400x300 with 1 Axes>"
      ]
     },
     "metadata": {},
     "output_type": "display_data"
    }
   ],
   "source": [
    "df5.type.hist(bins = 5, figsize = (4,3))\n",
    "plt.show()"
   ]
  },
  {
   "cell_type": "markdown",
   "id": "5d30039f",
   "metadata": {},
   "source": [
    "## paint_color"
   ]
  },
  {
   "cell_type": "code",
   "execution_count": 50,
   "id": "fdb9851e",
   "metadata": {},
   "outputs": [
    {
     "data": {
      "text/plain": [
       "white     56704\n",
       "black     45617\n",
       "silver    31271\n",
       "blue      22885\n",
       "red       22522\n",
       "grey      17645\n",
       "green      5427\n",
       "custom     4886\n",
       "brown      4844\n",
       "yellow     1574\n",
       "orange     1432\n",
       "purple      511\n",
       "Name: paint_color, dtype: int64"
      ]
     },
     "execution_count": 50,
     "metadata": {},
     "output_type": "execute_result"
    }
   ],
   "source": [
    "df5.paint_color.value_counts()"
   ]
  },
  {
   "cell_type": "code",
   "execution_count": 51,
   "id": "9a61f0ef",
   "metadata": {},
   "outputs": [],
   "source": [
    "d = {'silver':'grey'}\n",
    "\n",
    "df6 = df5.copy()\n",
    "df6.paint_color.replace(d, inplace = True)\n",
    "    \n",
    "top_4_colors = ['white', 'grey', 'black', 'blue']\n",
    "    \n",
    "df6.paint_color = ['other' if color not in top_4_colors else color for color in df6.paint_color]"
   ]
  },
  {
   "cell_type": "code",
   "execution_count": 52,
   "id": "a0f3a9f9",
   "metadata": {},
   "outputs": [
    {
     "data": {
      "text/plain": [
       "other    127365\n",
       "white     56704\n",
       "grey      48916\n",
       "black     45617\n",
       "blue      22885\n",
       "Name: paint_color, dtype: int64"
      ]
     },
     "execution_count": 52,
     "metadata": {},
     "output_type": "execute_result"
    }
   ],
   "source": [
    "df6.paint_color.value_counts()"
   ]
  },
  {
   "cell_type": "markdown",
   "id": "ee7918ee",
   "metadata": {},
   "source": [
    "## Location"
   ]
  },
  {
   "cell_type": "code",
   "execution_count": 53,
   "id": "7c64a253",
   "metadata": {},
   "outputs": [
    {
     "data": {
      "image/png": "[encoded data removed]",
      "text/plain": [
       "<Figure size 900x500 with 2 Axes>"
      ]
     },
     "metadata": {},
     "output_type": "display_data"
    }
   ],
   "source": [
    "df6.plot(kind = 'scatter', x='long', y='lat', figsize = (9,5),\n",
    "       alpha = 0.4, c = 'price', cmap = plt.get_cmap('nipy_spectral'), colorbar = True)\n",
    "plt.ylabel('Latitude')\n",
    "plt.xlabel('Longitude')\n",
    "plt.title('Price / Location (with outliers)', weight = 'bold', size = 15)\n",
    "plt.show()"
   ]
  },
  {
   "cell_type": "markdown",
   "id": "229ee174",
   "metadata": {},
   "source": [
    "We can observe two things:\n",
    "* After having removed the outliers, we can have a better view of the dispersion of car prices\n",
    "* By only visualizing the lat/long values, we cannot easily identify any regions. Indeed, if we look closer, we can se that there are probably errors in the lat/long values as they show places outside the US that do not match with the \"state\" value."
   ]
  },
  {
   "cell_type": "code",
   "execution_count": 54,
   "id": "99c92184",
   "metadata": {},
   "outputs": [
    {
     "data": {
      "text/html": [
       "<div>\n",
       "<style scoped>\n",
       "    .dataframe tbody tr th:only-of-type {\n",
       "        vertical-align: middle;\n",
       "    }\n",
       "\n",
       "    .dataframe tbody tr th {\n",
       "        vertical-align: top;\n",
       "    }\n",
       "\n",
       "    .dataframe thead th {\n",
       "        text-align: right;\n",
       "    }\n",
       "</style>\n",
       "<table border=\"1\" class=\"dataframe\">\n",
       "  <thead>\n",
       "    <tr style=\"text-align: right;\">\n",
       "      <th></th>\n",
       "      <th>region</th>\n",
       "      <th>state</th>\n",
       "      <th>lat</th>\n",
       "      <th>long</th>\n",
       "    </tr>\n",
       "  </thead>\n",
       "  <tbody>\n",
       "    <tr>\n",
       "      <th>1756</th>\n",
       "      <td>hartford</td>\n",
       "      <td>ct</td>\n",
       "      <td>-7.65</td>\n",
       "      <td>-87.67</td>\n",
       "    </tr>\n",
       "  </tbody>\n",
       "</table>\n",
       "</div>"
      ],
      "text/plain": [
       "        region state   lat   long\n",
       "1756  hartford    ct -7.65 -87.67"
      ]
     },
     "execution_count": 54,
     "metadata": {},
     "output_type": "execute_result"
    }
   ],
   "source": [
    "df6[df6.lat < -0].head(1)[['region','state','lat','long']]"
   ]
  },
  {
   "cell_type": "markdown",
   "id": "c0313572",
   "metadata": {},
   "source": [
    "According to https://www.gps-coordinates.net/, \n",
    "* lat -7.646342 & long -87.667032 => Pacific Ocean (west) \n",
    "* state \"ct\" = Connecticut (on the north east side of the US)\n",
    "* the region \"hartford\", however, does seem to be a city in Connecticut"
   ]
  },
  {
   "cell_type": "code",
   "execution_count": 55,
   "id": "f1e5d025",
   "metadata": {},
   "outputs": [
    {
     "data": {
      "text/plain": [
       "columbus                  2619\n",
       "jacksonville              2430\n",
       "omaha / council bluffs    2324\n",
       "grand rapids              2311\n",
       "milwaukee                 2305\n",
       "                          ... \n",
       "meridian                    18\n",
       "southwest MS                11\n",
       "fort smith, AR               7\n",
       "kansas city                  6\n",
       "west virginia (old)          4\n",
       "Name: region, Length: 404, dtype: int64"
      ]
     },
     "execution_count": 55,
     "metadata": {},
     "output_type": "execute_result"
    }
   ],
   "source": [
    "df6.region.value_counts()"
   ]
  },
  {
   "cell_type": "code",
   "execution_count": 56,
   "id": "9ad1cd74",
   "metadata": {},
   "outputs": [
    {
     "data": {
      "text/html": [
       "<div>\n",
       "<style scoped>\n",
       "    .dataframe tbody tr th:only-of-type {\n",
       "        vertical-align: middle;\n",
       "    }\n",
       "\n",
       "    .dataframe tbody tr th {\n",
       "        vertical-align: top;\n",
       "    }\n",
       "\n",
       "    .dataframe thead th {\n",
       "        text-align: right;\n",
       "    }\n",
       "</style>\n",
       "<table border=\"1\" class=\"dataframe\">\n",
       "  <thead>\n",
       "    <tr style=\"text-align: right;\">\n",
       "      <th></th>\n",
       "      <th>price</th>\n",
       "      <th>year</th>\n",
       "      <th>manufacturer</th>\n",
       "      <th>condition</th>\n",
       "      <th>cylinders</th>\n",
       "      <th>fuel_gas</th>\n",
       "      <th>odometer</th>\n",
       "      <th>title_status_ok</th>\n",
       "      <th>transmission_automatic</th>\n",
       "      <th>drive</th>\n",
       "      <th>type</th>\n",
       "      <th>paint_color</th>\n",
       "      <th>state</th>\n",
       "    </tr>\n",
       "  </thead>\n",
       "  <tbody>\n",
       "    <tr>\n",
       "      <th>0</th>\n",
       "      <td>46995</td>\n",
       "      <td>2017.00</td>\n",
       "      <td>ford</td>\n",
       "      <td>NaN</td>\n",
       "      <td>8.00</td>\n",
       "      <td>1.00</td>\n",
       "      <td>48544.00</td>\n",
       "      <td>1.00</td>\n",
       "      <td>1.00</td>\n",
       "      <td>4wd</td>\n",
       "      <td>truck</td>\n",
       "      <td>black</td>\n",
       "      <td>tx</td>\n",
       "    </tr>\n",
       "    <tr>\n",
       "      <th>1</th>\n",
       "      <td>36900</td>\n",
       "      <td>2016.00</td>\n",
       "      <td>ford</td>\n",
       "      <td>3.00</td>\n",
       "      <td>8.00</td>\n",
       "      <td>1.00</td>\n",
       "      <td>73394.00</td>\n",
       "      <td>1.00</td>\n",
       "      <td>1.00</td>\n",
       "      <td>4wd</td>\n",
       "      <td>truck</td>\n",
       "      <td>white</td>\n",
       "      <td>ny</td>\n",
       "    </tr>\n",
       "    <tr>\n",
       "      <th>2</th>\n",
       "      <td>1399</td>\n",
       "      <td>2021.00</td>\n",
       "      <td>NaN</td>\n",
       "      <td>NaN</td>\n",
       "      <td>NaN</td>\n",
       "      <td>1.00</td>\n",
       "      <td>500.00</td>\n",
       "      <td>1.00</td>\n",
       "      <td>1.00</td>\n",
       "      <td>NaN</td>\n",
       "      <td>other</td>\n",
       "      <td>other</td>\n",
       "      <td>dc</td>\n",
       "    </tr>\n",
       "    <tr>\n",
       "      <th>3</th>\n",
       "      <td>29590</td>\n",
       "      <td>2018.00</td>\n",
       "      <td>buick</td>\n",
       "      <td>2.00</td>\n",
       "      <td>6.00</td>\n",
       "      <td>1.00</td>\n",
       "      <td>38459.00</td>\n",
       "      <td>1.00</td>\n",
       "      <td>0.00</td>\n",
       "      <td>fwd</td>\n",
       "      <td>SUV</td>\n",
       "      <td>white</td>\n",
       "      <td>pa</td>\n",
       "    </tr>\n",
       "    <tr>\n",
       "      <th>4</th>\n",
       "      <td>7950</td>\n",
       "      <td>2008.00</td>\n",
       "      <td>ford</td>\n",
       "      <td>3.00</td>\n",
       "      <td>8.00</td>\n",
       "      <td>1.00</td>\n",
       "      <td>173267.00</td>\n",
       "      <td>1.00</td>\n",
       "      <td>1.00</td>\n",
       "      <td>rwd</td>\n",
       "      <td>pickup</td>\n",
       "      <td>black</td>\n",
       "      <td>in</td>\n",
       "    </tr>\n",
       "  </tbody>\n",
       "</table>\n",
       "</div>"
      ],
      "text/plain": [
       "   price    year manufacturer  condition  cylinders  fuel_gas  odometer  \\\n",
       "0  46995 2017.00         ford        NaN       8.00      1.00  48544.00   \n",
       "1  36900 2016.00         ford       3.00       8.00      1.00  73394.00   \n",
       "2   1399 2021.00          NaN        NaN        NaN      1.00    500.00   \n",
       "3  29590 2018.00        buick       2.00       6.00      1.00  38459.00   \n",
       "4   7950 2008.00         ford       3.00       8.00      1.00 173267.00   \n",
       "\n",
       "   title_status_ok  transmission_automatic drive    type paint_color state  \n",
       "0             1.00                    1.00   4wd   truck       black    tx  \n",
       "1             1.00                    1.00   4wd   truck       white    ny  \n",
       "2             1.00                    1.00   NaN   other       other    dc  \n",
       "3             1.00                    0.00   fwd     SUV       white    pa  \n",
       "4             1.00                    1.00   rwd  pickup       black    in  "
      ]
     },
     "execution_count": 56,
     "metadata": {},
     "output_type": "execute_result"
    }
   ],
   "source": [
    "# Region seems to be cities, which is too detailed\n",
    "# Lat & Long seem to not be very robust\n",
    "to_drop = ['region','lat', 'long']\n",
    "features_dropped.extend(to_drop)\n",
    "\n",
    "df7 = df6.drop(to_drop, axis = 1)\n",
    "df7.head()"
   ]
  },
  {
   "cell_type": "markdown",
   "id": "a7ba240f",
   "metadata": {},
   "source": [
    "## State into US Regions\n",
    "It is commonly accepted to regroup the states into 4 regions according to their greographical position:\n",
    "* West\n",
    "* Midwest\n",
    "* South\n",
    "* Northeast"
   ]
  },
  {
   "cell_type": "code",
   "execution_count": 57,
   "id": "5f948068",
   "metadata": {
    "scrolled": false
   },
   "outputs": [
    {
     "data": {
      "image/png": "[encoded data removed]",
      "text/plain": [
       "<Figure size 1100x200 with 1 Axes>"
      ]
     },
     "metadata": {},
     "output_type": "display_data"
    }
   ],
   "source": [
    "df7.state.hist(bins = 51, figsize = (11,2))\n",
    "plt.xticks(rotation=90)\n",
    "plt.show()"
   ]
  },
  {
   "cell_type": "markdown",
   "id": "1da78d33",
   "metadata": {},
   "source": [
    "### Import states data\n",
    "Using data from https://github.com/cphalpert/census-regions (org source: http://www.census.gov/geo/maps-data/maps/pdfs/reference/us_regdiv.pdf)"
   ]
  },
  {
   "cell_type": "code",
   "execution_count": 58,
   "id": "85e9aa8b",
   "metadata": {},
   "outputs": [
    {
     "data": {
      "text/html": [
       "<div>\n",
       "<style scoped>\n",
       "    .dataframe tbody tr th:only-of-type {\n",
       "        vertical-align: middle;\n",
       "    }\n",
       "\n",
       "    .dataframe tbody tr th {\n",
       "        vertical-align: top;\n",
       "    }\n",
       "\n",
       "    .dataframe thead th {\n",
       "        text-align: right;\n",
       "    }\n",
       "</style>\n",
       "<table border=\"1\" class=\"dataframe\">\n",
       "  <thead>\n",
       "    <tr style=\"text-align: right;\">\n",
       "      <th></th>\n",
       "      <th>State</th>\n",
       "      <th>State Code</th>\n",
       "      <th>Region</th>\n",
       "      <th>Division</th>\n",
       "    </tr>\n",
       "  </thead>\n",
       "  <tbody>\n",
       "    <tr>\n",
       "      <th>0</th>\n",
       "      <td>Alaska</td>\n",
       "      <td>AK</td>\n",
       "      <td>West</td>\n",
       "      <td>Pacific</td>\n",
       "    </tr>\n",
       "    <tr>\n",
       "      <th>1</th>\n",
       "      <td>Alabama</td>\n",
       "      <td>AL</td>\n",
       "      <td>South</td>\n",
       "      <td>East South Central</td>\n",
       "    </tr>\n",
       "    <tr>\n",
       "      <th>2</th>\n",
       "      <td>Arkansas</td>\n",
       "      <td>AR</td>\n",
       "      <td>South</td>\n",
       "      <td>West South Central</td>\n",
       "    </tr>\n",
       "    <tr>\n",
       "      <th>3</th>\n",
       "      <td>Arizona</td>\n",
       "      <td>AZ</td>\n",
       "      <td>West</td>\n",
       "      <td>Mountain</td>\n",
       "    </tr>\n",
       "    <tr>\n",
       "      <th>4</th>\n",
       "      <td>California</td>\n",
       "      <td>CA</td>\n",
       "      <td>West</td>\n",
       "      <td>Pacific</td>\n",
       "    </tr>\n",
       "  </tbody>\n",
       "</table>\n",
       "</div>"
      ],
      "text/plain": [
       "        State State Code Region            Division\n",
       "0      Alaska         AK   West             Pacific\n",
       "1     Alabama         AL  South  East South Central\n",
       "2    Arkansas         AR  South  West South Central\n",
       "3     Arizona         AZ   West            Mountain\n",
       "4  California         CA   West             Pacific"
      ]
     },
     "execution_count": 58,
     "metadata": {},
     "output_type": "execute_result"
    }
   ],
   "source": [
    "df_regions = pd.read_csv('states.csv')\n",
    "df_regions.head()"
   ]
  },
  {
   "cell_type": "code",
   "execution_count": 59,
   "id": "c84e73d5",
   "metadata": {},
   "outputs": [
    {
     "data": {
      "text/html": [
       "<div>\n",
       "<style scoped>\n",
       "    .dataframe tbody tr th:only-of-type {\n",
       "        vertical-align: middle;\n",
       "    }\n",
       "\n",
       "    .dataframe tbody tr th {\n",
       "        vertical-align: top;\n",
       "    }\n",
       "\n",
       "    .dataframe thead th {\n",
       "        text-align: right;\n",
       "    }\n",
       "</style>\n",
       "<table border=\"1\" class=\"dataframe\">\n",
       "  <thead>\n",
       "    <tr style=\"text-align: right;\">\n",
       "      <th></th>\n",
       "      <th>State</th>\n",
       "      <th>State Code</th>\n",
       "      <th>Region</th>\n",
       "      <th>Division</th>\n",
       "    </tr>\n",
       "  </thead>\n",
       "  <tbody>\n",
       "    <tr>\n",
       "      <th>0</th>\n",
       "      <td>Alaska</td>\n",
       "      <td>ak</td>\n",
       "      <td>West</td>\n",
       "      <td>Pacific</td>\n",
       "    </tr>\n",
       "    <tr>\n",
       "      <th>1</th>\n",
       "      <td>Alabama</td>\n",
       "      <td>al</td>\n",
       "      <td>South</td>\n",
       "      <td>East South Central</td>\n",
       "    </tr>\n",
       "    <tr>\n",
       "      <th>2</th>\n",
       "      <td>Arkansas</td>\n",
       "      <td>ar</td>\n",
       "      <td>South</td>\n",
       "      <td>West South Central</td>\n",
       "    </tr>\n",
       "    <tr>\n",
       "      <th>3</th>\n",
       "      <td>Arizona</td>\n",
       "      <td>az</td>\n",
       "      <td>West</td>\n",
       "      <td>Mountain</td>\n",
       "    </tr>\n",
       "    <tr>\n",
       "      <th>4</th>\n",
       "      <td>California</td>\n",
       "      <td>ca</td>\n",
       "      <td>West</td>\n",
       "      <td>Pacific</td>\n",
       "    </tr>\n",
       "  </tbody>\n",
       "</table>\n",
       "</div>"
      ],
      "text/plain": [
       "        State State Code Region            Division\n",
       "0      Alaska         ak   West             Pacific\n",
       "1     Alabama         al  South  East South Central\n",
       "2    Arkansas         ar  South  West South Central\n",
       "3     Arizona         az   West            Mountain\n",
       "4  California         ca   West             Pacific"
      ]
     },
     "execution_count": 59,
     "metadata": {},
     "output_type": "execute_result"
    }
   ],
   "source": [
    "df_regions['State Code'] = [code.lower() for code in df_regions['State Code']]\n",
    "df_regions.head()"
   ]
  },
  {
   "cell_type": "code",
   "execution_count": 60,
   "id": "1d81aa0e",
   "metadata": {},
   "outputs": [
    {
     "data": {
      "text/plain": [
       "{'Midwest', 'Northeast', 'South', 'West'}"
      ]
     },
     "execution_count": 60,
     "metadata": {},
     "output_type": "execute_result"
    }
   ],
   "source": [
    "set(df_regions.Region)"
   ]
  },
  {
   "cell_type": "code",
   "execution_count": 61,
   "id": "3016bc74",
   "metadata": {},
   "outputs": [
    {
     "name": "stdout",
     "output_type": "stream",
     "text": [
      "ak : West\n",
      "al : South\n"
     ]
    }
   ],
   "source": [
    "region_values = df_regions['Region'].values\n",
    "state_code = df_regions['State Code']\n",
    "\n",
    "d_regions = dict(zip(state_code, region_values))\n",
    "\n",
    "print(list(d_regions.keys())[0] + ' : ' + list(d_regions.values())[0])\n",
    "print(list(d_regions.keys())[1] + ' : ' + list(d_regions.values())[1])"
   ]
  },
  {
   "cell_type": "markdown",
   "id": "218b1212",
   "metadata": {},
   "source": [
    "#### Replacing State by Region"
   ]
  },
  {
   "cell_type": "code",
   "execution_count": 62,
   "id": "3e33c29a",
   "metadata": {},
   "outputs": [
    {
     "data": {
      "image/png": "[encoded data removed]",
      "text/plain": [
       "<Figure size 640x480 with 1 Axes>"
      ]
     },
     "metadata": {},
     "output_type": "display_data"
    }
   ],
   "source": [
    "df8 = df7.copy()\n",
    "df8['state'] = df8.state.replace(d_regions)\n",
    "df8.rename(columns = {'state':'us_region'}, inplace = True)\n",
    "df8['us_region'].hist()\n",
    "plt.show()"
   ]
  },
  {
   "cell_type": "markdown",
   "id": "2029277a",
   "metadata": {},
   "source": [
    "## Manufacturer"
   ]
  },
  {
   "cell_type": "code",
   "execution_count": 63,
   "id": "2fff8803",
   "metadata": {},
   "outputs": [
    {
     "data": {
      "image/png": "[encoded data removed]",
      "text/plain": [
       "<Figure size 1000x300 with 1 Axes>"
      ]
     },
     "metadata": {},
     "output_type": "display_data"
    }
   ],
   "source": [
    "df8.manufacturer.hist(bins = len(set(df8.manufacturer)),figsize = (10,3))\n",
    "plt.xticks(rotation=80)\n",
    "plt.show()"
   ]
  },
  {
   "cell_type": "markdown",
   "id": "d0e18e8d",
   "metadata": {},
   "source": [
    "To avoid having as much different values for a single feature, we can either:\n",
    "* regroup by value => low freq. values to \"other\"\n",
    "* regroup by shared characteristc => car country/continent of origin(ex: ford = America, chevrolet = America, ...)\n",
    "\n",
    "The first is easier but more information is lost in the process. The second allows more information to be kept, but it needs domain knowleadge and/or an existing dataset that contains the missing information (car origin).\n",
    "\n",
    "Since the range of values is relatively small (43), the needed dataset could be written by hand. However, if more models were added to the car dataset, the value could increase, and addding them by hand could take a lot of time.\n",
    "\n",
    "The best option then is to scrap the needed data, preprocessed it, and then use it for our analysis. The website used to obtain this information is https://en.wikipedia.org/wiki/List_of_current_automobile_manufacturers_by_country."
   ]
  },
  {
   "cell_type": "code",
   "execution_count": 64,
   "id": "b22e6dd9",
   "metadata": {},
   "outputs": [
    {
     "data": {
      "text/html": [
       "<div>\n",
       "<style scoped>\n",
       "    .dataframe tbody tr th:only-of-type {\n",
       "        vertical-align: middle;\n",
       "    }\n",
       "\n",
       "    .dataframe tbody tr th {\n",
       "        vertical-align: top;\n",
       "    }\n",
       "\n",
       "    .dataframe thead th {\n",
       "        text-align: right;\n",
       "    }\n",
       "</style>\n",
       "<table border=\"1\" class=\"dataframe\">\n",
       "  <thead>\n",
       "    <tr style=\"text-align: right;\">\n",
       "      <th></th>\n",
       "      <th>africa</th>\n",
       "      <th>asia</th>\n",
       "      <th>europe</th>\n",
       "      <th>oceania</th>\n",
       "      <th>north america</th>\n",
       "      <th>south america</th>\n",
       "    </tr>\n",
       "  </thead>\n",
       "  <tbody>\n",
       "    <tr>\n",
       "      <th>0</th>\n",
       "      <td>snvi</td>\n",
       "      <td>aftab automobiles</td>\n",
       "      <td>magna steyr</td>\n",
       "      <td>alpha sports</td>\n",
       "      <td>general motors</td>\n",
       "      <td>chamonix</td>\n",
       "    </tr>\n",
       "    <tr>\n",
       "      <th>1</th>\n",
       "      <td>egy-tech engineering</td>\n",
       "      <td>bmtf</td>\n",
       "      <td>ganja auto plant</td>\n",
       "      <td>bolwell</td>\n",
       "      <td>buick</td>\n",
       "      <td>fabral</td>\n",
       "    </tr>\n",
       "    <tr>\n",
       "      <th>2</th>\n",
       "      <td>kantanka cars</td>\n",
       "      <td>jamuna automobiles</td>\n",
       "      <td>khazar</td>\n",
       "      <td>borland racing developments</td>\n",
       "      <td>cadillac</td>\n",
       "      <td>tac</td>\n",
       "    </tr>\n",
       "    <tr>\n",
       "      <th>3</th>\n",
       "      <td>mobius motors</td>\n",
       "      <td>niloy-hero motors venture between hero motocor...</td>\n",
       "      <td>naz</td>\n",
       "      <td>devaux cars</td>\n",
       "      <td>chevrolet</td>\n",
       "      <td>troller</td>\n",
       "    </tr>\n",
       "    <tr>\n",
       "      <th>4</th>\n",
       "      <td>laraki</td>\n",
       "      <td>php automobiles</td>\n",
       "      <td>belgee</td>\n",
       "      <td>elfin sports cars</td>\n",
       "      <td>gmc</td>\n",
       "      <td>NaN</td>\n",
       "    </tr>\n",
       "    <tr>\n",
       "      <th>...</th>\n",
       "      <td>...</td>\n",
       "      <td>...</td>\n",
       "      <td>...</td>\n",
       "      <td>...</td>\n",
       "      <td>...</td>\n",
       "      <td>...</td>\n",
       "    </tr>\n",
       "    <tr>\n",
       "      <th>133</th>\n",
       "      <td>NaN</td>\n",
       "      <td>NaN</td>\n",
       "      <td>mclaren</td>\n",
       "      <td>NaN</td>\n",
       "      <td>NaN</td>\n",
       "      <td>NaN</td>\n",
       "    </tr>\n",
       "    <tr>\n",
       "      <th>134</th>\n",
       "      <td>NaN</td>\n",
       "      <td>NaN</td>\n",
       "      <td>mini</td>\n",
       "      <td>NaN</td>\n",
       "      <td>NaN</td>\n",
       "      <td>NaN</td>\n",
       "    </tr>\n",
       "    <tr>\n",
       "      <th>135</th>\n",
       "      <td>NaN</td>\n",
       "      <td>NaN</td>\n",
       "      <td>morgan</td>\n",
       "      <td>NaN</td>\n",
       "      <td>NaN</td>\n",
       "      <td>NaN</td>\n",
       "    </tr>\n",
       "    <tr>\n",
       "      <th>136</th>\n",
       "      <td>NaN</td>\n",
       "      <td>NaN</td>\n",
       "      <td>rolls-royce</td>\n",
       "      <td>NaN</td>\n",
       "      <td>NaN</td>\n",
       "      <td>NaN</td>\n",
       "    </tr>\n",
       "    <tr>\n",
       "      <th>137</th>\n",
       "      <td>NaN</td>\n",
       "      <td>NaN</td>\n",
       "      <td>vauxhall</td>\n",
       "      <td>NaN</td>\n",
       "      <td>NaN</td>\n",
       "      <td>NaN</td>\n",
       "    </tr>\n",
       "  </tbody>\n",
       "</table>\n",
       "<p>138 rows × 6 columns</p>\n",
       "</div>"
      ],
      "text/plain": [
       "                  africa                                               asia   \\\n",
       "0                    snvi                                  aftab automobiles   \n",
       "1    egy-tech engineering                                               bmtf   \n",
       "2           kantanka cars                                 jamuna automobiles   \n",
       "3           mobius motors  niloy-hero motors venture between hero motocor...   \n",
       "4                  laraki                                    php automobiles   \n",
       "..                    ...                                                ...   \n",
       "133                   NaN                                                NaN   \n",
       "134                   NaN                                                NaN   \n",
       "135                   NaN                                                NaN   \n",
       "136                   NaN                                                NaN   \n",
       "137                   NaN                                                NaN   \n",
       "\n",
       "              europe                      oceania   north america   \\\n",
       "0         magna steyr                 alpha sports  general motors   \n",
       "1    ganja auto plant                      bolwell           buick   \n",
       "2              khazar  borland racing developments        cadillac   \n",
       "3                 naz                  devaux cars       chevrolet   \n",
       "4              belgee            elfin sports cars             gmc   \n",
       "..                ...                          ...             ...   \n",
       "133           mclaren                          NaN             NaN   \n",
       "134              mini                          NaN             NaN   \n",
       "135            morgan                          NaN             NaN   \n",
       "136       rolls-royce                          NaN             NaN   \n",
       "137          vauxhall                          NaN             NaN   \n",
       "\n",
       "    south america   \n",
       "0         chamonix  \n",
       "1           fabral  \n",
       "2              tac  \n",
       "3          troller  \n",
       "4              NaN  \n",
       "..             ...  \n",
       "133            NaN  \n",
       "134            NaN  \n",
       "135            NaN  \n",
       "136            NaN  \n",
       "137            NaN  \n",
       "\n",
       "[138 rows x 6 columns]"
      ]
     },
     "execution_count": 64,
     "metadata": {},
     "output_type": "execute_result"
    }
   ],
   "source": [
    "df_car_origin = pd.read_csv('scraped_car_origin.csv')\n",
    "df_car_origin"
   ]
  },
  {
   "cell_type": "code",
   "execution_count": 65,
   "id": "e7bca44d",
   "metadata": {},
   "outputs": [],
   "source": [
    "# In our dataset, some compound brand names are separated by \"-\" while in Wikipedia they are separated by \" \", thus:\n",
    "df9 = df8.copy()\n",
    "\n",
    "d_mod = {}\n",
    "for brand in set(df9.manufacturer):\n",
    "    if type(brand) == str:\n",
    "        if ('-' in brand) and (brand != 'mercedes-benz'):\n",
    "            d_mod[brand] = re.sub('-',' ',brand)\n",
    "df9.manufacturer = df9.manufacturer.replace(d_mod)            "
   ]
  },
  {
   "cell_type": "code",
   "execution_count": 66,
   "id": "9bebcae9",
   "metadata": {},
   "outputs": [],
   "source": [
    "dict_cars_origin = {}\n",
    "\n",
    "for brand in set(df9.manufacturer):\n",
    "    if len(df_car_origin[df_car_origin.isin([f'{brand}'])].stack()) > 0:\n",
    "        dict_cars_origin[f'{brand}'] = df_car_origin[df_car_origin.isin([f'{brand}'])].stack().index[0][1]"
   ]
  },
  {
   "cell_type": "code",
   "execution_count": 67,
   "id": "ac7768a7",
   "metadata": {},
   "outputs": [
    {
     "data": {
      "text/plain": [
       "{'dodge': 'north america ',\n",
       " 'mini': 'europe ',\n",
       " 'tesla': 'north america ',\n",
       " 'gmc': 'north america ',\n",
       " 'hyundai': 'asia ',\n",
       " 'infiniti': 'asia ',\n",
       " 'mazda': 'asia ',\n",
       " 'alfa romeo': 'europe ',\n",
       " 'volvo': 'europe ',\n",
       " 'volkswagen': 'europe ',\n",
       " 'ram': 'north america ',\n",
       " 'bmw': 'europe ',\n",
       " 'cadillac': 'north america ',\n",
       " 'chevrolet': 'north america ',\n",
       " 'jaguar': 'europe ',\n",
       " 'lincoln': 'north america ',\n",
       " 'datsun': 'asia ',\n",
       " 'ferrari': 'europe ',\n",
       " 'aston martin': 'europe ',\n",
       " 'morgan': 'europe ',\n",
       " 'chrysler': 'north america ',\n",
       " 'mercedes-benz': 'europe ',\n",
       " 'buick': 'north america ',\n",
       " 'nissan': 'asia ',\n",
       " 'acura': 'asia ',\n",
       " 'land rover': 'europe ',\n",
       " 'porsche': 'europe ',\n",
       " 'mitsubishi': 'asia ',\n",
       " 'lexus': 'asia ',\n",
       " 'ford': 'north america ',\n",
       " 'subaru': 'asia ',\n",
       " 'toyota': 'asia ',\n",
       " 'kia': 'asia ',\n",
       " 'fiat': 'europe ',\n",
       " 'honda': 'asia ',\n",
       " 'audi': 'europe ',\n",
       " 'jeep': 'north america '}"
      ]
     },
     "execution_count": 67,
     "metadata": {},
     "output_type": "execute_result"
    }
   ],
   "source": [
    "dict_cars_origin"
   ]
  },
  {
   "cell_type": "code",
   "execution_count": 68,
   "id": "8a4ed112",
   "metadata": {},
   "outputs": [
    {
     "name": "stdout",
     "output_type": "stream",
     "text": [
      "From a total of 42 brands, 6 are missing:\n",
      "\t {nan, 'rover', 'mercury', 'saturn', 'harley davidson', 'pontiac'}\n"
     ]
    }
   ],
   "source": [
    "s1 = set(df9.manufacturer)\n",
    "s2 = set(dict_cars_origin.keys())\n",
    "\n",
    "print(f'From a total of {df9.manufacturer.nunique()} brands, {len(s1.difference(s2))} are missing:\\n\\t {s1.difference(s2)}')"
   ]
  },
  {
   "cell_type": "markdown",
   "id": "7695bde2",
   "metadata": {},
   "source": [
    "To avoid losing data, and since is a small % of the data, the remaining brands will be added manually:"
   ]
  },
  {
   "cell_type": "code",
   "execution_count": 69,
   "id": "75045ca6",
   "metadata": {},
   "outputs": [],
   "source": [
    "dict_cars_origin['saturn'] = 'north america '\n",
    "dict_cars_origin['rover'] = 'europe '\n",
    "dict_cars_origin['pontiac'] = 'north america '\n",
    "dict_cars_origin['mercury'] = 'north america '\n",
    "dict_cars_origin['harley davidson'] = 'north america '"
   ]
  },
  {
   "cell_type": "code",
   "execution_count": 70,
   "id": "a3f4e5cb",
   "metadata": {},
   "outputs": [],
   "source": [
    "df9.manufacturer = df9.manufacturer.replace(dict_cars_origin)"
   ]
  },
  {
   "cell_type": "code",
   "execution_count": 71,
   "id": "861bf7f7",
   "metadata": {},
   "outputs": [
    {
     "data": {
      "text/plain": [
       "north america     156022\n",
       "asia               93549\n",
       "europe             40265\n",
       "Name: manufacturer, dtype: int64"
      ]
     },
     "execution_count": 71,
     "metadata": {},
     "output_type": "execute_result"
    }
   ],
   "source": [
    "df9.manufacturer.value_counts()"
   ]
  },
  {
   "cell_type": "code",
   "execution_count": 72,
   "id": "73264324",
   "metadata": {},
   "outputs": [
    {
     "data": {
      "image/png": "[encoded data removed]",
      "text/plain": [
       "<Figure size 300x200 with 1 Axes>"
      ]
     },
     "metadata": {},
     "output_type": "display_data"
    }
   ],
   "source": [
    "df9.manufacturer.hist(bins = df9.manufacturer.nunique(),figsize = (3,2))\n",
    "plt.xticks(rotation=15)\n",
    "plt.show()"
   ]
  },
  {
   "cell_type": "markdown",
   "id": "b803effa",
   "metadata": {},
   "source": [
    "## Dealing with missing data"
   ]
  },
  {
   "cell_type": "code",
   "execution_count": 73,
   "id": "e474685d",
   "metadata": {},
   "outputs": [
    {
     "data": {
      "text/plain": [
       "price                     0.00\n",
       "year                      0.29\n",
       "manufacturer              3.86\n",
       "condition                37.51\n",
       "cylinders                41.05\n",
       "fuel_gas                  0.68\n",
       "odometer                  0.54\n",
       "title_status_ok           1.70\n",
       "transmission_automatic    0.47\n",
       "drive                    30.34\n",
       "type                      0.00\n",
       "paint_color               0.00\n",
       "us_region                 0.00\n",
       "dtype: float64"
      ]
     },
     "execution_count": 73,
     "metadata": {},
     "output_type": "execute_result"
    }
   ],
   "source": [
    "df9.isna().sum() / df9.shape[0] * 100"
   ]
  },
  {
   "cell_type": "code",
   "execution_count": 74,
   "id": "a24d1cde",
   "metadata": {},
   "outputs": [
    {
     "data": {
      "text/html": [
       "<div>\n",
       "<style scoped>\n",
       "    .dataframe tbody tr th:only-of-type {\n",
       "        vertical-align: middle;\n",
       "    }\n",
       "\n",
       "    .dataframe tbody tr th {\n",
       "        vertical-align: top;\n",
       "    }\n",
       "\n",
       "    .dataframe thead th {\n",
       "        text-align: right;\n",
       "    }\n",
       "</style>\n",
       "<table border=\"1\" class=\"dataframe\">\n",
       "  <thead>\n",
       "    <tr style=\"text-align: right;\">\n",
       "      <th></th>\n",
       "      <th>price</th>\n",
       "      <th>year</th>\n",
       "      <th>manufacturer</th>\n",
       "      <th>condition</th>\n",
       "      <th>cylinders</th>\n",
       "      <th>fuel_gas</th>\n",
       "      <th>odometer</th>\n",
       "      <th>title_status_ok</th>\n",
       "      <th>transmission_automatic</th>\n",
       "      <th>drive</th>\n",
       "      <th>type</th>\n",
       "      <th>paint_color</th>\n",
       "      <th>us_region</th>\n",
       "    </tr>\n",
       "  </thead>\n",
       "  <tbody>\n",
       "    <tr>\n",
       "      <th>548</th>\n",
       "      <td>57995</td>\n",
       "      <td>NaN</td>\n",
       "      <td>NaN</td>\n",
       "      <td>NaN</td>\n",
       "      <td>8.00</td>\n",
       "      <td>NaN</td>\n",
       "      <td>9363.00</td>\n",
       "      <td>NaN</td>\n",
       "      <td>1.00</td>\n",
       "      <td>4wd</td>\n",
       "      <td>SUV</td>\n",
       "      <td>grey</td>\n",
       "      <td>Midwest</td>\n",
       "    </tr>\n",
       "    <tr>\n",
       "      <th>639</th>\n",
       "      <td>5595</td>\n",
       "      <td>2011.00</td>\n",
       "      <td>north america</td>\n",
       "      <td>NaN</td>\n",
       "      <td>NaN</td>\n",
       "      <td>NaN</td>\n",
       "      <td>0.00</td>\n",
       "      <td>NaN</td>\n",
       "      <td>1.00</td>\n",
       "      <td>NaN</td>\n",
       "      <td>other</td>\n",
       "      <td>other</td>\n",
       "      <td>Northeast</td>\n",
       "    </tr>\n",
       "    <tr>\n",
       "      <th>846</th>\n",
       "      <td>25399</td>\n",
       "      <td>NaN</td>\n",
       "      <td>NaN</td>\n",
       "      <td>NaN</td>\n",
       "      <td>4.00</td>\n",
       "      <td>NaN</td>\n",
       "      <td>8492.00</td>\n",
       "      <td>1.00</td>\n",
       "      <td>1.00</td>\n",
       "      <td>NaN</td>\n",
       "      <td>SUV</td>\n",
       "      <td>white</td>\n",
       "      <td>Midwest</td>\n",
       "    </tr>\n",
       "    <tr>\n",
       "      <th>1180</th>\n",
       "      <td>21000</td>\n",
       "      <td>NaN</td>\n",
       "      <td>NaN</td>\n",
       "      <td>NaN</td>\n",
       "      <td>NaN</td>\n",
       "      <td>NaN</td>\n",
       "      <td>NaN</td>\n",
       "      <td>NaN</td>\n",
       "      <td>NaN</td>\n",
       "      <td>NaN</td>\n",
       "      <td>other</td>\n",
       "      <td>other</td>\n",
       "      <td>South</td>\n",
       "    </tr>\n",
       "    <tr>\n",
       "      <th>2378</th>\n",
       "      <td>15995</td>\n",
       "      <td>NaN</td>\n",
       "      <td>NaN</td>\n",
       "      <td>NaN</td>\n",
       "      <td>4.00</td>\n",
       "      <td>1.00</td>\n",
       "      <td>24865.00</td>\n",
       "      <td>NaN</td>\n",
       "      <td>1.00</td>\n",
       "      <td>NaN</td>\n",
       "      <td>SUV</td>\n",
       "      <td>grey</td>\n",
       "      <td>Midwest</td>\n",
       "    </tr>\n",
       "    <tr>\n",
       "      <th>...</th>\n",
       "      <td>...</td>\n",
       "      <td>...</td>\n",
       "      <td>...</td>\n",
       "      <td>...</td>\n",
       "      <td>...</td>\n",
       "      <td>...</td>\n",
       "      <td>...</td>\n",
       "      <td>...</td>\n",
       "      <td>...</td>\n",
       "      <td>...</td>\n",
       "      <td>...</td>\n",
       "      <td>...</td>\n",
       "      <td>...</td>\n",
       "    </tr>\n",
       "    <tr>\n",
       "      <th>298097</th>\n",
       "      <td>6800</td>\n",
       "      <td>2016.00</td>\n",
       "      <td>asia</td>\n",
       "      <td>NaN</td>\n",
       "      <td>NaN</td>\n",
       "      <td>NaN</td>\n",
       "      <td>NaN</td>\n",
       "      <td>NaN</td>\n",
       "      <td>NaN</td>\n",
       "      <td>NaN</td>\n",
       "      <td>other</td>\n",
       "      <td>other</td>\n",
       "      <td>Northeast</td>\n",
       "    </tr>\n",
       "    <tr>\n",
       "      <th>298577</th>\n",
       "      <td>9999</td>\n",
       "      <td>2017.00</td>\n",
       "      <td>asia</td>\n",
       "      <td>NaN</td>\n",
       "      <td>NaN</td>\n",
       "      <td>NaN</td>\n",
       "      <td>NaN</td>\n",
       "      <td>NaN</td>\n",
       "      <td>NaN</td>\n",
       "      <td>NaN</td>\n",
       "      <td>other</td>\n",
       "      <td>other</td>\n",
       "      <td>South</td>\n",
       "    </tr>\n",
       "    <tr>\n",
       "      <th>300444</th>\n",
       "      <td>12600</td>\n",
       "      <td>2018.00</td>\n",
       "      <td>north america</td>\n",
       "      <td>NaN</td>\n",
       "      <td>NaN</td>\n",
       "      <td>NaN</td>\n",
       "      <td>NaN</td>\n",
       "      <td>NaN</td>\n",
       "      <td>NaN</td>\n",
       "      <td>NaN</td>\n",
       "      <td>other</td>\n",
       "      <td>other</td>\n",
       "      <td>Northeast</td>\n",
       "    </tr>\n",
       "    <tr>\n",
       "      <th>301238</th>\n",
       "      <td>10000</td>\n",
       "      <td>NaN</td>\n",
       "      <td>NaN</td>\n",
       "      <td>NaN</td>\n",
       "      <td>NaN</td>\n",
       "      <td>NaN</td>\n",
       "      <td>0.00</td>\n",
       "      <td>1.00</td>\n",
       "      <td>0.00</td>\n",
       "      <td>NaN</td>\n",
       "      <td>other</td>\n",
       "      <td>other</td>\n",
       "      <td>South</td>\n",
       "    </tr>\n",
       "    <tr>\n",
       "      <th>301473</th>\n",
       "      <td>6975</td>\n",
       "      <td>2002.00</td>\n",
       "      <td>north america</td>\n",
       "      <td>NaN</td>\n",
       "      <td>NaN</td>\n",
       "      <td>1.00</td>\n",
       "      <td>NaN</td>\n",
       "      <td>1.00</td>\n",
       "      <td>NaN</td>\n",
       "      <td>NaN</td>\n",
       "      <td>other</td>\n",
       "      <td>white</td>\n",
       "      <td>West</td>\n",
       "    </tr>\n",
       "  </tbody>\n",
       "</table>\n",
       "<p>488 rows × 13 columns</p>\n",
       "</div>"
      ],
      "text/plain": [
       "        price    year    manufacturer  condition  cylinders  fuel_gas  \\\n",
       "548     57995     NaN             NaN        NaN       8.00       NaN   \n",
       "639      5595 2011.00  north america         NaN        NaN       NaN   \n",
       "846     25399     NaN             NaN        NaN       4.00       NaN   \n",
       "1180    21000     NaN             NaN        NaN        NaN       NaN   \n",
       "2378    15995     NaN             NaN        NaN       4.00      1.00   \n",
       "...       ...     ...             ...        ...        ...       ...   \n",
       "298097   6800 2016.00           asia         NaN        NaN       NaN   \n",
       "298577   9999 2017.00           asia         NaN        NaN       NaN   \n",
       "300444  12600 2018.00  north america         NaN        NaN       NaN   \n",
       "301238  10000     NaN             NaN        NaN        NaN       NaN   \n",
       "301473   6975 2002.00  north america         NaN        NaN      1.00   \n",
       "\n",
       "        odometer  title_status_ok  transmission_automatic drive   type  \\\n",
       "548      9363.00              NaN                    1.00   4wd    SUV   \n",
       "639         0.00              NaN                    1.00   NaN  other   \n",
       "846      8492.00             1.00                    1.00   NaN    SUV   \n",
       "1180         NaN              NaN                     NaN   NaN  other   \n",
       "2378    24865.00              NaN                    1.00   NaN    SUV   \n",
       "...          ...              ...                     ...   ...    ...   \n",
       "298097       NaN              NaN                     NaN   NaN  other   \n",
       "298577       NaN              NaN                     NaN   NaN  other   \n",
       "300444       NaN              NaN                     NaN   NaN  other   \n",
       "301238      0.00             1.00                    0.00   NaN  other   \n",
       "301473       NaN             1.00                     NaN   NaN  other   \n",
       "\n",
       "       paint_color  us_region  \n",
       "548           grey    Midwest  \n",
       "639          other  Northeast  \n",
       "846          white    Midwest  \n",
       "1180         other      South  \n",
       "2378          grey    Midwest  \n",
       "...            ...        ...  \n",
       "298097       other  Northeast  \n",
       "298577       other      South  \n",
       "300444       other  Northeast  \n",
       "301238       other      South  \n",
       "301473       white       West  \n",
       "\n",
       "[488 rows x 13 columns]"
      ]
     },
     "execution_count": 74,
     "metadata": {},
     "output_type": "execute_result"
    }
   ],
   "source": [
    "# It is safest to drop the rows containing too much missing values, else the majority of obs for those cars would be artificial\n",
    "rows_to_drop = df9[df9.isnull().sum(axis = 1) > 4]\n",
    "rows_to_drop"
   ]
  },
  {
   "cell_type": "code",
   "execution_count": 75,
   "id": "dbc7cc50",
   "metadata": {},
   "outputs": [
    {
     "name": "stdout",
     "output_type": "stream",
     "text": [
      "Rows dropped:  488\n"
     ]
    }
   ],
   "source": [
    "to_drop = rows_to_drop.index\n",
    "df10 = df9.drop(to_drop, axis = 0)\n",
    "print('Rows dropped: ', len(rows_to_drop))"
   ]
  },
  {
   "cell_type": "markdown",
   "id": "66d79b8d",
   "metadata": {},
   "source": [
    "### How to handle missing data\n",
    "* Size has 72% of missing data => safest option is to drop the feature \n",
    "    * imputing would be done without enough data \n",
    "    * removing the rows with missing \"size\" data would mean to lose more than 70% of our dataset\n",
    "* As for the remaining features, although containing sometimes high % of missing data (condition, cylinders about 40%), a good option is to impute values. To do so, is better to first encode categorical features so they can be included in the process.\n",
    "\n",
    "The chosen imputer model is https://scikit-learn.org/stable/modules/impute.html#iterative-imputer. \n",
    "* The IterativeImputer \"models each feature with missing values as a function of other features, and uses that estimate for imputation\".\n",
    "\n",
    "The reason of this choice is because missing data is probably MAR (Missing at Random), and thus, looking at other features can help us estimate the missing data:\n",
    "* MCAR - Missing Completetly at Random\n",
    "    * Missing data is completely random (ex: error at inputing value), and other features cannot help us predict the missing value. In this case best approaches could be imputing with \"mean\" or \"median\" if outliers are present in the dataset.\n",
    "* MAR - Missing at Random\n",
    "    * Missing values cannot be explained by the feature itself, but by other features. Ex: the number of cylinders of one car cannot really help us predict the same feature for another car, but similar vehicules (aka other features values are similar) can help us predict it.\n",
    "* MNAR - Missing NOT at Random\n",
    "    * Missing data is not random. Ex: very high or very low income households will avoid giving their income more often than those with an average income; same goes for weight. In this case, before imputing, an analysis on the missing data must be conducted."
   ]
  },
  {
   "cell_type": "markdown",
   "id": "4551d5e3",
   "metadata": {},
   "source": [
    "## One Hot Encoding (dummy variables)"
   ]
  },
  {
   "cell_type": "code",
   "execution_count": 76,
   "id": "540ab0c3",
   "metadata": {},
   "outputs": [
    {
     "name": "stdout",
     "output_type": "stream",
     "text": [
      "<class 'pandas.core.frame.DataFrame'>\n",
      "Int64Index: 300999 entries, 0 to 301486\n",
      "Data columns (total 13 columns):\n",
      " #   Column                  Non-Null Count   Dtype  \n",
      "---  ------                  --------------   -----  \n",
      " 0   price                   300999 non-null  int64  \n",
      " 1   year                    300264 non-null  float64\n",
      " 2   manufacturer            289608 non-null  object \n",
      " 3   condition               188385 non-null  float64\n",
      " 4   cylinders               177608 non-null  float64\n",
      " 5   fuel_gas                299354 non-null  float64\n",
      " 6   odometer                299610 non-null  float64\n",
      " 7   title_status_ok         296306 non-null  float64\n",
      " 8   transmission_automatic  299848 non-null  float64\n",
      " 9   drive                   209963 non-null  object \n",
      " 10  type                    300999 non-null  object \n",
      " 11  paint_color             300999 non-null  object \n",
      " 12  us_region               300999 non-null  object \n",
      "dtypes: float64(7), int64(1), object(5)\n",
      "memory usage: 32.2+ MB\n"
     ]
    }
   ],
   "source": [
    "df10.info()"
   ]
  },
  {
   "cell_type": "code",
   "execution_count": 77,
   "id": "be7f3efa",
   "metadata": {},
   "outputs": [],
   "source": [
    "categorical_features = df10.select_dtypes(include = ['object']).columns"
   ]
  },
  {
   "cell_type": "code",
   "execution_count": 78,
   "id": "0e49e0bf",
   "metadata": {
    "scrolled": false
   },
   "outputs": [
    {
     "data": {
      "text/plain": [
       "Index(['price', 'year', 'condition', 'cylinders', 'fuel_gas', 'odometer',\n",
       "       'title_status_ok', 'transmission_automatic', 'manufacturer_asia ',\n",
       "       'manufacturer_europe ', 'manufacturer_north america ', 'drive_4wd',\n",
       "       'drive_fwd', 'drive_rwd', 'type_SUV', 'type_other', 'type_pickup',\n",
       "       'type_sedan', 'type_truck', 'paint_color_black', 'paint_color_blue',\n",
       "       'paint_color_grey', 'paint_color_other', 'paint_color_white',\n",
       "       'us_region_Midwest', 'us_region_Northeast', 'us_region_South',\n",
       "       'us_region_West'],\n",
       "      dtype='object')"
      ]
     },
     "execution_count": 78,
     "metadata": {},
     "output_type": "execute_result"
    }
   ],
   "source": [
    "df11 = pd.get_dummies(df10)\n",
    "df11.columns"
   ]
  },
  {
   "cell_type": "code",
   "execution_count": 79,
   "id": "2af20f51",
   "metadata": {},
   "outputs": [],
   "source": [
    "dummies_to_drop = ['manufacturer_europe ', 'drive_4wd', 'type_other', 'paint_color_other', 'us_region_Northeast']\n",
    "df11.drop(dummies_to_drop, axis = 1, inplace = True)"
   ]
  },
  {
   "cell_type": "code",
   "execution_count": 80,
   "id": "74018180",
   "metadata": {},
   "outputs": [
    {
     "data": {
      "text/plain": [
       "(300999, 23)"
      ]
     },
     "execution_count": 80,
     "metadata": {},
     "output_type": "execute_result"
    }
   ],
   "source": [
    "df11.shape"
   ]
  },
  {
   "cell_type": "code",
   "execution_count": 81,
   "id": "b0a95db2",
   "metadata": {},
   "outputs": [],
   "source": [
    "from sklearn.experimental import enable_iterative_imputer  \n",
    "from sklearn.impute import IterativeImputer\n",
    "\n",
    "imp = IterativeImputer(random_state = 42, skip_complete = True,\n",
    "                      min_value = [df11.iloc[:, i].min() for i in range(len(df11.columns))],\n",
    "                      max_value = [df11.iloc[:, i].max() for i in range(len(df11.columns))])"
   ]
  },
  {
   "cell_type": "code",
   "execution_count": 82,
   "id": "89cf2a17",
   "metadata": {},
   "outputs": [],
   "source": [
    "temp = imp.fit_transform(df11)\n",
    "df12 = pd.DataFrame(temp, columns = df11.columns)"
   ]
  },
  {
   "cell_type": "code",
   "execution_count": 83,
   "id": "09486e34",
   "metadata": {},
   "outputs": [
    {
     "data": {
      "text/html": [
       "<div>\n",
       "<style scoped>\n",
       "    .dataframe tbody tr th:only-of-type {\n",
       "        vertical-align: middle;\n",
       "    }\n",
       "\n",
       "    .dataframe tbody tr th {\n",
       "        vertical-align: top;\n",
       "    }\n",
       "\n",
       "    .dataframe thead th {\n",
       "        text-align: right;\n",
       "    }\n",
       "</style>\n",
       "<table border=\"1\" class=\"dataframe\">\n",
       "  <thead>\n",
       "    <tr style=\"text-align: right;\">\n",
       "      <th></th>\n",
       "      <th>price</th>\n",
       "      <th>year</th>\n",
       "      <th>condition</th>\n",
       "      <th>cylinders</th>\n",
       "      <th>fuel_gas</th>\n",
       "      <th>odometer</th>\n",
       "      <th>title_status_ok</th>\n",
       "      <th>transmission_automatic</th>\n",
       "      <th>manufacturer_asia</th>\n",
       "      <th>manufacturer_north america</th>\n",
       "      <th>drive_fwd</th>\n",
       "      <th>drive_rwd</th>\n",
       "      <th>type_SUV</th>\n",
       "      <th>type_pickup</th>\n",
       "      <th>type_sedan</th>\n",
       "      <th>type_truck</th>\n",
       "      <th>paint_color_black</th>\n",
       "      <th>paint_color_blue</th>\n",
       "      <th>paint_color_grey</th>\n",
       "      <th>paint_color_white</th>\n",
       "      <th>us_region_Midwest</th>\n",
       "      <th>us_region_South</th>\n",
       "      <th>us_region_West</th>\n",
       "    </tr>\n",
       "  </thead>\n",
       "  <tbody>\n",
       "    <tr>\n",
       "      <th>count</th>\n",
       "      <td>300999.00</td>\n",
       "      <td>300999.00</td>\n",
       "      <td>300999.00</td>\n",
       "      <td>300999.00</td>\n",
       "      <td>300999.00</td>\n",
       "      <td>300999.00</td>\n",
       "      <td>300999.00</td>\n",
       "      <td>300999.00</td>\n",
       "      <td>300999.00</td>\n",
       "      <td>300999.00</td>\n",
       "      <td>300999.00</td>\n",
       "      <td>300999.00</td>\n",
       "      <td>300999.00</td>\n",
       "      <td>300999.00</td>\n",
       "      <td>300999.00</td>\n",
       "      <td>300999.00</td>\n",
       "      <td>300999.00</td>\n",
       "      <td>300999.00</td>\n",
       "      <td>300999.00</td>\n",
       "      <td>300999.00</td>\n",
       "      <td>300999.00</td>\n",
       "      <td>300999.00</td>\n",
       "      <td>300999.00</td>\n",
       "    </tr>\n",
       "    <tr>\n",
       "      <th>mean</th>\n",
       "      <td>18970.88</td>\n",
       "      <td>2010.99</td>\n",
       "      <td>2.60</td>\n",
       "      <td>5.91</td>\n",
       "      <td>0.85</td>\n",
       "      <td>94575.95</td>\n",
       "      <td>0.98</td>\n",
       "      <td>0.78</td>\n",
       "      <td>0.31</td>\n",
       "      <td>0.52</td>\n",
       "      <td>0.25</td>\n",
       "      <td>0.14</td>\n",
       "      <td>0.18</td>\n",
       "      <td>0.11</td>\n",
       "      <td>0.20</td>\n",
       "      <td>0.08</td>\n",
       "      <td>0.15</td>\n",
       "      <td>0.08</td>\n",
       "      <td>0.16</td>\n",
       "      <td>0.19</td>\n",
       "      <td>0.23</td>\n",
       "      <td>0.31</td>\n",
       "      <td>0.30</td>\n",
       "    </tr>\n",
       "    <tr>\n",
       "      <th>std</th>\n",
       "      <td>13488.51</td>\n",
       "      <td>9.50</td>\n",
       "      <td>0.58</td>\n",
       "      <td>1.38</td>\n",
       "      <td>0.36</td>\n",
       "      <td>70675.10</td>\n",
       "      <td>0.12</td>\n",
       "      <td>0.41</td>\n",
       "      <td>0.46</td>\n",
       "      <td>0.50</td>\n",
       "      <td>0.43</td>\n",
       "      <td>0.35</td>\n",
       "      <td>0.38</td>\n",
       "      <td>0.31</td>\n",
       "      <td>0.40</td>\n",
       "      <td>0.27</td>\n",
       "      <td>0.36</td>\n",
       "      <td>0.26</td>\n",
       "      <td>0.37</td>\n",
       "      <td>0.39</td>\n",
       "      <td>0.42</td>\n",
       "      <td>0.46</td>\n",
       "      <td>0.46</td>\n",
       "    </tr>\n",
       "    <tr>\n",
       "      <th>min</th>\n",
       "      <td>1000.00</td>\n",
       "      <td>1900.00</td>\n",
       "      <td>0.00</td>\n",
       "      <td>3.00</td>\n",
       "      <td>0.00</td>\n",
       "      <td>0.00</td>\n",
       "      <td>0.00</td>\n",
       "      <td>0.00</td>\n",
       "      <td>0.00</td>\n",
       "      <td>0.00</td>\n",
       "      <td>0.00</td>\n",
       "      <td>0.00</td>\n",
       "      <td>0.00</td>\n",
       "      <td>0.00</td>\n",
       "      <td>0.00</td>\n",
       "      <td>0.00</td>\n",
       "      <td>0.00</td>\n",
       "      <td>0.00</td>\n",
       "      <td>0.00</td>\n",
       "      <td>0.00</td>\n",
       "      <td>0.00</td>\n",
       "      <td>0.00</td>\n",
       "      <td>0.00</td>\n",
       "    </tr>\n",
       "    <tr>\n",
       "      <th>25%</th>\n",
       "      <td>7975.00</td>\n",
       "      <td>2008.00</td>\n",
       "      <td>2.00</td>\n",
       "      <td>4.83</td>\n",
       "      <td>1.00</td>\n",
       "      <td>39169.00</td>\n",
       "      <td>1.00</td>\n",
       "      <td>1.00</td>\n",
       "      <td>0.00</td>\n",
       "      <td>0.00</td>\n",
       "      <td>0.00</td>\n",
       "      <td>0.00</td>\n",
       "      <td>0.00</td>\n",
       "      <td>0.00</td>\n",
       "      <td>0.00</td>\n",
       "      <td>0.00</td>\n",
       "      <td>0.00</td>\n",
       "      <td>0.00</td>\n",
       "      <td>0.00</td>\n",
       "      <td>0.00</td>\n",
       "      <td>0.00</td>\n",
       "      <td>0.00</td>\n",
       "      <td>0.00</td>\n",
       "    </tr>\n",
       "    <tr>\n",
       "      <th>50%</th>\n",
       "      <td>15988.00</td>\n",
       "      <td>2013.00</td>\n",
       "      <td>2.73</td>\n",
       "      <td>6.00</td>\n",
       "      <td>1.00</td>\n",
       "      <td>88432.00</td>\n",
       "      <td>1.00</td>\n",
       "      <td>1.00</td>\n",
       "      <td>0.00</td>\n",
       "      <td>1.00</td>\n",
       "      <td>0.00</td>\n",
       "      <td>0.00</td>\n",
       "      <td>0.00</td>\n",
       "      <td>0.00</td>\n",
       "      <td>0.00</td>\n",
       "      <td>0.00</td>\n",
       "      <td>0.00</td>\n",
       "      <td>0.00</td>\n",
       "      <td>0.00</td>\n",
       "      <td>0.00</td>\n",
       "      <td>0.00</td>\n",
       "      <td>0.00</td>\n",
       "      <td>0.00</td>\n",
       "    </tr>\n",
       "    <tr>\n",
       "      <th>75%</th>\n",
       "      <td>27950.00</td>\n",
       "      <td>2017.00</td>\n",
       "      <td>3.00</td>\n",
       "      <td>6.71</td>\n",
       "      <td>1.00</td>\n",
       "      <td>136119.50</td>\n",
       "      <td>1.00</td>\n",
       "      <td>1.00</td>\n",
       "      <td>1.00</td>\n",
       "      <td>1.00</td>\n",
       "      <td>1.00</td>\n",
       "      <td>0.00</td>\n",
       "      <td>0.00</td>\n",
       "      <td>0.00</td>\n",
       "      <td>0.00</td>\n",
       "      <td>0.00</td>\n",
       "      <td>0.00</td>\n",
       "      <td>0.00</td>\n",
       "      <td>0.00</td>\n",
       "      <td>0.00</td>\n",
       "      <td>0.00</td>\n",
       "      <td>1.00</td>\n",
       "      <td>1.00</td>\n",
       "    </tr>\n",
       "    <tr>\n",
       "      <th>max</th>\n",
       "      <td>70000.00</td>\n",
       "      <td>2022.00</td>\n",
       "      <td>5.00</td>\n",
       "      <td>12.00</td>\n",
       "      <td>1.00</td>\n",
       "      <td>999999.00</td>\n",
       "      <td>1.00</td>\n",
       "      <td>1.00</td>\n",
       "      <td>1.00</td>\n",
       "      <td>1.00</td>\n",
       "      <td>1.00</td>\n",
       "      <td>1.00</td>\n",
       "      <td>1.00</td>\n",
       "      <td>1.00</td>\n",
       "      <td>1.00</td>\n",
       "      <td>1.00</td>\n",
       "      <td>1.00</td>\n",
       "      <td>1.00</td>\n",
       "      <td>1.00</td>\n",
       "      <td>1.00</td>\n",
       "      <td>1.00</td>\n",
       "      <td>1.00</td>\n",
       "      <td>1.00</td>\n",
       "    </tr>\n",
       "  </tbody>\n",
       "</table>\n",
       "</div>"
      ],
      "text/plain": [
       "          price      year  condition  cylinders  fuel_gas  odometer  \\\n",
       "count 300999.00 300999.00  300999.00  300999.00 300999.00 300999.00   \n",
       "mean   18970.88   2010.99       2.60       5.91      0.85  94575.95   \n",
       "std    13488.51      9.50       0.58       1.38      0.36  70675.10   \n",
       "min     1000.00   1900.00       0.00       3.00      0.00      0.00   \n",
       "25%     7975.00   2008.00       2.00       4.83      1.00  39169.00   \n",
       "50%    15988.00   2013.00       2.73       6.00      1.00  88432.00   \n",
       "75%    27950.00   2017.00       3.00       6.71      1.00 136119.50   \n",
       "max    70000.00   2022.00       5.00      12.00      1.00 999999.00   \n",
       "\n",
       "       title_status_ok  transmission_automatic  manufacturer_asia   \\\n",
       "count        300999.00               300999.00           300999.00   \n",
       "mean              0.98                    0.78                0.31   \n",
       "std               0.12                    0.41                0.46   \n",
       "min               0.00                    0.00                0.00   \n",
       "25%               1.00                    1.00                0.00   \n",
       "50%               1.00                    1.00                0.00   \n",
       "75%               1.00                    1.00                1.00   \n",
       "max               1.00                    1.00                1.00   \n",
       "\n",
       "       manufacturer_north america   drive_fwd  drive_rwd  type_SUV  \\\n",
       "count                    300999.00  300999.00  300999.00 300999.00   \n",
       "mean                          0.52       0.25       0.14      0.18   \n",
       "std                           0.50       0.43       0.35      0.38   \n",
       "min                           0.00       0.00       0.00      0.00   \n",
       "25%                           0.00       0.00       0.00      0.00   \n",
       "50%                           1.00       0.00       0.00      0.00   \n",
       "75%                           1.00       1.00       0.00      0.00   \n",
       "max                           1.00       1.00       1.00      1.00   \n",
       "\n",
       "       type_pickup  type_sedan  type_truck  paint_color_black  \\\n",
       "count    300999.00   300999.00   300999.00          300999.00   \n",
       "mean          0.11        0.20        0.08               0.15   \n",
       "std           0.31        0.40        0.27               0.36   \n",
       "min           0.00        0.00        0.00               0.00   \n",
       "25%           0.00        0.00        0.00               0.00   \n",
       "50%           0.00        0.00        0.00               0.00   \n",
       "75%           0.00        0.00        0.00               0.00   \n",
       "max           1.00        1.00        1.00               1.00   \n",
       "\n",
       "       paint_color_blue  paint_color_grey  paint_color_white  \\\n",
       "count         300999.00         300999.00          300999.00   \n",
       "mean               0.08              0.16               0.19   \n",
       "std                0.26              0.37               0.39   \n",
       "min                0.00              0.00               0.00   \n",
       "25%                0.00              0.00               0.00   \n",
       "50%                0.00              0.00               0.00   \n",
       "75%                0.00              0.00               0.00   \n",
       "max                1.00              1.00               1.00   \n",
       "\n",
       "       us_region_Midwest  us_region_South  us_region_West  \n",
       "count          300999.00        300999.00       300999.00  \n",
       "mean                0.23             0.31            0.30  \n",
       "std                 0.42             0.46            0.46  \n",
       "min                 0.00             0.00            0.00  \n",
       "25%                 0.00             0.00            0.00  \n",
       "50%                 0.00             0.00            0.00  \n",
       "75%                 0.00             1.00            1.00  \n",
       "max                 1.00             1.00            1.00  "
      ]
     },
     "execution_count": 83,
     "metadata": {},
     "output_type": "execute_result"
    }
   ],
   "source": [
    "df12.describe()"
   ]
  },
  {
   "cell_type": "markdown",
   "id": "36f941ae",
   "metadata": {},
   "source": [
    "# Correlation analysis"
   ]
  },
  {
   "cell_type": "code",
   "execution_count": 84,
   "id": "a58fe930",
   "metadata": {},
   "outputs": [],
   "source": [
    "continuous_features = ['price','odometer']"
   ]
  },
  {
   "cell_type": "code",
   "execution_count": 85,
   "id": "51dd1ffd",
   "metadata": {},
   "outputs": [
    {
     "data": {
      "image/png": "[encoded data removed]",
      "text/plain": [
       "<Figure size 900x500 with 2 Axes>"
      ]
     },
     "metadata": {},
     "output_type": "display_data"
    }
   ],
   "source": [
    "df12.plot(kind = 'scatter', x='price', y='odometer', figsize = (9,5),\n",
    "       alpha = 0.4, c = 'price', cmap = plt.get_cmap('turbo'), colorbar = True)\n",
    "plt.show()"
   ]
  },
  {
   "cell_type": "code",
   "execution_count": 86,
   "id": "7222abc4",
   "metadata": {},
   "outputs": [
    {
     "data": {
      "image/png": "[encoded data removed]",
      "text/plain": [
       "<Figure size 200x200 with 2 Axes>"
      ]
     },
     "metadata": {},
     "output_type": "display_data"
    }
   ],
   "source": [
    "corr = df12[continuous_features].corr(method = 'pearson')\n",
    "\n",
    "f, ax = plt.subplots(figsize=(2, 2))\n",
    "ax = sns.heatmap(corr, annot = True, vmin = -1, vmax=1, square=True, cmap = 'seismic')\n",
    "for t in ax.texts:\n",
    "    if abs(float(t.get_text()))>=0.2:\n",
    "         t.set_text(t.get_text()) \n",
    "    else:\n",
    "         t.set_text(\"\")\n",
    "plt.title('Correlation between continous features\\n\\n')\n",
    "plt.show()"
   ]
  },
  {
   "cell_type": "code",
   "execution_count": 87,
   "id": "66581cd2",
   "metadata": {},
   "outputs": [],
   "source": [
    "df_discrete_features = df12.loc[:, (df12.columns != 'price') & (df12.columns !=  'odometer')]"
   ]
  },
  {
   "cell_type": "code",
   "execution_count": 88,
   "id": "9894bcb9",
   "metadata": {},
   "outputs": [
    {
     "data": {
      "image/png": "[encoded data removed]",
      "text/plain": [
       "<Figure size 1400x1000 with 2 Axes>"
      ]
     },
     "metadata": {},
     "output_type": "display_data"
    }
   ],
   "source": [
    "# https://seaborn.pydata.org/generated/seaborn.heatmap.html\n",
    "# https://stackoverflow.com/questions/66099438/how-to-annot-only-values-greater-than-x-on-a-seaborn-heatmap\n",
    "\n",
    "corr = df_discrete_features.corr(method = 'spearman')\n",
    "mask = np.zeros_like(corr)\n",
    "mask[np.triu_indices_from(mask)] = True\n",
    "\n",
    "with sns.axes_style(\"white\"):\n",
    "    f, ax = plt.subplots(figsize=(14, 10))\n",
    "    ax = sns.heatmap(corr, mask=mask, annot = True, vmin = -1, vmax=1, square=True, cmap = 'seismic')\n",
    "    for t in ax.texts:\n",
    "        if abs(float(t.get_text()))>=0.2:\n",
    "            t.set_text(t.get_text()) \n",
    "        else:\n",
    "            t.set_text(\"\")\n",
    "plt.title('Correlation between discrete features\\n', size = 14)\n",
    "plt.show()"
   ]
  },
  {
   "cell_type": "markdown",
   "id": "3c988898",
   "metadata": {},
   "source": [
    "# Check of modifications"
   ]
  },
  {
   "cell_type": "code",
   "execution_count": 89,
   "id": "e94b7d1c",
   "metadata": {},
   "outputs": [
    {
     "name": "stdout",
     "output_type": "stream",
     "text": [
      "13 features were dropped:\n",
      " ['url', 'region_url', 'VIN', 'image_url', 'id', 'description']\n",
      " ['posting_date', 'county', 'size', 'model', 'region', 'lat', 'long']\n"
     ]
    }
   ],
   "source": [
    "# Features dropped\n",
    "print(f'{len(features_dropped)} features were dropped:\\n {features_dropped[:6]}\\n {features_dropped[6:]}')"
   ]
  },
  {
   "cell_type": "code",
   "execution_count": 90,
   "id": "0a502caa",
   "metadata": {},
   "outputs": [
    {
     "name": "stdout",
     "output_type": "stream",
     "text": [
      "Features created:\n",
      "\n",
      " There were 5 categorical features, that were replaced by 15 new features:\n",
      " {'manufacturer_north america ', 'drive_rwd', 'manufacturer_asia ', 'us_region_South', 'paint_color_blue', 'paint_color_white', 'type_truck', 'us_region_West', 'paint_color_black', 'type_pickup', 'drive_fwd', 'us_region_Midwest', 'type_sedan', 'paint_color_grey', 'type_SUV'}\n",
      "\n",
      " => In total, after one-hot encoding, there are 10 more columns than before\n"
     ]
    }
   ],
   "source": [
    "# Features added (with one hot encoding)\n",
    "with_dummy_variables = set(df11.columns)\n",
    "regular_variables = set(df10.columns)\n",
    "\n",
    "dummy_created = with_dummy_variables.difference(regular_variables)\n",
    "net_new_features = len(dummy_created)-len(categorical_features)\n",
    "\n",
    "\n",
    "print('Features created:\\n')\n",
    "print(f' There were {len(categorical_features)} categorical features, that were replaced by {len(dummy_created)} new features:')\n",
    "print(f' {dummy_created}')\n",
    "print(f'\\n => In total, after one-hot encoding, there are {net_new_features} more columns than before')"
   ]
  },
  {
   "cell_type": "code",
   "execution_count": 91,
   "id": "c5f56298",
   "metadata": {},
   "outputs": [
    {
     "name": "stdout",
     "output_type": "stream",
     "text": [
      "Summary features:\n",
      "\n",
      " 13 features were dropped, 5 were replaced and 15 were created\n",
      "=> In net terms, the final dataframe contains 3 less features\n"
     ]
    }
   ],
   "source": [
    "# Net difference on features\n",
    "print('Summary features:\\n')\n",
    "print(f' {len(features_dropped)} features were dropped, {len(categorical_features)} were replaced and {len(dummy_created)} were created')\n",
    "print(f'=> In net terms, the final dataframe contains {len(features_dropped)+len(categorical_features)-len(dummy_created)} less features')"
   ]
  },
  {
   "cell_type": "code",
   "execution_count": 92,
   "id": "73ef11d3",
   "metadata": {},
   "outputs": [
    {
     "name": "stdout",
     "output_type": "stream",
     "text": [
      "Before preprocessing, the data shape was (341504, 26)\n",
      " After preprocessing, the data shape was (300999, 23)\n"
     ]
    }
   ],
   "source": [
    "# Before & After\n",
    "print(f'Before preprocessing, the data shape was {train_set.shape}')\n",
    "print(f' After preprocessing, the data shape was {df12.shape}')"
   ]
  },
  {
   "cell_type": "code",
   "execution_count": 93,
   "id": "5e880db7",
   "metadata": {},
   "outputs": [
    {
     "name": "stdout",
     "output_type": "stream",
     "text": [
      "40505 rows were droppped, this is 11.86% of the data\n"
     ]
    }
   ],
   "source": [
    "# Rows removed\n",
    "print(f'{len(train_set) - len(df12)} rows were droppped, this is {round((len(train_set) - len(df12)) / len(train_set) * 100, 2)}% of the data')"
   ]
  },
  {
   "cell_type": "code",
   "execution_count": null,
   "id": "1b8495ef",
   "metadata": {},
   "outputs": [],
   "source": []
  }
 ],
 "metadata": {
  "kernelspec": {
   "display_name": "Python 3",
   "language": "python",
   "name": "python3"
  },
  "language_info": {
   "codemirror_mode": {
    "name": "ipython",
    "version": 3
   },
   "file_extension": ".py",
   "mimetype": "text/x-python",
   "name": "python",
   "nbconvert_exporter": "python",
   "pygments_lexer": "ipython3",
   "version": "3.8.10"
  }
 },
 "nbformat": 4,
 "nbformat_minor": 5
}
