{
 "cells": [
  {
   "cell_type": "markdown",
   "id": "83fbcd73",
   "metadata": {},
   "source": [
    "# Predicting Used Cars Sale Price\n",
    "Buying and selling a car are important decision as prices are usually high, even for used cars. For this reason, it's important for sellers to be able to estimate their car at a right price and avoid underestimation, as for buyers to avoid choosing a car that is selling above their expected value.\n",
    "\n",
    "### Objective\n",
    "The purpose of this project is to predict sale price of used cars based on different characteristics of a given car.\n",
    "\n",
    "### Performance\n",
    "To do so, a regression model will be built and tuned in order to minimise the error of prediction. The performance will be measured by:\n",
    "* **RMSE:** Root Squared of the Mean Squared Error. It is calculated by the sum of square of prediction error: $\\sum(\\hat{y}-y)^2/N$. Less robust to outliers, it gives a higher weight to large errors (as all errors are squared).\n",
    "* **MAE:** Mean Absolute Error. It is the sum of the average absolute errors, this means that positive and negative errors cancel each other out. However, this also means that the effect of outliers is reduced with respect to RMSE. \n",
    "* **R2:** \"*proportion of the variation in the dependent variable that is predictable from the independent variable.*\" (source: Wikipedia)\n",
    "\n",
    "==================================================================================================="
   ]
  },
  {
   "cell_type": "markdown",
   "id": "e037f794",
   "metadata": {},
   "source": [
    "# Feature Engineering & Feature Selection\n",
    "==================================================================================================="
   ]
  },
  {
   "cell_type": "markdown",
   "id": "6d6864ad",
   "metadata": {},
   "source": [
    "# Import Libraries"
   ]
  },
  {
   "cell_type": "code",
   "execution_count": 1,
   "id": "ea32d5b1",
   "metadata": {},
   "outputs": [],
   "source": [
    "# to handle datasets\n",
    "import pandas as pd\n",
    "import numpy as np\n",
    "\n",
    "# for plotting\n",
    "import matplotlib.pyplot as plt\n",
    "import matplotlib.patches as mpatches\n",
    "import seaborn as sns; sns.set()\n",
    "\n",
    "# for splitting train/test sets\n",
    "from sklearn.model_selection import train_test_split\n",
    "\n",
    "# for handling outliers\n",
    "from feature_engine.outliers import Winsorizer\n",
    "\n",
    "# for scaling data\n",
    "from sklearn.preprocessing import MinMaxScaler\n",
    "\n",
    "# for encoding categorical variables\n",
    "from feature_engine.encoding import OneHotEncoder, RareLabelEncoder, CountFrequencyEncoder\n",
    "\n",
    "# for bringing external data\n",
    "import pickle\n",
    "\n",
    "# for text processing\n",
    "import re\n",
    "\n",
    "# to display all the columns of the dataframe in the notebook & all float numbers rounded to 2digits\n",
    "pd.pandas.set_option('display.max_columns', None)\n",
    "pd.options.display.float_format = '{:.2f}'.format"
   ]
  },
  {
   "cell_type": "markdown",
   "id": "1092837e",
   "metadata": {},
   "source": [
    "# Load & split data"
   ]
  },
  {
   "cell_type": "code",
   "execution_count": 2,
   "id": "7663807e",
   "metadata": {},
   "outputs": [],
   "source": [
    "# Loading the raw_dataset\n",
    "raw_data = pd.read_csv('scraped_data_used_cars.csv')"
   ]
  },
  {
   "cell_type": "code",
   "execution_count": 3,
   "id": "e0467aaf",
   "metadata": {},
   "outputs": [
    {
     "name": "stdout",
     "output_type": "stream",
     "text": [
      "Data without errors: (48575, 11)\n"
     ]
    },
    {
     "data": {
      "text/html": [
       "<div>\n",
       "<style scoped>\n",
       "    .dataframe tbody tr th:only-of-type {\n",
       "        vertical-align: middle;\n",
       "    }\n",
       "\n",
       "    .dataframe tbody tr th {\n",
       "        vertical-align: top;\n",
       "    }\n",
       "\n",
       "    .dataframe thead th {\n",
       "        text-align: right;\n",
       "    }\n",
       "</style>\n",
       "<table border=\"1\" class=\"dataframe\">\n",
       "  <thead>\n",
       "    <tr style=\"text-align: right;\">\n",
       "      <th></th>\n",
       "      <th>Prices</th>\n",
       "      <th>Years</th>\n",
       "      <th>Brand</th>\n",
       "      <th>Kms</th>\n",
       "      <th>Fuel</th>\n",
       "      <th>Emiss_CO2</th>\n",
       "      <th>Cons_litres_100km</th>\n",
       "      <th>Transmission</th>\n",
       "      <th>Doors</th>\n",
       "      <th>Power_CV</th>\n",
       "      <th>Seats</th>\n",
       "    </tr>\n",
       "  </thead>\n",
       "  <tbody>\n",
       "    <tr>\n",
       "      <th>0</th>\n",
       "      <td>21250.00</td>\n",
       "      <td>2019.00</td>\n",
       "      <td>Renault</td>\n",
       "      <td>9500.00</td>\n",
       "      <td>Essence</td>\n",
       "      <td>136.00</td>\n",
       "      <td>6.00</td>\n",
       "      <td>Manuelle</td>\n",
       "      <td>4.00</td>\n",
       "      <td>9.00</td>\n",
       "      <td>5.00</td>\n",
       "    </tr>\n",
       "    <tr>\n",
       "      <th>2</th>\n",
       "      <td>22000.00</td>\n",
       "      <td>1974.00</td>\n",
       "      <td>Volkswagen</td>\n",
       "      <td>100000.00</td>\n",
       "      <td>Essence</td>\n",
       "      <td>165.00</td>\n",
       "      <td>6.80</td>\n",
       "      <td>Manuelle</td>\n",
       "      <td>2.00</td>\n",
       "      <td>9.00</td>\n",
       "      <td>4.00</td>\n",
       "    </tr>\n",
       "    <tr>\n",
       "      <th>4</th>\n",
       "      <td>1500.00</td>\n",
       "      <td>2006.00</td>\n",
       "      <td>Toyota</td>\n",
       "      <td>278000.00</td>\n",
       "      <td>Diesel</td>\n",
       "      <td>82.00</td>\n",
       "      <td>6.20</td>\n",
       "      <td>Manuelle</td>\n",
       "      <td>4.00</td>\n",
       "      <td>7.00</td>\n",
       "      <td>5.00</td>\n",
       "    </tr>\n",
       "  </tbody>\n",
       "</table>\n",
       "</div>"
      ],
      "text/plain": [
       "    Prices   Years       Brand       Kms     Fuel  Emiss_CO2  \\\n",
       "0 21250.00 2019.00     Renault   9500.00  Essence     136.00   \n",
       "2 22000.00 1974.00  Volkswagen 100000.00  Essence     165.00   \n",
       "4  1500.00 2006.00      Toyota 278000.00   Diesel      82.00   \n",
       "\n",
       "   Cons_litres_100km Transmission  Doors  Power_CV  Seats  \n",
       "0               6.00     Manuelle   4.00      9.00   5.00  \n",
       "2               6.80     Manuelle   2.00      9.00   4.00  \n",
       "4               6.20     Manuelle   4.00      7.00   5.00  "
      ]
     },
     "execution_count": 3,
     "metadata": {},
     "output_type": "execute_result"
    }
   ],
   "source": [
    "# Removing duplicates\n",
    "data = raw_data.drop_duplicates()\n",
    "\n",
    "# Removing unnecesary feature\n",
    "data = data.drop(['Model'], axis = 1) \n",
    "\n",
    "# Removing rows containing errors & extreme values\n",
    "years_with_errors = data[(data.Years < 1800) | (data.Years > 2022)].index\n",
    "data = data.drop(years_with_errors)\n",
    "\n",
    "extreme_prices = data[(data['Prices'] < 500) | (data['Prices'] > 600000)].index\n",
    "data = data.drop(extreme_prices)\n",
    "\n",
    "seats_with_errors = data[data.Seats > 10]['Seats'].values\n",
    "data.Seats = data.Seats.replace(to_replace = seats_with_errors, value = np.nan)\n",
    "\n",
    "# Removing rows with missing prices\n",
    "data = data.dropna(subset = ['Prices'])\n",
    "\n",
    "# Checking result\n",
    "print('Data without errors:', data.shape)\n",
    "data.head(3)"
   ]
  },
  {
   "cell_type": "code",
   "execution_count": 4,
   "id": "607b0228",
   "metadata": {},
   "outputs": [
    {
     "name": "stdout",
     "output_type": "stream",
     "text": [
      "Train set without errors: (43717, 11)\n"
     ]
    }
   ],
   "source": [
    "train_set, test_set = train_test_split(data, test_size = 0.1, random_state = 42) \n",
    "\n",
    "# Checking result\n",
    "print('Train set without errors:', train_set.shape)"
   ]
  },
  {
   "cell_type": "code",
   "execution_count": 5,
   "id": "e4806ac6",
   "metadata": {},
   "outputs": [
    {
     "data": {
      "text/plain": [
       "((43717, 10), (43717, 1))"
      ]
     },
     "execution_count": 5,
     "metadata": {},
     "output_type": "execute_result"
    }
   ],
   "source": [
    "# Separing target from features\n",
    "X_train = train_set.drop(['Prices'], axis=1) # predictive variables\n",
    "y_train = train_set[['Prices']] # target\n",
    "\n",
    "X_train.shape, y_train.shape"
   ]
  },
  {
   "cell_type": "markdown",
   "id": "0db34ba2",
   "metadata": {},
   "source": [
    "===================================================================================================\n",
    "# Feature Engineering\n",
    "==================================================================================================="
   ]
  },
  {
   "cell_type": "markdown",
   "id": "9e016955",
   "metadata": {},
   "source": [
    "# Target"
   ]
  },
  {
   "cell_type": "code",
   "execution_count": 6,
   "id": "611012f9",
   "metadata": {},
   "outputs": [],
   "source": [
    "y_train = np.log(y_train)"
   ]
  },
  {
   "cell_type": "markdown",
   "id": "40b23aa1",
   "metadata": {},
   "source": [
    "# Missing Values"
   ]
  },
  {
   "cell_type": "markdown",
   "id": "42160c63",
   "metadata": {},
   "source": [
    "## Categorical variables\n",
    "* If variable contains **more than 10%** of missing data => replace missing values by **\"missing\"**\n",
    "* If variables contains **less than 10%** of missing data => replace with **most frequent category**"
   ]
  },
  {
   "cell_type": "code",
   "execution_count": 7,
   "id": "27dd26f0",
   "metadata": {},
   "outputs": [
    {
     "data": {
      "text/plain": [
       "Transmission   0.08\n",
       "Fuel           0.05\n",
       "Brand          0.00\n",
       "dtype: float64"
      ]
     },
     "execution_count": 7,
     "metadata": {},
     "output_type": "execute_result"
    }
   ],
   "source": [
    "# Identify categorical variables \n",
    "cat_vars = [var for var in X_train.columns if X_train[var].dtype == 'O']\n",
    "\n",
    "# Identify those with missing values\n",
    "cat_vars_nan = [var for var in cat_vars if X_train[var].isnull().sum() > 0]\n",
    "\n",
    "# print percentage of missing values per variable\n",
    "X_train[cat_vars_nan].isnull().mean().sort_values(ascending=False)"
   ]
  },
  {
   "cell_type": "code",
   "execution_count": 8,
   "id": "a46b0b8f",
   "metadata": {},
   "outputs": [],
   "source": [
    "# variables to impute with the string missing\n",
    "with_string_missing = [\n",
    "    var for var in cat_vars_nan if X_train[var].isnull().mean() > 0.1]\n",
    "\n",
    "# variables to impute with the most frequent category\n",
    "with_frequent_category = [\n",
    "    var for var in cat_vars_nan if X_train[var].isnull().mean() < 0.1]"
   ]
  },
  {
   "cell_type": "code",
   "execution_count": 9,
   "id": "c2d1af3c",
   "metadata": {},
   "outputs": [],
   "source": [
    "# replace missing values with new label: \"Missing\"\n",
    "X_train[with_string_missing] = X_train[with_string_missing].fillna('Missing')"
   ]
  },
  {
   "cell_type": "code",
   "execution_count": 10,
   "id": "6e0b3539",
   "metadata": {},
   "outputs": [
    {
     "name": "stdout",
     "output_type": "stream",
     "text": [
      "Most frequent Brand : Renault\n",
      "Most frequent Fuel : Diesel\n",
      "Most frequent Transmission : Manuelle\n"
     ]
    }
   ],
   "source": [
    "for var in with_frequent_category:\n",
    "    # there can be more than 1 mode in a variable we take the first one with [0]    \n",
    "    mode = X_train[var].mode()[0]\n",
    "    \n",
    "    print('Most frequent', var, ':' ,mode)\n",
    "    \n",
    "    X_train[var].fillna(mode, inplace=True)"
   ]
  },
  {
   "cell_type": "code",
   "execution_count": 11,
   "id": "e13d73f0",
   "metadata": {},
   "outputs": [
    {
     "data": {
      "text/plain": [
       "Brand           0\n",
       "Fuel            0\n",
       "Transmission    0\n",
       "dtype: int64"
      ]
     },
     "execution_count": 11,
     "metadata": {},
     "output_type": "execute_result"
    }
   ],
   "source": [
    "# check that there are no remaining missing values\n",
    "X_train[cat_vars_nan].isnull().sum()"
   ]
  },
  {
   "cell_type": "markdown",
   "id": "0f97e6d3",
   "metadata": {},
   "source": [
    "## Numerical variables\n",
    "* First, add binary missing indicator variables\n",
    "* Then, replace missing values with variable mean value"
   ]
  },
  {
   "cell_type": "code",
   "execution_count": 12,
   "id": "40b9357b",
   "metadata": {},
   "outputs": [],
   "source": [
    "# Identify the numerical variables\n",
    "num_vars = [var for var in X_train.columns if var not in cat_vars]\n",
    "\n",
    "# Identify continuous variables\n",
    "cont_vars = [var for var in num_vars if len(X_train[var].unique()) > 10 and var != 'Years']\n",
    "\n",
    "# Identify discrete variables\n",
    "disc_vars = [var for var in num_vars if var not in cont_vars]"
   ]
  },
  {
   "cell_type": "code",
   "execution_count": 13,
   "id": "082bdd28",
   "metadata": {},
   "outputs": [
    {
     "data": {
      "text/plain": [
       "Years               0.00\n",
       "Kms                 0.00\n",
       "Emiss_CO2           0.75\n",
       "Cons_litres_100km   0.82\n",
       "Doors               0.04\n",
       "Power_CV            0.07\n",
       "Seats               0.14\n",
       "dtype: float64"
      ]
     },
     "execution_count": 13,
     "metadata": {},
     "output_type": "execute_result"
    }
   ],
   "source": [
    "# List with the numerical variables that contain missing values\n",
    "num_vars_nan = [var for var in num_vars\n",
    "                    if X_train[var].isnull().sum() > 0]\n",
    "\n",
    "# Print percentage of missing values per variable\n",
    "X_train[num_vars_nan].isnull().mean()"
   ]
  },
  {
   "cell_type": "code",
   "execution_count": 14,
   "id": "427c5d91",
   "metadata": {},
   "outputs": [
    {
     "name": "stdout",
     "output_type": "stream",
     "text": [
      "Years : 2017\n",
      "Kms : 60602.57\n",
      "Emiss_CO2 : 134.5\n",
      "Cons_litres_100km : 6.56\n",
      "Doors : 4\n",
      "Power_CV : 5\n",
      "Seats : 5\n"
     ]
    }
   ],
   "source": [
    "# replace missing values as described above\n",
    "\n",
    "for var in num_vars_nan:\n",
    "    if var in cont_vars:\n",
    "        # calculate the mean for continuous variables \n",
    "        mean_val = X_train[var].mean()\n",
    "        print(var, ':', round(mean_val, 2))\n",
    "    \n",
    "    else:\n",
    "        # calculate the mean for discrete variable by rounding up values\n",
    "        mean_val = round(X_train[var].mean())\n",
    "        print(var, ':', mean_val)\n",
    "        \n",
    "        \n",
    "    # add binary missing indicator \n",
    "    X_train[var + '_na'] = np.where(X_train[var].isnull(), 1, 0)\n",
    "    \n",
    "    # replace missing values by the mean\n",
    "    X_train[var].fillna(mean_val, inplace=True)"
   ]
  },
  {
   "cell_type": "code",
   "execution_count": 15,
   "id": "9e36ddbf",
   "metadata": {},
   "outputs": [
    {
     "data": {
      "text/plain": [
       "Years                0\n",
       "Kms                  0\n",
       "Emiss_CO2            0\n",
       "Cons_litres_100km    0\n",
       "Doors                0\n",
       "Power_CV             0\n",
       "Seats                0\n",
       "dtype: int64"
      ]
     },
     "execution_count": 15,
     "metadata": {},
     "output_type": "execute_result"
    }
   ],
   "source": [
    "# check that there are no more missing values\n",
    "X_train[num_vars_nan].isnull().sum()"
   ]
  },
  {
   "cell_type": "code",
   "execution_count": 16,
   "id": "59f3f945",
   "metadata": {},
   "outputs": [
    {
     "data": {
      "text/html": [
       "<div>\n",
       "<style scoped>\n",
       "    .dataframe tbody tr th:only-of-type {\n",
       "        vertical-align: middle;\n",
       "    }\n",
       "\n",
       "    .dataframe tbody tr th {\n",
       "        vertical-align: top;\n",
       "    }\n",
       "\n",
       "    .dataframe thead th {\n",
       "        text-align: right;\n",
       "    }\n",
       "</style>\n",
       "<table border=\"1\" class=\"dataframe\">\n",
       "  <thead>\n",
       "    <tr style=\"text-align: right;\">\n",
       "      <th></th>\n",
       "      <th>Years_na</th>\n",
       "      <th>Kms_na</th>\n",
       "      <th>Emiss_CO2_na</th>\n",
       "      <th>Cons_litres_100km_na</th>\n",
       "      <th>Doors_na</th>\n",
       "      <th>Power_CV_na</th>\n",
       "      <th>Seats_na</th>\n",
       "    </tr>\n",
       "  </thead>\n",
       "  <tbody>\n",
       "    <tr>\n",
       "      <th>43245</th>\n",
       "      <td>0</td>\n",
       "      <td>0</td>\n",
       "      <td>1</td>\n",
       "      <td>1</td>\n",
       "      <td>0</td>\n",
       "      <td>0</td>\n",
       "      <td>0</td>\n",
       "    </tr>\n",
       "    <tr>\n",
       "      <th>51630</th>\n",
       "      <td>0</td>\n",
       "      <td>0</td>\n",
       "      <td>1</td>\n",
       "      <td>1</td>\n",
       "      <td>0</td>\n",
       "      <td>0</td>\n",
       "      <td>0</td>\n",
       "    </tr>\n",
       "    <tr>\n",
       "      <th>26134</th>\n",
       "      <td>0</td>\n",
       "      <td>0</td>\n",
       "      <td>1</td>\n",
       "      <td>1</td>\n",
       "      <td>0</td>\n",
       "      <td>0</td>\n",
       "      <td>0</td>\n",
       "    </tr>\n",
       "    <tr>\n",
       "      <th>36769</th>\n",
       "      <td>0</td>\n",
       "      <td>0</td>\n",
       "      <td>1</td>\n",
       "      <td>0</td>\n",
       "      <td>0</td>\n",
       "      <td>0</td>\n",
       "      <td>0</td>\n",
       "    </tr>\n",
       "    <tr>\n",
       "      <th>17146</th>\n",
       "      <td>0</td>\n",
       "      <td>0</td>\n",
       "      <td>0</td>\n",
       "      <td>1</td>\n",
       "      <td>0</td>\n",
       "      <td>0</td>\n",
       "      <td>0</td>\n",
       "    </tr>\n",
       "  </tbody>\n",
       "</table>\n",
       "</div>"
      ],
      "text/plain": [
       "       Years_na  Kms_na  Emiss_CO2_na  Cons_litres_100km_na  Doors_na  \\\n",
       "43245         0       0             1                     1         0   \n",
       "51630         0       0             1                     1         0   \n",
       "26134         0       0             1                     1         0   \n",
       "36769         0       0             1                     0         0   \n",
       "17146         0       0             0                     1         0   \n",
       "\n",
       "       Power_CV_na  Seats_na  \n",
       "43245            0         0  \n",
       "51630            0         0  \n",
       "26134            0         0  \n",
       "36769            0         0  \n",
       "17146            0         0  "
      ]
     },
     "execution_count": 16,
     "metadata": {},
     "output_type": "execute_result"
    }
   ],
   "source": [
    "# check the binary missing indicator variables\n",
    "missing_indicator_vars = [var for var in X_train.columns if '_na' in var]\n",
    "X_train[missing_indicator_vars].head()"
   ]
  },
  {
   "cell_type": "markdown",
   "id": "9bd38123",
   "metadata": {},
   "source": [
    "# Numerical transformation"
   ]
  },
  {
   "cell_type": "markdown",
   "id": "80d1eb49",
   "metadata": {},
   "source": [
    "## Log-Transformation"
   ]
  },
  {
   "cell_type": "code",
   "execution_count": 17,
   "id": "6a5d2afc",
   "metadata": {},
   "outputs": [],
   "source": [
    "# Apply log-transformation to Kms as it was the only feature that seemed to benefit from such transformation\n",
    "X_train['Kms'] = np.log(X_train['Kms'])"
   ]
  },
  {
   "cell_type": "markdown",
   "id": "db5d4fb0",
   "metadata": {},
   "source": [
    "# Categorical transformations\n",
    "* *Brand* (medium cardinality) will replaced by two new features to encode whether a brand is a luxury brand and whether its origin country is France, Germany or Other\n",
    "* For features with low cardinality, one-hot encoding after regrouping rare values will be applied"
   ]
  },
  {
   "cell_type": "markdown",
   "id": "c36470d4",
   "metadata": {},
   "source": [
    "## Replacing Brand with external data"
   ]
  },
  {
   "cell_type": "markdown",
   "id": "04c90f35",
   "metadata": {},
   "source": [
    "### Luxury brands"
   ]
  },
  {
   "cell_type": "code",
   "execution_count": 18,
   "id": "1d2fb4fe",
   "metadata": {},
   "outputs": [],
   "source": [
    "with open(\"luxury_cars_list\", \"rb\") as fp:   # Unpickling data scraped from 'https://luxatic.com/best-luxury-car-brands/'\n",
    "    luxury_cars_list = pickle.load(fp)\n",
    "luxury_cars_list.append('tesla')"
   ]
  },
  {
   "cell_type": "code",
   "execution_count": 19,
   "id": "5bdd68e5",
   "metadata": {},
   "outputs": [],
   "source": [
    "dict_lux_cars = {}\n",
    "for car in X_train.Brand:\n",
    "    if (car == 'Rolls-royce') or (car == 'Mercedes') or (car == 'Land-rover') or (car == 'Aston'):\n",
    "            dict_lux_cars[car] = 1\n",
    "    else:\n",
    "        if car.lower() in luxury_cars_list:\n",
    "            dict_lux_cars[car] = 1\n",
    "        else:\n",
    "            dict_lux_cars[car] = 0\n",
    "\n",
    "# Adding new feature                 \n",
    "X_train['Luxury_brand'] = X_train.Brand.map(dict_lux_cars)"
   ]
  },
  {
   "cell_type": "markdown",
   "id": "be8d9ef0",
   "metadata": {},
   "source": [
    "### Country of origin"
   ]
  },
  {
   "cell_type": "code",
   "execution_count": 20,
   "id": "d706d2a7",
   "metadata": {},
   "outputs": [],
   "source": [
    "df_car_origin = pd.read_csv('scraped_brands_per_country.csv') #scraped from https://en.wikipedia.org/wiki/List_of_car_brands"
   ]
  },
  {
   "cell_type": "code",
   "execution_count": 21,
   "id": "19f6b942",
   "metadata": {},
   "outputs": [],
   "source": [
    "# Creating a dict with brand & country\n",
    "dict_cars_origin = {}\n",
    "\n",
    "for brand in set(X_train.Brand):\n",
    "    if type(brand) == str:\n",
    "        brand_isin = df_car_origin[df_car_origin.isin([f'{brand.lower()}'])].stack()\n",
    "        \n",
    "        if len(brand_isin) > 0:\n",
    "            country = brand_isin.index[0][1]\n",
    "            \n",
    "            # Filtering for \"France\" & \"Germany\"\n",
    "            if (country == 'france') or (country == 'germany'):\n",
    "                dict_cars_origin[f'{brand}'] = country\n",
    "            else:\n",
    "                dict_cars_origin[f'{brand}'] = 'other'"
   ]
  },
  {
   "cell_type": "code",
   "execution_count": 22,
   "id": "786c2e6b",
   "metadata": {},
   "outputs": [],
   "source": [
    "# Adding missing values from dict \n",
    "s1 = set(X_train.Brand)\n",
    "s2 = set(dict_cars_origin.keys())\n",
    "\n",
    "for brand in s1.difference(s2):\n",
    "    dict_cars_origin[brand] = 'other'"
   ]
  },
  {
   "cell_type": "code",
   "execution_count": 23,
   "id": "28c923bf",
   "metadata": {},
   "outputs": [
    {
     "name": "stdout",
     "output_type": "stream",
     "text": [
      "From a total of 69 brands, 0 are missing\n"
     ]
    }
   ],
   "source": [
    "# Checking for missing values\n",
    "s1 = set(X_train.Brand)\n",
    "s2 = set(dict_cars_origin.keys())    \n",
    "    \n",
    "print(f'From a total of {X_train.Brand.nunique()} brands, {len(s1.difference(s2))} are missing')"
   ]
  },
  {
   "cell_type": "code",
   "execution_count": 24,
   "id": "cfae94f4",
   "metadata": {},
   "outputs": [
    {
     "data": {
      "text/plain": [
       "france     17388\n",
       "other      14541\n",
       "germany    11788\n",
       "Name: Brand_origin, dtype: int64"
      ]
     },
     "execution_count": 24,
     "metadata": {},
     "output_type": "execute_result"
    }
   ],
   "source": [
    "# Adding new feature\n",
    "X_train['Brand_origin'] = X_train['Brand'].replace(dict_cars_origin)\n",
    "X_train.Brand_origin.value_counts()"
   ]
  },
  {
   "cell_type": "markdown",
   "id": "e8b2871f",
   "metadata": {},
   "source": [
    "#### Testing different encoders for \"Brand\""
   ]
  },
  {
   "cell_type": "code",
   "execution_count": 25,
   "id": "8085089b",
   "metadata": {},
   "outputs": [],
   "source": [
    "# Load origin data\n",
    "df_car_origin = pd.read_csv('scraped_brands_per_country.csv')\n",
    "        \n",
    "# Creating a dict with brand & country\n",
    "dict_lux_cars = {}\n",
    "for car in X_train.Brand:\n",
    "    if (car == 'Rolls-royce') or (car == 'Mercedes') or (car == 'Land-rover') or (car == 'Aston'):\n",
    "        dict_lux_cars[car] = 1\n",
    "    else:\n",
    "        if car.lower() in luxury_cars_list:\n",
    "            dict_lux_cars[car] = 1\n",
    "        else:\n",
    "            dict_lux_cars[car] = 0\n",
    "        \n",
    "# Adding missing values from dict \n",
    "s1 = set(X_train['Brand'])\n",
    "s2 = set(dict_cars_origin.keys())\n",
    "\n",
    "for brand in s1.difference(s2):\n",
    "    dict_cars_origin[brand] = 'other'\n",
    "\n",
    "X_train['Brand_origin'] = X_train['Brand'].replace(dict_cars_origin)"
   ]
  },
  {
   "cell_type": "code",
   "execution_count": 26,
   "id": "8e818a1f",
   "metadata": {},
   "outputs": [],
   "source": [
    "# Testing OneHotEncoder\n",
    "ohe = OneHotEncoder(drop_last = True, variables = 'Brand')\n",
    "ohe.fit(X_train)\n",
    "\n",
    "# Getting correlation between brands & price\n",
    "dummy_brands_corr_price = ohe.transform(X_train).iloc[:, 19:].join(y_train).corr(method = 'spearman')['Prices'][:-1].sort_values(ascending = False) "
   ]
  },
  {
   "cell_type": "code",
   "execution_count": 27,
   "id": "35d35b13",
   "metadata": {},
   "outputs": [
    {
     "data": {
      "image/png": "[encoded data removed]",
      "text/plain": [
       "<Figure size 1152x432 with 1 Axes>"
      ]
     },
     "metadata": {},
     "output_type": "display_data"
    }
   ],
   "source": [
    "# Getting colors for plot\n",
    "brands_ = [re.sub(r'Brand_','', brand) for brand in dummy_brands_corr_price.index]\n",
    "\n",
    "lux_cars = [car for car,value in dict_lux_cars.items() if value == 1]\n",
    "french_cars = [car for car,value in dict_cars_origin.items() if value == 'france']\n",
    "\n",
    "colors = []\n",
    "for brand in brands_:\n",
    "    if brand in lux_cars:\n",
    "        colors.append('orange')\n",
    "    elif brand in french_cars:\n",
    "        colors.append('r')\n",
    "    else:\n",
    "        colors.append('b')\n",
    "              \n",
    "\n",
    "# Plotting\n",
    "plt.figure(figsize = (16,6))\n",
    "dummy_brands_corr_price.plot.bar(color = colors)\n",
    "\n",
    "red_patch = mpatches.Patch(color='r', label='French cars')\n",
    "orange_patch = mpatches.Patch(color='orange', label='Luxury cars')\n",
    "blue_patch = mpatches.Patch(color='b', label='Others')\n",
    "plt.legend(handles=[orange_patch, red_patch, blue_patch])\n",
    "\n",
    "plt.show()"
   ]
  },
  {
   "cell_type": "markdown",
   "id": "9892c8b9",
   "metadata": {},
   "source": [
    "Although there is a clear relationship between different brands and their selling price, a good part of this relationship is kept by just including the \"Luxury_Brand\" dummy variable and adding the country of origin, specially specifying which are french cars. \n",
    "\n",
    "There does not seem that one-hot encoding of Brands is necessary. Moreover, including that many features could slow down future models and lead to overfitting."
   ]
  },
  {
   "cell_type": "markdown",
   "id": "91868c57",
   "metadata": {},
   "source": [
    "#### Testing Frequent Encoder"
   ]
  },
  {
   "cell_type": "code",
   "execution_count": 28,
   "id": "a933495a",
   "metadata": {
    "scrolled": true
   },
   "outputs": [
    {
     "data": {
      "text/plain": [
       "-0.18443543907833207"
      ]
     },
     "execution_count": 28,
     "metadata": {},
     "output_type": "execute_result"
    }
   ],
   "source": [
    "freq_enc = CountFrequencyEncoder(variables = 'Brand')\n",
    "freq_enc.fit(X_train)\n",
    "freq_enc.transform(X_train)['Brand'].corr(y_train['Prices'])"
   ]
  },
  {
   "cell_type": "markdown",
   "id": "42a1c593",
   "metadata": {},
   "source": [
    "Encoding brands by their frequency seem to have some correlation with price, therefore it would be reasonable to encode as such this feature. Therefore, we can drop the Brand feature."
   ]
  },
  {
   "cell_type": "code",
   "execution_count": 29,
   "id": "c683f1ca",
   "metadata": {},
   "outputs": [
    {
     "data": {
      "text/html": [
       "<div>\n",
       "<style scoped>\n",
       "    .dataframe tbody tr th:only-of-type {\n",
       "        vertical-align: middle;\n",
       "    }\n",
       "\n",
       "    .dataframe tbody tr th {\n",
       "        vertical-align: top;\n",
       "    }\n",
       "\n",
       "    .dataframe thead th {\n",
       "        text-align: right;\n",
       "    }\n",
       "</style>\n",
       "<table border=\"1\" class=\"dataframe\">\n",
       "  <thead>\n",
       "    <tr style=\"text-align: right;\">\n",
       "      <th></th>\n",
       "      <th>Years</th>\n",
       "      <th>Brand</th>\n",
       "      <th>Kms</th>\n",
       "      <th>Fuel</th>\n",
       "      <th>Emiss_CO2</th>\n",
       "      <th>Cons_litres_100km</th>\n",
       "      <th>Transmission</th>\n",
       "      <th>Doors</th>\n",
       "      <th>Power_CV</th>\n",
       "      <th>Seats</th>\n",
       "      <th>Years_na</th>\n",
       "      <th>Kms_na</th>\n",
       "      <th>Emiss_CO2_na</th>\n",
       "      <th>Cons_litres_100km_na</th>\n",
       "      <th>Doors_na</th>\n",
       "      <th>Power_CV_na</th>\n",
       "      <th>Seats_na</th>\n",
       "      <th>Luxury_brand</th>\n",
       "      <th>Brand_origin</th>\n",
       "    </tr>\n",
       "  </thead>\n",
       "  <tbody>\n",
       "    <tr>\n",
       "      <th>43245</th>\n",
       "      <td>2018.00</td>\n",
       "      <td>356</td>\n",
       "      <td>11.18</td>\n",
       "      <td>Diesel</td>\n",
       "      <td>134.50</td>\n",
       "      <td>6.56</td>\n",
       "      <td>Automatique</td>\n",
       "      <td>4.00</td>\n",
       "      <td>8.00</td>\n",
       "      <td>5.00</td>\n",
       "      <td>0</td>\n",
       "      <td>0</td>\n",
       "      <td>1</td>\n",
       "      <td>1</td>\n",
       "      <td>0</td>\n",
       "      <td>0</td>\n",
       "      <td>0</td>\n",
       "      <td>0</td>\n",
       "      <td>other</td>\n",
       "    </tr>\n",
       "    <tr>\n",
       "      <th>51630</th>\n",
       "      <td>2017.00</td>\n",
       "      <td>1013</td>\n",
       "      <td>10.13</td>\n",
       "      <td>Diesel</td>\n",
       "      <td>134.50</td>\n",
       "      <td>6.56</td>\n",
       "      <td>Manuelle</td>\n",
       "      <td>4.00</td>\n",
       "      <td>5.00</td>\n",
       "      <td>5.00</td>\n",
       "      <td>0</td>\n",
       "      <td>0</td>\n",
       "      <td>1</td>\n",
       "      <td>1</td>\n",
       "      <td>0</td>\n",
       "      <td>0</td>\n",
       "      <td>0</td>\n",
       "      <td>0</td>\n",
       "      <td>other</td>\n",
       "    </tr>\n",
       "    <tr>\n",
       "      <th>26134</th>\n",
       "      <td>2020.00</td>\n",
       "      <td>3173</td>\n",
       "      <td>8.96</td>\n",
       "      <td>Diesel</td>\n",
       "      <td>134.50</td>\n",
       "      <td>6.56</td>\n",
       "      <td>Semi automatique</td>\n",
       "      <td>4.00</td>\n",
       "      <td>8.00</td>\n",
       "      <td>5.00</td>\n",
       "      <td>0</td>\n",
       "      <td>0</td>\n",
       "      <td>1</td>\n",
       "      <td>1</td>\n",
       "      <td>0</td>\n",
       "      <td>0</td>\n",
       "      <td>0</td>\n",
       "      <td>1</td>\n",
       "      <td>germany</td>\n",
       "    </tr>\n",
       "  </tbody>\n",
       "</table>\n",
       "</div>"
      ],
      "text/plain": [
       "        Years  Brand   Kms    Fuel  Emiss_CO2  Cons_litres_100km  \\\n",
       "43245 2018.00    356 11.18  Diesel     134.50               6.56   \n",
       "51630 2017.00   1013 10.13  Diesel     134.50               6.56   \n",
       "26134 2020.00   3173  8.96  Diesel     134.50               6.56   \n",
       "\n",
       "           Transmission  Doors  Power_CV  Seats  Years_na  Kms_na  \\\n",
       "43245       Automatique   4.00      8.00   5.00         0       0   \n",
       "51630          Manuelle   4.00      5.00   5.00         0       0   \n",
       "26134  Semi automatique   4.00      8.00   5.00         0       0   \n",
       "\n",
       "       Emiss_CO2_na  Cons_litres_100km_na  Doors_na  Power_CV_na  Seats_na  \\\n",
       "43245             1                     1         0            0         0   \n",
       "51630             1                     1         0            0         0   \n",
       "26134             1                     1         0            0         0   \n",
       "\n",
       "       Luxury_brand Brand_origin  \n",
       "43245             0        other  \n",
       "51630             0        other  \n",
       "26134             1      germany  "
      ]
     },
     "execution_count": 29,
     "metadata": {},
     "output_type": "execute_result"
    }
   ],
   "source": [
    "X_train = freq_enc.transform(X_train)\n",
    "X_train.head(3)"
   ]
  },
  {
   "cell_type": "markdown",
   "id": "ccce49f1",
   "metadata": {},
   "source": [
    "## Regrouping rare labels"
   ]
  },
  {
   "cell_type": "code",
   "execution_count": 30,
   "id": "0326e177",
   "metadata": {},
   "outputs": [],
   "source": [
    "rare_encoder = RareLabelEncoder(tol = 0.05, \n",
    "                                n_categories = 2, \n",
    "                                variables = ['Fuel', 'Transmission'],\n",
    "                                replace_with = 'Other')"
   ]
  },
  {
   "cell_type": "code",
   "execution_count": 31,
   "id": "fc59b5ac",
   "metadata": {},
   "outputs": [
    {
     "data": {
      "text/plain": [
       "RareLabelEncoder(n_categories=2, replace_with='Other',\n",
       "                 variables=['Fuel', 'Transmission'])"
      ]
     },
     "execution_count": 31,
     "metadata": {},
     "output_type": "execute_result"
    }
   ],
   "source": [
    "rare_encoder.fit(X_train)"
   ]
  },
  {
   "cell_type": "code",
   "execution_count": 32,
   "id": "847c5f45",
   "metadata": {},
   "outputs": [],
   "source": [
    "X_train = rare_encoder.transform(X_train)"
   ]
  },
  {
   "cell_type": "code",
   "execution_count": 33,
   "id": "c0506f7d",
   "metadata": {},
   "outputs": [
    {
     "data": {
      "text/plain": [
       "Diesel    0.51\n",
       "Essence   0.42\n",
       "Other     0.07\n",
       "Name: Fuel, dtype: float64"
      ]
     },
     "execution_count": 33,
     "metadata": {},
     "output_type": "execute_result"
    }
   ],
   "source": [
    "# Checking Fuel values\n",
    "X_train.Fuel.value_counts() / len(X_train)"
   ]
  },
  {
   "cell_type": "code",
   "execution_count": 34,
   "id": "b5615596",
   "metadata": {},
   "outputs": [
    {
     "data": {
      "text/plain": [
       "Manuelle      0.55\n",
       "Automatique   0.40\n",
       "Other         0.05\n",
       "Name: Transmission, dtype: float64"
      ]
     },
     "execution_count": 34,
     "metadata": {},
     "output_type": "execute_result"
    }
   ],
   "source": [
    "# Checking Transmission values\n",
    "X_train.Transmission.value_counts() / len(X_train)"
   ]
  },
  {
   "cell_type": "markdown",
   "id": "142227f5",
   "metadata": {},
   "source": [
    "## OneHotEncoding "
   ]
  },
  {
   "cell_type": "code",
   "execution_count": 35,
   "id": "eb162bd1",
   "metadata": {},
   "outputs": [],
   "source": [
    "ohe = OneHotEncoder()\n",
    "ohe.fit(X_train)\n",
    "X_train = ohe.transform(X_train)"
   ]
  },
  {
   "cell_type": "code",
   "execution_count": 36,
   "id": "de0a6c61",
   "metadata": {},
   "outputs": [
    {
     "name": "stdout",
     "output_type": "stream",
     "text": [
      "(43717, 25)\n"
     ]
    },
    {
     "data": {
      "text/html": [
       "<div>\n",
       "<style scoped>\n",
       "    .dataframe tbody tr th:only-of-type {\n",
       "        vertical-align: middle;\n",
       "    }\n",
       "\n",
       "    .dataframe tbody tr th {\n",
       "        vertical-align: top;\n",
       "    }\n",
       "\n",
       "    .dataframe thead th {\n",
       "        text-align: right;\n",
       "    }\n",
       "</style>\n",
       "<table border=\"1\" class=\"dataframe\">\n",
       "  <thead>\n",
       "    <tr style=\"text-align: right;\">\n",
       "      <th></th>\n",
       "      <th>Years</th>\n",
       "      <th>Brand</th>\n",
       "      <th>Kms</th>\n",
       "      <th>Emiss_CO2</th>\n",
       "      <th>Cons_litres_100km</th>\n",
       "      <th>Doors</th>\n",
       "      <th>Power_CV</th>\n",
       "      <th>Seats</th>\n",
       "      <th>Years_na</th>\n",
       "      <th>Kms_na</th>\n",
       "      <th>Emiss_CO2_na</th>\n",
       "      <th>Cons_litres_100km_na</th>\n",
       "      <th>Doors_na</th>\n",
       "      <th>Power_CV_na</th>\n",
       "      <th>Seats_na</th>\n",
       "      <th>Luxury_brand</th>\n",
       "      <th>Fuel_Diesel</th>\n",
       "      <th>Fuel_Essence</th>\n",
       "      <th>Fuel_Other</th>\n",
       "      <th>Transmission_Automatique</th>\n",
       "      <th>Transmission_Manuelle</th>\n",
       "      <th>Transmission_Other</th>\n",
       "      <th>Brand_origin_other</th>\n",
       "      <th>Brand_origin_germany</th>\n",
       "      <th>Brand_origin_france</th>\n",
       "    </tr>\n",
       "  </thead>\n",
       "  <tbody>\n",
       "    <tr>\n",
       "      <th>43245</th>\n",
       "      <td>2018.00</td>\n",
       "      <td>356</td>\n",
       "      <td>11.18</td>\n",
       "      <td>134.50</td>\n",
       "      <td>6.56</td>\n",
       "      <td>4.00</td>\n",
       "      <td>8.00</td>\n",
       "      <td>5.00</td>\n",
       "      <td>0</td>\n",
       "      <td>0</td>\n",
       "      <td>1</td>\n",
       "      <td>1</td>\n",
       "      <td>0</td>\n",
       "      <td>0</td>\n",
       "      <td>0</td>\n",
       "      <td>0</td>\n",
       "      <td>1</td>\n",
       "      <td>0</td>\n",
       "      <td>0</td>\n",
       "      <td>1</td>\n",
       "      <td>0</td>\n",
       "      <td>0</td>\n",
       "      <td>1</td>\n",
       "      <td>0</td>\n",
       "      <td>0</td>\n",
       "    </tr>\n",
       "    <tr>\n",
       "      <th>51630</th>\n",
       "      <td>2017.00</td>\n",
       "      <td>1013</td>\n",
       "      <td>10.13</td>\n",
       "      <td>134.50</td>\n",
       "      <td>6.56</td>\n",
       "      <td>4.00</td>\n",
       "      <td>5.00</td>\n",
       "      <td>5.00</td>\n",
       "      <td>0</td>\n",
       "      <td>0</td>\n",
       "      <td>1</td>\n",
       "      <td>1</td>\n",
       "      <td>0</td>\n",
       "      <td>0</td>\n",
       "      <td>0</td>\n",
       "      <td>0</td>\n",
       "      <td>1</td>\n",
       "      <td>0</td>\n",
       "      <td>0</td>\n",
       "      <td>0</td>\n",
       "      <td>1</td>\n",
       "      <td>0</td>\n",
       "      <td>1</td>\n",
       "      <td>0</td>\n",
       "      <td>0</td>\n",
       "    </tr>\n",
       "    <tr>\n",
       "      <th>26134</th>\n",
       "      <td>2020.00</td>\n",
       "      <td>3173</td>\n",
       "      <td>8.96</td>\n",
       "      <td>134.50</td>\n",
       "      <td>6.56</td>\n",
       "      <td>4.00</td>\n",
       "      <td>8.00</td>\n",
       "      <td>5.00</td>\n",
       "      <td>0</td>\n",
       "      <td>0</td>\n",
       "      <td>1</td>\n",
       "      <td>1</td>\n",
       "      <td>0</td>\n",
       "      <td>0</td>\n",
       "      <td>0</td>\n",
       "      <td>1</td>\n",
       "      <td>1</td>\n",
       "      <td>0</td>\n",
       "      <td>0</td>\n",
       "      <td>0</td>\n",
       "      <td>0</td>\n",
       "      <td>1</td>\n",
       "      <td>0</td>\n",
       "      <td>1</td>\n",
       "      <td>0</td>\n",
       "    </tr>\n",
       "    <tr>\n",
       "      <th>36769</th>\n",
       "      <td>2018.00</td>\n",
       "      <td>3806</td>\n",
       "      <td>11.16</td>\n",
       "      <td>134.50</td>\n",
       "      <td>5.50</td>\n",
       "      <td>4.00</td>\n",
       "      <td>6.00</td>\n",
       "      <td>5.00</td>\n",
       "      <td>0</td>\n",
       "      <td>0</td>\n",
       "      <td>1</td>\n",
       "      <td>0</td>\n",
       "      <td>0</td>\n",
       "      <td>0</td>\n",
       "      <td>0</td>\n",
       "      <td>0</td>\n",
       "      <td>0</td>\n",
       "      <td>1</td>\n",
       "      <td>0</td>\n",
       "      <td>1</td>\n",
       "      <td>0</td>\n",
       "      <td>0</td>\n",
       "      <td>0</td>\n",
       "      <td>0</td>\n",
       "      <td>1</td>\n",
       "    </tr>\n",
       "    <tr>\n",
       "      <th>17146</th>\n",
       "      <td>2021.00</td>\n",
       "      <td>7182</td>\n",
       "      <td>9.69</td>\n",
       "      <td>149.00</td>\n",
       "      <td>6.56</td>\n",
       "      <td>5.00</td>\n",
       "      <td>5.00</td>\n",
       "      <td>5.00</td>\n",
       "      <td>0</td>\n",
       "      <td>0</td>\n",
       "      <td>0</td>\n",
       "      <td>1</td>\n",
       "      <td>0</td>\n",
       "      <td>0</td>\n",
       "      <td>0</td>\n",
       "      <td>0</td>\n",
       "      <td>0</td>\n",
       "      <td>1</td>\n",
       "      <td>0</td>\n",
       "      <td>0</td>\n",
       "      <td>1</td>\n",
       "      <td>0</td>\n",
       "      <td>0</td>\n",
       "      <td>0</td>\n",
       "      <td>1</td>\n",
       "    </tr>\n",
       "  </tbody>\n",
       "</table>\n",
       "</div>"
      ],
      "text/plain": [
       "        Years  Brand   Kms  Emiss_CO2  Cons_litres_100km  Doors  Power_CV  \\\n",
       "43245 2018.00    356 11.18     134.50               6.56   4.00      8.00   \n",
       "51630 2017.00   1013 10.13     134.50               6.56   4.00      5.00   \n",
       "26134 2020.00   3173  8.96     134.50               6.56   4.00      8.00   \n",
       "36769 2018.00   3806 11.16     134.50               5.50   4.00      6.00   \n",
       "17146 2021.00   7182  9.69     149.00               6.56   5.00      5.00   \n",
       "\n",
       "       Seats  Years_na  Kms_na  Emiss_CO2_na  Cons_litres_100km_na  Doors_na  \\\n",
       "43245   5.00         0       0             1                     1         0   \n",
       "51630   5.00         0       0             1                     1         0   \n",
       "26134   5.00         0       0             1                     1         0   \n",
       "36769   5.00         0       0             1                     0         0   \n",
       "17146   5.00         0       0             0                     1         0   \n",
       "\n",
       "       Power_CV_na  Seats_na  Luxury_brand  Fuel_Diesel  Fuel_Essence  \\\n",
       "43245            0         0             0            1             0   \n",
       "51630            0         0             0            1             0   \n",
       "26134            0         0             1            1             0   \n",
       "36769            0         0             0            0             1   \n",
       "17146            0         0             0            0             1   \n",
       "\n",
       "       Fuel_Other  Transmission_Automatique  Transmission_Manuelle  \\\n",
       "43245           0                         1                      0   \n",
       "51630           0                         0                      1   \n",
       "26134           0                         0                      0   \n",
       "36769           0                         1                      0   \n",
       "17146           0                         0                      1   \n",
       "\n",
       "       Transmission_Other  Brand_origin_other  Brand_origin_germany  \\\n",
       "43245                   0                   1                     0   \n",
       "51630                   0                   1                     0   \n",
       "26134                   1                   0                     1   \n",
       "36769                   0                   0                     0   \n",
       "17146                   0                   0                     0   \n",
       "\n",
       "       Brand_origin_france  \n",
       "43245                    0  \n",
       "51630                    0  \n",
       "26134                    0  \n",
       "36769                    1  \n",
       "17146                    1  "
      ]
     },
     "execution_count": 36,
     "metadata": {},
     "output_type": "execute_result"
    }
   ],
   "source": [
    "print(X_train.shape)\n",
    "X_train.head()"
   ]
  },
  {
   "cell_type": "markdown",
   "id": "9aa0bdee",
   "metadata": {},
   "source": [
    "# Feature Scaling"
   ]
  },
  {
   "cell_type": "code",
   "execution_count": 37,
   "id": "2d6fabb7",
   "metadata": {},
   "outputs": [],
   "source": [
    "# create scaler\n",
    "scaler = MinMaxScaler()\n",
    "\n",
    "#  fit  the scaler to the train set\n",
    "scaler.fit(X_train) \n",
    "\n",
    "# transform and wrap the array with a pandas dataframe\n",
    "\n",
    "X_train = pd.DataFrame(\n",
    "    scaler.transform(X_train),\n",
    "    columns=X_train.columns\n",
    ")"
   ]
  },
  {
   "cell_type": "markdown",
   "id": "cd810ee2",
   "metadata": {},
   "source": [
    "## Correlation with Prices"
   ]
  },
  {
   "cell_type": "code",
   "execution_count": 38,
   "id": "a7e9c756",
   "metadata": {},
   "outputs": [
    {
     "data": {
      "image/png": "[encoded data removed]",
      "text/plain": [
       "<Figure size 1080x432 with 1 Axes>"
      ]
     },
     "metadata": {},
     "output_type": "display_data"
    }
   ],
   "source": [
    "plt.figure(figsize = (15,6))\n",
    "corr_data = X_train.join(y_train).corr()['Prices'][:-1]\n",
    "colors = ['g' if corr > 0 else 'r' for corr in corr_data]\n",
    "corr_data.plot.bar(color = colors)\n",
    "plt.title('Feature correlation with Prices', weight = 'bold', size = 15)\n",
    "plt.show()"
   ]
  },
  {
   "cell_type": "markdown",
   "id": "59fa622d",
   "metadata": {},
   "source": [
    "### Correlation between features"
   ]
  },
  {
   "cell_type": "code",
   "execution_count": 39,
   "id": "5fe90f6e",
   "metadata": {},
   "outputs": [
    {
     "data": {
      "image/png": "[encoded data removed]",
      "text/plain": [
       "<Figure size 1080x1080 with 2 Axes>"
      ]
     },
     "metadata": {},
     "output_type": "display_data"
    }
   ],
   "source": [
    "corr = X_train.corr()\n",
    "mask = np.zeros_like(corr)\n",
    "mask[np.triu_indices_from(mask)] = True\n",
    "\n",
    "with sns.axes_style(\"white\"):\n",
    "    f, ax = plt.subplots(figsize=(15, 15))\n",
    "    ax = sns.heatmap(corr, mask=mask, annot = True, vmin = -1, vmax=1, square=True, cmap = 'seismic')\n",
    "    for t in ax.texts:\n",
    "        \n",
    "        if abs(float(t.get_text()))>=0.4:\n",
    "            t.set_text(t.get_text()) \n",
    "        else:\n",
    "            t.set_text(\"\")\n",
    "plt.title('Correlation between features\\n', size = 14)\n",
    "plt.show()"
   ]
  },
  {
   "cell_type": "markdown",
   "id": "c8c6a684",
   "metadata": {},
   "source": [
    "===================================================================================================\n",
    "# Saving preprocessed train set"
   ]
  },
  {
   "cell_type": "code",
   "execution_count": 40,
   "id": "e1b1e504",
   "metadata": {},
   "outputs": [
    {
     "data": {
      "text/plain": [
       "((43717, 25), (43717, 1))"
      ]
     },
     "execution_count": 40,
     "metadata": {},
     "output_type": "execute_result"
    }
   ],
   "source": [
    "X_train.shape, y_train.shape"
   ]
  },
  {
   "cell_type": "code",
   "execution_count": 41,
   "id": "a1f31b91",
   "metadata": {},
   "outputs": [],
   "source": [
    "X_train.to_csv('xtrain_preprocessed.csv', index=False)\n",
    "y_train.to_csv('ytrain_preprocessed.csv', index=False)"
   ]
  },
  {
   "cell_type": "code",
   "execution_count": null,
   "id": "ce5efefc",
   "metadata": {},
   "outputs": [],
   "source": []
  }
 ],
 "metadata": {
  "kernelspec": {
   "display_name": "Python 3 (ipykernel)",
   "language": "python",
   "name": "python3"
  },
  "language_info": {
   "codemirror_mode": {
    "name": "ipython",
    "version": 3
   },
   "file_extension": ".py",
   "mimetype": "text/x-python",
   "name": "python",
   "nbconvert_exporter": "python",
   "pygments_lexer": "ipython3",
   "version": "3.9.7"
  }
 },
 "nbformat": 4,
 "nbformat_minor": 5
}
