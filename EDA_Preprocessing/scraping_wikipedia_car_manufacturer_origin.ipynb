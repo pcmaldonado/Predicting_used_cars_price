{
 "cells": [
  {
   "cell_type": "markdown",
   "id": "cd1db8df",
   "metadata": {},
   "source": [
    "# Import libraries"
   ]
  },
  {
   "cell_type": "code",
   "execution_count": 1,
   "id": "140a7c4f",
   "metadata": {},
   "outputs": [],
   "source": [
    "from bs4 import BeautifulSoup\n",
    "import urllib\n",
    "import re\n",
    "\n",
    "import pandas as pd"
   ]
  },
  {
   "cell_type": "markdown",
   "id": "5276f1bc",
   "metadata": {},
   "source": [
    "# Getting the data"
   ]
  },
  {
   "cell_type": "code",
   "execution_count": 2,
   "id": "e34dc1b6",
   "metadata": {},
   "outputs": [],
   "source": [
    "base_site = 'https://en.wikipedia.org/wiki/List_of_current_automobile_manufacturers_by_country'\n",
    "source = urllib.request.urlopen(base_site).read()"
   ]
  },
  {
   "cell_type": "markdown",
   "id": "21d1411e",
   "metadata": {},
   "source": [
    "# Parsing the data"
   ]
  },
  {
   "cell_type": "code",
   "execution_count": 3,
   "id": "b5a5820d",
   "metadata": {},
   "outputs": [],
   "source": [
    "soup = BeautifulSoup(source, 'lxml')"
   ]
  },
  {
   "cell_type": "markdown",
   "id": "24e60024",
   "metadata": {},
   "source": [
    "# Fetching the data"
   ]
  },
  {
   "cell_type": "code",
   "execution_count": 4,
   "id": "22429cff",
   "metadata": {
    "scrolled": false
   },
   "outputs": [],
   "source": [
    "text = ''\n",
    "first_story_paragraph = soup.find_all([\"h2\", \"li\"])\n",
    "for i in first_story_paragraph:\n",
    "    text += (i.text + '\\n ')"
   ]
  },
  {
   "cell_type": "markdown",
   "id": "e1804654",
   "metadata": {},
   "source": [
    "# Preprocessing the data"
   ]
  },
  {
   "cell_type": "code",
   "execution_count": 5,
   "id": "5dd095b0",
   "metadata": {},
   "outputs": [],
   "source": [
    "text0 = text.lower()"
   ]
  },
  {
   "cell_type": "code",
   "execution_count": 6,
   "id": "5871e875",
   "metadata": {},
   "outputs": [
    {
     "data": {
      "text/plain": [
       "{'(', ')', '[', ']'}"
      ]
     },
     "execution_count": 6,
     "metadata": {},
     "output_type": "execute_result"
    }
   ],
   "source": [
    "# Remove (parantheses), [square brackets] and {curly bracketes}\n",
    "text1 = re.sub(r'[()[\\]{}]', ' ', text0)\n",
    "set(text0).symmetric_difference(set(text1))"
   ]
  },
  {
   "cell_type": "code",
   "execution_count": 7,
   "id": "1cccc488",
   "metadata": {},
   "outputs": [
    {
     "data": {
      "text/plain": [
       "{'0', '1', '2', '3', '4', '5', '6', '7', '8', '9'}"
      ]
     },
     "execution_count": 7,
     "metadata": {},
     "output_type": "execute_result"
    }
   ],
   "source": [
    "# remove digits\n",
    "text2 = re.sub(r'\\d', ' ', text1)\n",
    "set(text1).symmetric_difference(set(text2))"
   ]
  },
  {
   "cell_type": "code",
   "execution_count": 8,
   "id": "f77b48d0",
   "metadata": {},
   "outputs": [
    {
     "data": {
      "text/plain": [
       "['africa edit ',\n",
       " 'snvi          ',\n",
       " 'egy-tech engineering',\n",
       " 'kantanka cars      ',\n",
       " 'mobius motors          ']"
      ]
     },
     "execution_count": 8,
     "metadata": {},
     "output_type": "execute_result"
    }
   ],
   "source": [
    "# split text by newline (\\n) & slice to get desired data\n",
    "text3 = text2.split('\\n ')\n",
    "data = text3[9:310]\n",
    "data[:5]"
   ]
  },
  {
   "cell_type": "code",
   "execution_count": 9,
   "id": "7ee9a187",
   "metadata": {},
   "outputs": [],
   "source": [
    "# Removing \" -present\"\n",
    "for i in range(len(data)):\n",
    "    data[i] = re.sub(r'\\s+\\W+\\w+', '', data[i])"
   ]
  },
  {
   "cell_type": "code",
   "execution_count": 10,
   "id": "c4a45968",
   "metadata": {},
   "outputs": [],
   "source": [
    "# Removing \\n...\n",
    "for i in range(len(data)):\n",
    "    data[i] = re.sub(r'\\n\\w+', '',data[i])"
   ]
  },
  {
   "cell_type": "code",
   "execution_count": 11,
   "id": "e778c7e3",
   "metadata": {},
   "outputs": [],
   "source": [
    "# https://stackoverflow.com/questions/52551398/slicing-a-list-into-sublists-based-on-condition\n",
    "data[0] = re.sub(r' edit','',data[0])\n",
    "\n",
    "arrays = [[data[0]]]\n",
    "\n",
    "for i in range(1, len(data)):\n",
    "    if 'edit' not in data[i]:\n",
    "        arrays[len(arrays)-1].append(data[i].strip()) #removing whitespace\n",
    "    else:\n",
    "        data[i] = re.sub(r' edit','',data[i])\n",
    "        arrays.append([data[i]])"
   ]
  },
  {
   "cell_type": "markdown",
   "id": "8aea4aaf",
   "metadata": {},
   "source": [
    "# Exporting the data"
   ]
  },
  {
   "cell_type": "code",
   "execution_count": 12,
   "id": "9ed5b706",
   "metadata": {},
   "outputs": [
    {
     "data": {
      "text/html": [
       "<div>\n",
       "<style scoped>\n",
       "    .dataframe tbody tr th:only-of-type {\n",
       "        vertical-align: middle;\n",
       "    }\n",
       "\n",
       "    .dataframe tbody tr th {\n",
       "        vertical-align: top;\n",
       "    }\n",
       "\n",
       "    .dataframe thead th {\n",
       "        text-align: right;\n",
       "    }\n",
       "</style>\n",
       "<table border=\"1\" class=\"dataframe\">\n",
       "  <thead>\n",
       "    <tr style=\"text-align: right;\">\n",
       "      <th></th>\n",
       "      <th>africa</th>\n",
       "      <th>asia</th>\n",
       "      <th>europe</th>\n",
       "      <th>oceania</th>\n",
       "      <th>north america</th>\n",
       "      <th>south america</th>\n",
       "    </tr>\n",
       "  </thead>\n",
       "  <tbody>\n",
       "    <tr>\n",
       "      <th>1</th>\n",
       "      <td>snvi</td>\n",
       "      <td>aftab automobiles</td>\n",
       "      <td>magna steyr</td>\n",
       "      <td>alpha sports</td>\n",
       "      <td>general motors</td>\n",
       "      <td>chamonix</td>\n",
       "    </tr>\n",
       "    <tr>\n",
       "      <th>2</th>\n",
       "      <td>egy-tech engineering</td>\n",
       "      <td>bmtf</td>\n",
       "      <td>ganja auto plant</td>\n",
       "      <td>bolwell</td>\n",
       "      <td>buick</td>\n",
       "      <td>fabral</td>\n",
       "    </tr>\n",
       "    <tr>\n",
       "      <th>3</th>\n",
       "      <td>kantanka cars</td>\n",
       "      <td>jamuna automobiles</td>\n",
       "      <td>khazar</td>\n",
       "      <td>borland racing developments</td>\n",
       "      <td>cadillac</td>\n",
       "      <td>tac</td>\n",
       "    </tr>\n",
       "    <tr>\n",
       "      <th>4</th>\n",
       "      <td>mobius motors</td>\n",
       "      <td>niloy-hero motors venture between hero motocor...</td>\n",
       "      <td>naz</td>\n",
       "      <td>devaux cars</td>\n",
       "      <td>chevrolet</td>\n",
       "      <td>troller</td>\n",
       "    </tr>\n",
       "    <tr>\n",
       "      <th>5</th>\n",
       "      <td>laraki</td>\n",
       "      <td>php automobiles</td>\n",
       "      <td>belgee</td>\n",
       "      <td>elfin sports cars</td>\n",
       "      <td>gmc</td>\n",
       "      <td>None</td>\n",
       "    </tr>\n",
       "    <tr>\n",
       "      <th>...</th>\n",
       "      <td>...</td>\n",
       "      <td>...</td>\n",
       "      <td>...</td>\n",
       "      <td>...</td>\n",
       "      <td>...</td>\n",
       "      <td>...</td>\n",
       "    </tr>\n",
       "    <tr>\n",
       "      <th>134</th>\n",
       "      <td>None</td>\n",
       "      <td>None</td>\n",
       "      <td>mclaren</td>\n",
       "      <td>None</td>\n",
       "      <td>None</td>\n",
       "      <td>None</td>\n",
       "    </tr>\n",
       "    <tr>\n",
       "      <th>135</th>\n",
       "      <td>None</td>\n",
       "      <td>None</td>\n",
       "      <td>mini</td>\n",
       "      <td>None</td>\n",
       "      <td>None</td>\n",
       "      <td>None</td>\n",
       "    </tr>\n",
       "    <tr>\n",
       "      <th>136</th>\n",
       "      <td>None</td>\n",
       "      <td>None</td>\n",
       "      <td>morgan</td>\n",
       "      <td>None</td>\n",
       "      <td>None</td>\n",
       "      <td>None</td>\n",
       "    </tr>\n",
       "    <tr>\n",
       "      <th>137</th>\n",
       "      <td>None</td>\n",
       "      <td>None</td>\n",
       "      <td>rolls-royce</td>\n",
       "      <td>None</td>\n",
       "      <td>None</td>\n",
       "      <td>None</td>\n",
       "    </tr>\n",
       "    <tr>\n",
       "      <th>138</th>\n",
       "      <td>None</td>\n",
       "      <td>None</td>\n",
       "      <td>vauxhall</td>\n",
       "      <td>None</td>\n",
       "      <td>None</td>\n",
       "      <td>None</td>\n",
       "    </tr>\n",
       "  </tbody>\n",
       "</table>\n",
       "<p>138 rows × 6 columns</p>\n",
       "</div>"
      ],
      "text/plain": [
       "0                 africa                                               asia   \\\n",
       "1                    snvi                                  aftab automobiles   \n",
       "2    egy-tech engineering                                               bmtf   \n",
       "3           kantanka cars                                 jamuna automobiles   \n",
       "4           mobius motors  niloy-hero motors venture between hero motocor...   \n",
       "5                  laraki                                    php automobiles   \n",
       "..                    ...                                                ...   \n",
       "134                  None                                               None   \n",
       "135                  None                                               None   \n",
       "136                  None                                               None   \n",
       "137                  None                                               None   \n",
       "138                  None                                               None   \n",
       "\n",
       "0             europe                      oceania   north america   \\\n",
       "1         magna steyr                 alpha sports  general motors   \n",
       "2    ganja auto plant                      bolwell           buick   \n",
       "3              khazar  borland racing developments        cadillac   \n",
       "4                 naz                  devaux cars       chevrolet   \n",
       "5              belgee            elfin sports cars             gmc   \n",
       "..                ...                          ...             ...   \n",
       "134           mclaren                         None            None   \n",
       "135              mini                         None            None   \n",
       "136            morgan                         None            None   \n",
       "137       rolls-royce                         None            None   \n",
       "138          vauxhall                         None            None   \n",
       "\n",
       "0   south america   \n",
       "1         chamonix  \n",
       "2           fabral  \n",
       "3              tac  \n",
       "4          troller  \n",
       "5             None  \n",
       "..             ...  \n",
       "134           None  \n",
       "135           None  \n",
       "136           None  \n",
       "137           None  \n",
       "138           None  \n",
       "\n",
       "[138 rows x 6 columns]"
      ]
     },
     "execution_count": 12,
     "metadata": {},
     "output_type": "execute_result"
    }
   ],
   "source": [
    "df = pd.DataFrame(arrays).T\n",
    "header = df.iloc[0]\n",
    "df = df[1:]\n",
    "df.columns = header\n",
    "df"
   ]
  },
  {
   "cell_type": "code",
   "execution_count": 13,
   "id": "502c78d6",
   "metadata": {},
   "outputs": [],
   "source": [
    "df.to_csv('scraped_car_origin.csv', index = False)"
   ]
  },
  {
   "cell_type": "code",
   "execution_count": null,
   "id": "8c521a68",
   "metadata": {},
   "outputs": [],
   "source": []
  }
 ],
 "metadata": {
  "kernelspec": {
   "display_name": "Python 3",
   "language": "python",
   "name": "python3"
  },
  "language_info": {
   "codemirror_mode": {
    "name": "ipython",
    "version": 3
   },
   "file_extension": ".py",
   "mimetype": "text/x-python",
   "name": "python",
   "nbconvert_exporter": "python",
   "pygments_lexer": "ipython3",
   "version": "3.8.10"
  }
 },
 "nbformat": 4,
 "nbformat_minor": 5
}
