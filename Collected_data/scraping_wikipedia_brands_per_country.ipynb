{
 "cells": [
  {
   "cell_type": "markdown",
   "id": "cd1db8df",
   "metadata": {},
   "source": [
    "# Import libraries"
   ]
  },
  {
   "cell_type": "code",
   "execution_count": 1,
   "id": "140a7c4f",
   "metadata": {},
   "outputs": [],
   "source": [
    "from bs4 import BeautifulSoup\n",
    "import urllib\n",
    "import re\n",
    "\n",
    "import pandas as pd"
   ]
  },
  {
   "cell_type": "markdown",
   "id": "5276f1bc",
   "metadata": {},
   "source": [
    "# Getting the data"
   ]
  },
  {
   "cell_type": "code",
   "execution_count": 2,
   "id": "e34dc1b6",
   "metadata": {},
   "outputs": [],
   "source": [
    "base_site = 'https://en.wikipedia.org/wiki/List_of_car_brands'\n",
    "source = urllib.request.urlopen(base_site).read()"
   ]
  },
  {
   "cell_type": "markdown",
   "id": "21d1411e",
   "metadata": {},
   "source": [
    "# Parsing the data"
   ]
  },
  {
   "cell_type": "code",
   "execution_count": 3,
   "id": "b5a5820d",
   "metadata": {},
   "outputs": [],
   "source": [
    "soup = BeautifulSoup(source, 'lxml')"
   ]
  },
  {
   "cell_type": "markdown",
   "id": "24e60024",
   "metadata": {},
   "source": [
    "# Fetching the data"
   ]
  },
  {
   "cell_type": "code",
   "execution_count": 4,
   "id": "22429cff",
   "metadata": {
    "scrolled": true
   },
   "outputs": [],
   "source": [
    "text = ''\n",
    "first_story_paragraph = soup.find_all([\"h2\", \"li\"])\n",
    "for i in first_story_paragraph:\n",
    "    text += (i.text + '\\n ')"
   ]
  },
  {
   "cell_type": "markdown",
   "id": "e1804654",
   "metadata": {},
   "source": [
    "# Preprocessing the data"
   ]
  },
  {
   "cell_type": "code",
   "execution_count": 5,
   "id": "74968ed1",
   "metadata": {},
   "outputs": [
    {
     "data": {
      "text/plain": [
       "'argentina[edit]\\n zanella (1948–present)\\n anasagasti (1911–1915)\\n andino (1967–1973)\\n asa (1961– 1969'"
      ]
     },
     "execution_count": 5,
     "metadata": {},
     "output_type": "execute_result"
    }
   ],
   "source": [
    "text0 = text[4027:].lower()\n",
    "text0[:100]"
   ]
  },
  {
   "cell_type": "code",
   "execution_count": 6,
   "id": "5dd095b0",
   "metadata": {},
   "outputs": [
    {
     "data": {
      "text/plain": [
       "'argentina-country\\n zanella (1948–present)\\n anasagasti (1911–1915)\\n andino (1967–1973)\\n asa (1961– 19'"
      ]
     },
     "execution_count": 6,
     "metadata": {},
     "output_type": "execute_result"
    }
   ],
   "source": [
    "# Identify countries\n",
    "text1 = re.sub(r'\\[edit\\]', '-country', text0)\n",
    "text1[:100]"
   ]
  },
  {
   "cell_type": "code",
   "execution_count": 7,
   "id": "5871e875",
   "metadata": {},
   "outputs": [
    {
     "data": {
      "text/plain": [
       "'argentina-country\\n zanella  \\n anasagasti  \\n andino  \\n asa  \\n eniak  \\n hispano-argentina  \\n industria'"
      ]
     },
     "execution_count": 7,
     "metadata": {},
     "output_type": "execute_result"
    }
   ],
   "source": [
    "# Remove info inside (parantheses) and [brackets]\n",
    "text2 = re.sub(r'[\\(\\[].*?[\\)\\]]', ' ', text1)\n",
    "text2[:100]"
   ]
  },
  {
   "cell_type": "code",
   "execution_count": 8,
   "id": "1ad5c950",
   "metadata": {},
   "outputs": [
    {
     "data": {
      "text/plain": [
       "{'(', ')', '{', '}'}"
      ]
     },
     "execution_count": 8,
     "metadata": {},
     "output_type": "execute_result"
    }
   ],
   "source": [
    "# Remove (parantheses), [square brackets] and {curly bracketes}\n",
    "text3 = re.sub(r'[()[\\]{}]', ' ', text2)\n",
    "set(text2).symmetric_difference(set(text3))"
   ]
  },
  {
   "cell_type": "code",
   "execution_count": 9,
   "id": "1cccc488",
   "metadata": {},
   "outputs": [
    {
     "data": {
      "text/plain": [
       "{'0', '1', '2', '3', '4', '5', '6', '7', '8', '9'}"
      ]
     },
     "execution_count": 9,
     "metadata": {},
     "output_type": "execute_result"
    }
   ],
   "source": [
    "# remove digits\n",
    "text4 = re.sub(r'\\d', ' ', text3)\n",
    "set(text3).symmetric_difference(set(text4))"
   ]
  },
  {
   "cell_type": "code",
   "execution_count": 10,
   "id": "f77b48d0",
   "metadata": {},
   "outputs": [
    {
     "data": {
      "text/plain": [
       "['argentina-country', ' zanella  ', ' anasagasti  ', ' andino  ', ' asa  ']"
      ]
     },
     "execution_count": 10,
     "metadata": {},
     "output_type": "execute_result"
    }
   ],
   "source": [
    "# split text by newline (\\n) & slice to get desired data\n",
    "text5 = text4.split('\\n')\n",
    "text5[:5]"
   ]
  },
  {
   "cell_type": "code",
   "execution_count": 11,
   "id": "a1b044ae",
   "metadata": {},
   "outputs": [],
   "source": [
    "data = text5.copy()"
   ]
  },
  {
   "cell_type": "code",
   "execution_count": 12,
   "id": "e778c7e3",
   "metadata": {},
   "outputs": [],
   "source": [
    "# https://stackoverflow.com/questions/52551398/slicing-a-list-into-sublists-based-on-condition\n",
    "data[0] = re.sub(r'-country','',data[0])\n",
    "\n",
    "arrays = [[data[0]]]\n",
    "\n",
    "for i in range(1, len(data)):\n",
    "    if 'country' not in data[i]:\n",
    "        arrays[len(arrays)-1].append(data[i].strip()) #removing whitespace\n",
    "    else:\n",
    "        data[i] = re.sub(r'-country','',data[i])\n",
    "        arrays.append([data[i]])"
   ]
  },
  {
   "cell_type": "markdown",
   "id": "8aea4aaf",
   "metadata": {},
   "source": [
    "# Exporting the data"
   ]
  },
  {
   "cell_type": "code",
   "execution_count": 13,
   "id": "9ed5b706",
   "metadata": {},
   "outputs": [
    {
     "data": {
      "text/html": [
       "<div>\n",
       "<style scoped>\n",
       "    .dataframe tbody tr th:only-of-type {\n",
       "        vertical-align: middle;\n",
       "    }\n",
       "\n",
       "    .dataframe tbody tr th {\n",
       "        vertical-align: top;\n",
       "    }\n",
       "\n",
       "    .dataframe thead th {\n",
       "        text-align: right;\n",
       "    }\n",
       "</style>\n",
       "<table border=\"1\" class=\"dataframe\">\n",
       "  <thead>\n",
       "    <tr style=\"text-align: right;\">\n",
       "      <th></th>\n",
       "      <th>argentina</th>\n",
       "      <th>australia</th>\n",
       "      <th>austria</th>\n",
       "      <th>azerbaijan</th>\n",
       "      <th>belgium</th>\n",
       "      <th>bosnia and herzegovina</th>\n",
       "      <th>brazil</th>\n",
       "      <th>bulgaria</th>\n",
       "      <th>canada</th>\n",
       "      <th>china</th>\n",
       "      <th>...</th>\n",
       "      <th>thailand</th>\n",
       "      <th>tunisia</th>\n",
       "      <th>turkey</th>\n",
       "      <th>uganda</th>\n",
       "      <th>ukraine</th>\n",
       "      <th>united arab emirates</th>\n",
       "      <th>united kingdom</th>\n",
       "      <th>united states</th>\n",
       "      <th>uruguay</th>\n",
       "      <th>vietnam</th>\n",
       "    </tr>\n",
       "  </thead>\n",
       "  <tbody>\n",
       "    <tr>\n",
       "      <th>1</th>\n",
       "      <td>zanella</td>\n",
       "      <td>alpha sports</td>\n",
       "      <td>eurostar automobilwerk</td>\n",
       "      <td>ga</td>\n",
       "      <td>ecar</td>\n",
       "      <td>pretis</td>\n",
       "      <td>abais</td>\n",
       "      <td>litex motors</td>\n",
       "      <td>electrameccanica</td>\n",
       "      <td>baic group</td>\n",
       "      <td>...</td>\n",
       "      <td>akepanich</td>\n",
       "      <td>barkia</td>\n",
       "      <td>anadol</td>\n",
       "      <td>kiira</td>\n",
       "      <td>zaz</td>\n",
       "      <td>devel motors</td>\n",
       "      <td>ac cars</td>\n",
       "      <td>am general</td>\n",
       "      <td>nordex</td>\n",
       "      <td>chienthang</td>\n",
       "    </tr>\n",
       "    <tr>\n",
       "      <th>2</th>\n",
       "      <td>anasagasti</td>\n",
       "      <td>arrow</td>\n",
       "      <td>ktm</td>\n",
       "      <td>khazar</td>\n",
       "      <td>edran</td>\n",
       "      <td>tas</td>\n",
       "      <td>adamo gt</td>\n",
       "      <td>sin cars</td>\n",
       "      <td>htt</td>\n",
       "      <td>baolong</td>\n",
       "      <td>...</td>\n",
       "      <td>c-fee</td>\n",
       "      <td>industries mécaniques maghrébines</td>\n",
       "      <td>devrim</td>\n",
       "      <td>None</td>\n",
       "      <td>None</td>\n",
       "      <td>shayton</td>\n",
       "      <td>arash</td>\n",
       "      <td>anteros</td>\n",
       "      <td>dellepiane</td>\n",
       "      <td>la dalat</td>\n",
       "    </tr>\n",
       "    <tr>\n",
       "      <th>3</th>\n",
       "      <td>andino</td>\n",
       "      <td>birchfield</td>\n",
       "      <td>magna steyr</td>\n",
       "      <td>naz</td>\n",
       "      <td>gillet</td>\n",
       "      <td>None</td>\n",
       "      <td>agrale</td>\n",
       "      <td>bulgaralpine</td>\n",
       "      <td>intermeccanica</td>\n",
       "      <td>beijing automotive industry holding corporation</td>\n",
       "      <td>...</td>\n",
       "      <td>cherdchai</td>\n",
       "      <td>wallyscar</td>\n",
       "      <td>diardi</td>\n",
       "      <td>None</td>\n",
       "      <td>None</td>\n",
       "      <td>w motors</td>\n",
       "      <td>ariel</td>\n",
       "      <td>arcimoto</td>\n",
       "      <td>el terruno</td>\n",
       "      <td>thaco</td>\n",
       "    </tr>\n",
       "    <tr>\n",
       "      <th>4</th>\n",
       "      <td>asa</td>\n",
       "      <td>bolwell</td>\n",
       "      <td>öaf</td>\n",
       "      <td>aziz</td>\n",
       "      <td>imperia automobiles</td>\n",
       "      <td>None</td>\n",
       "      <td>americar</td>\n",
       "      <td>bulgarrenault</td>\n",
       "      <td>wingho</td>\n",
       "      <td>beijing automobile works</td>\n",
       "      <td>...</td>\n",
       "      <td>deva</td>\n",
       "      <td>None</td>\n",
       "      <td>etox</td>\n",
       "      <td>None</td>\n",
       "      <td>None</td>\n",
       "      <td>zarooq motors</td>\n",
       "      <td>aston martin</td>\n",
       "      <td>aurica</td>\n",
       "      <td>grumett</td>\n",
       "      <td>vinfast</td>\n",
       "    </tr>\n",
       "    <tr>\n",
       "      <th>5</th>\n",
       "      <td>eniak</td>\n",
       "      <td>borland racing developments</td>\n",
       "      <td>puch</td>\n",
       "      <td>None</td>\n",
       "      <td>adk</td>\n",
       "      <td>None</td>\n",
       "      <td>amoritz gt</td>\n",
       "      <td>moskvitch</td>\n",
       "      <td>acadian</td>\n",
       "      <td>beijing automobile works</td>\n",
       "      <td>...</td>\n",
       "      <td>kwaithong</td>\n",
       "      <td>None</td>\n",
       "      <td>evt s</td>\n",
       "      <td>None</td>\n",
       "      <td>None</td>\n",
       "      <td>None</td>\n",
       "      <td>bac</td>\n",
       "      <td>bollinger motors</td>\n",
       "      <td>guitolar</td>\n",
       "      <td>vinaxuki</td>\n",
       "    </tr>\n",
       "  </tbody>\n",
       "</table>\n",
       "<p>5 rows × 64 columns</p>\n",
       "</div>"
      ],
      "text/plain": [
       "    argentina                    australia                 austria azerbaijan  \\\n",
       "1     zanella                 alpha sports  eurostar automobilwerk         ga   \n",
       "2  anasagasti                        arrow                     ktm     khazar   \n",
       "3      andino                   birchfield             magna steyr        naz   \n",
       "4         asa                      bolwell                     öaf       aziz   \n",
       "5       eniak  borland racing developments                    puch       None   \n",
       "\n",
       "               belgium bosnia and herzegovina      brazil       bulgaria  \\\n",
       "1                 ecar                 pretis       abais   litex motors   \n",
       "2                edran                    tas    adamo gt       sin cars   \n",
       "3               gillet                   None      agrale   bulgaralpine   \n",
       "4  imperia automobiles                   None    americar  bulgarrenault   \n",
       "5                  adk                   None  amoritz gt      moskvitch   \n",
       "\n",
       "             canada                                            china  ...  \\\n",
       "1  electrameccanica                                       baic group  ...   \n",
       "2               htt                                          baolong  ...   \n",
       "3    intermeccanica  beijing automotive industry holding corporation  ...   \n",
       "4            wingho                         beijing automobile works  ...   \n",
       "5           acadian                         beijing automobile works  ...   \n",
       "\n",
       "    thailand                            tunisia  turkey uganda ukraine  \\\n",
       "1  akepanich                             barkia  anadol  kiira     zaz   \n",
       "2      c-fee  industries mécaniques maghrébines  devrim   None    None   \n",
       "3  cherdchai                          wallyscar  diardi   None    None   \n",
       "4       deva                               None    etox   None    None   \n",
       "5  kwaithong                               None   evt s   None    None   \n",
       "\n",
       "  united arab emirates united kingdom     united states     uruguay  \\\n",
       "1         devel motors        ac cars        am general      nordex   \n",
       "2              shayton          arash           anteros  dellepiane   \n",
       "3             w motors          ariel          arcimoto  el terruno   \n",
       "4        zarooq motors   aston martin            aurica     grumett   \n",
       "5                 None            bac  bollinger motors    guitolar   \n",
       "\n",
       "      vietnam  \n",
       "1  chienthang  \n",
       "2    la dalat  \n",
       "3       thaco  \n",
       "4     vinfast  \n",
       "5    vinaxuki  \n",
       "\n",
       "[5 rows x 64 columns]"
      ]
     },
     "execution_count": 13,
     "metadata": {},
     "output_type": "execute_result"
    }
   ],
   "source": [
    "# Getting the right data, in the right shape\n",
    "df = pd.DataFrame(arrays[:-2]).T\n",
    "\n",
    "# Setting the header\n",
    "header = df.iloc[0]\n",
    "header = [country.strip() for country in header]\n",
    "\n",
    "# Excluding first row (header) and building df\n",
    "df = df[1:]\n",
    "df.columns = header\n",
    "\n",
    "# Exploring df\n",
    "df.head()"
   ]
  },
  {
   "cell_type": "code",
   "execution_count": 14,
   "id": "502c78d6",
   "metadata": {},
   "outputs": [],
   "source": [
    "df.to_csv('scraped_brands_paaer_country.csv', index = False)"
   ]
  },
  {
   "cell_type": "code",
   "execution_count": null,
   "id": "88c29571",
   "metadata": {},
   "outputs": [],
   "source": []
  }
 ],
 "metadata": {
  "kernelspec": {
   "display_name": "Python 3 (ipykernel)",
   "language": "python",
   "name": "python3"
  },
  "language_info": {
   "codemirror_mode": {
    "name": "ipython",
    "version": 3
   },
   "file_extension": ".py",
   "mimetype": "text/x-python",
   "name": "python",
   "nbconvert_exporter": "python",
   "pygments_lexer": "ipython3",
   "version": "3.9.7"
  }
 },
 "nbformat": 4,
 "nbformat_minor": 5
}
