{
 "cells": [
  {
   "cell_type": "markdown",
   "id": "7e180bd2",
   "metadata": {},
   "source": [
    "# Import Libraries"
   ]
  },
  {
   "cell_type": "code",
   "execution_count": 1,
   "id": "ad8be2e4",
   "metadata": {},
   "outputs": [],
   "source": [
    "# To get the data\n",
    "from bs4 import BeautifulSoup\n",
    "import requests\n",
    "\n",
    "# For text preprocessing\n",
    "import re\n",
    "\n",
    "# To export the data\n",
    "import pickle"
   ]
  },
  {
   "cell_type": "markdown",
   "id": "4f4066c1",
   "metadata": {},
   "source": [
    "# Getting the data"
   ]
  },
  {
   "cell_type": "code",
   "execution_count": 2,
   "id": "e3c221b1",
   "metadata": {},
   "outputs": [],
   "source": [
    "headers = {'User-Agent': 'Mozilla/5.0 (Macintosh; Intel Mac OS X 10_10_1) AppleWebKit/537.36 (KHTML, like Gecko) Chrome/39.0.2171.95 Safari/537.36'}"
   ]
  },
  {
   "cell_type": "code",
   "execution_count": 3,
   "id": "627f87c4",
   "metadata": {},
   "outputs": [
    {
     "data": {
      "text/plain": [
       "<Response [200]>"
      ]
     },
     "execution_count": 3,
     "metadata": {},
     "output_type": "execute_result"
    }
   ],
   "source": [
    "base_site = 'https://luxatic.com/best-luxury-car-brands/'\n",
    "response = requests.get(base_site, headers = headers)\n",
    "response"
   ]
  },
  {
   "cell_type": "markdown",
   "id": "5e972f3e",
   "metadata": {},
   "source": [
    "# Parsing the Data"
   ]
  },
  {
   "cell_type": "code",
   "execution_count": 4,
   "id": "bc1cbbbd",
   "metadata": {},
   "outputs": [],
   "source": [
    "soup = BeautifulSoup(response.content, 'lxml')"
   ]
  },
  {
   "cell_type": "markdown",
   "id": "1ec5571f",
   "metadata": {},
   "source": [
    "# Fetching the data"
   ]
  },
  {
   "cell_type": "code",
   "execution_count": 5,
   "id": "6349e85f",
   "metadata": {},
   "outputs": [],
   "source": [
    "text = ''\n",
    "results = soup.find_all(['div', 'p','ul'], class_='toc_list')\n",
    "for result in results:\n",
    "      text += result.get_text()"
   ]
  },
  {
   "cell_type": "code",
   "execution_count": 6,
   "id": "69684d2a",
   "metadata": {},
   "outputs": [
    {
     "data": {
      "text/plain": [
       "'20. Lexus19. Audi 18. Land Rover 17. Genesis16. Cadillac15. BMW14. Jaguar13. Mercedes Benz 12. Porsche11. Lotus Cars10. Maserati 9. Pagani8. Koenigsegg7. Aston Martin 6. Ferrari5. McLaren4. Lamborghini3. Bentley 2. Bugatti1. Rolls Royce'"
      ]
     },
     "execution_count": 6,
     "metadata": {},
     "output_type": "execute_result"
    }
   ],
   "source": [
    "text"
   ]
  },
  {
   "cell_type": "code",
   "execution_count": 7,
   "id": "b730191f",
   "metadata": {},
   "outputs": [],
   "source": [
    "# Getting only lowercases\n",
    "text0 = text.lower()"
   ]
  },
  {
   "cell_type": "code",
   "execution_count": 8,
   "id": "9a54ba32",
   "metadata": {},
   "outputs": [
    {
     "data": {
      "text/plain": [
       "'. lexus. audi . land rover . genesis. cadillac. bmw. jaguar. mercedes benz . porsche. lotus cars. maserati . pagani. koenigsegg. aston martin . ferrari. mclaren. lamborghini. bentley . bugatti. rolls royce'"
      ]
     },
     "execution_count": 8,
     "metadata": {},
     "output_type": "execute_result"
    }
   ],
   "source": [
    "# Removing digits\n",
    "text1 = re.sub(r'\\d', '', text0)\n",
    "text1"
   ]
  },
  {
   "cell_type": "code",
   "execution_count": 9,
   "id": "390b1921",
   "metadata": {},
   "outputs": [
    {
     "data": {
      "text/plain": [
       "['lexus',\n",
       " 'audi',\n",
       " 'landrover',\n",
       " 'genesis',\n",
       " 'cadillac',\n",
       " 'bmw',\n",
       " 'jaguar',\n",
       " 'mercedesbenz',\n",
       " 'porsche',\n",
       " 'lotuscars',\n",
       " 'maserati',\n",
       " 'pagani',\n",
       " 'koenigsegg',\n",
       " 'astonmartin',\n",
       " 'ferrari',\n",
       " 'mclaren',\n",
       " 'lamborghini',\n",
       " 'bentley',\n",
       " 'bugatti',\n",
       " 'rollsroyce']"
      ]
     },
     "execution_count": 9,
     "metadata": {},
     "output_type": "execute_result"
    }
   ],
   "source": [
    "text2 = re.sub('\\s','', text1)\n",
    "text3 = text2.split('.')\n",
    "data = text3[1:]\n",
    "data"
   ]
  },
  {
   "cell_type": "code",
   "execution_count": 10,
   "id": "1e41d210",
   "metadata": {},
   "outputs": [],
   "source": [
    "with open(\"luxury_cars_list\", \"wb\") as fp:   #Pickling\n",
    "    pickle.dump(data, fp)"
   ]
  }
 ],
 "metadata": {
  "kernelspec": {
   "display_name": "Python 3 (ipykernel)",
   "language": "python",
   "name": "python3"
  },
  "language_info": {
   "codemirror_mode": {
    "name": "ipython",
    "version": 3
   },
   "file_extension": ".py",
   "mimetype": "text/x-python",
   "name": "python",
   "nbconvert_exporter": "python",
   "pygments_lexer": "ipython3",
   "version": "3.9.7"
  }
 },
 "nbformat": 4,
 "nbformat_minor": 5
}
