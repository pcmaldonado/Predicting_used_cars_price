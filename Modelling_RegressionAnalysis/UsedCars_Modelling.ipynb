{
 "cells": [
  {
   "cell_type": "markdown",
   "id": "cdc06ea8",
   "metadata": {},
   "source": [
    "# Import Libraries"
   ]
  },
  {
   "cell_type": "code",
   "execution_count": 1,
   "id": "a684c21e",
   "metadata": {},
   "outputs": [],
   "source": [
    "# Standard libraries\n",
    "import numpy as np\n",
    "import pandas as pd\n",
    "import matplotlib.pyplot as plt\n",
    "import seaborn as sns; sns.set()\n",
    "\n",
    "\n",
    "# Preprocessing\n",
    "from sklearn.model_selection import train_test_split\n",
    "from sklearn.preprocessing import StandardScaler\n",
    "\n",
    "\n",
    "# Regression algorithms\n",
    "from sklearn.linear_model import LinearRegression\n",
    "from sklearn.linear_model import ElasticNet\n",
    "from sklearn.linear_model import SGDRegressor\n",
    "from sklearn.neighbors import KNeighborsRegressor\n",
    "from sklearn.tree import DecisionTreeRegressor\n",
    "from sklearn.ensemble import RandomForestRegressor\n",
    "from sklearn.ensemble import AdaBoostRegressor\n",
    "from sklearn.ensemble import GradientBoostingRegressor\n",
    "\n",
    "\n",
    "# Comparing algorithms\n",
    "from sklearn.model_selection import GridSearchCV\n",
    "from sklearn.model_selection import cross_validate\n",
    "\n",
    "\n",
    "# Metrics\n",
    "from sklearn.metrics import mean_squared_error\n",
    "from sklearn.metrics import mean_absolute_error\n",
    "from sklearn.metrics import r2_score\n",
    "\n",
    "\n",
    "# Saving models\n",
    "import pickle \n",
    "\n",
    "\n",
    "# Interpretability\n",
    "import lime.lime_tabular"
   ]
  },
  {
   "cell_type": "markdown",
   "id": "2a599d8d",
   "metadata": {},
   "source": [
    "# Load data"
   ]
  },
  {
   "cell_type": "code",
   "execution_count": 2,
   "id": "4f7f2e4d",
   "metadata": {},
   "outputs": [
    {
     "data": {
      "text/html": [
       "<div>\n",
       "<style scoped>\n",
       "    .dataframe tbody tr th:only-of-type {\n",
       "        vertical-align: middle;\n",
       "    }\n",
       "\n",
       "    .dataframe tbody tr th {\n",
       "        vertical-align: top;\n",
       "    }\n",
       "\n",
       "    .dataframe thead th {\n",
       "        text-align: right;\n",
       "    }\n",
       "</style>\n",
       "<table border=\"1\" class=\"dataframe\">\n",
       "  <thead>\n",
       "    <tr style=\"text-align: right;\">\n",
       "      <th></th>\n",
       "      <th>price</th>\n",
       "      <th>year</th>\n",
       "      <th>condition</th>\n",
       "      <th>cylinders</th>\n",
       "      <th>fuel_gas</th>\n",
       "      <th>odometer</th>\n",
       "      <th>title_status_ok</th>\n",
       "      <th>transmission_automatic</th>\n",
       "      <th>manufacturer_asia</th>\n",
       "      <th>manufacturer_north america</th>\n",
       "      <th>...</th>\n",
       "      <th>type_pickup</th>\n",
       "      <th>type_sedan</th>\n",
       "      <th>type_truck</th>\n",
       "      <th>paint_color_black</th>\n",
       "      <th>paint_color_blue</th>\n",
       "      <th>paint_color_grey</th>\n",
       "      <th>paint_color_white</th>\n",
       "      <th>regions_usa_Midwest</th>\n",
       "      <th>regions_usa_South</th>\n",
       "      <th>regions_usa_West</th>\n",
       "    </tr>\n",
       "  </thead>\n",
       "  <tbody>\n",
       "    <tr>\n",
       "      <th>0</th>\n",
       "      <td>46995.0</td>\n",
       "      <td>0.444444</td>\n",
       "      <td>0.235830</td>\n",
       "      <td>1.067818</td>\n",
       "      <td>0.0</td>\n",
       "      <td>-0.411426</td>\n",
       "      <td>0.0</td>\n",
       "      <td>0.0</td>\n",
       "      <td>0.0</td>\n",
       "      <td>0.0</td>\n",
       "      <td>...</td>\n",
       "      <td>0.0</td>\n",
       "      <td>0.0</td>\n",
       "      <td>1.0</td>\n",
       "      <td>1.0</td>\n",
       "      <td>0.0</td>\n",
       "      <td>0.0</td>\n",
       "      <td>0.0</td>\n",
       "      <td>0.0</td>\n",
       "      <td>1.0</td>\n",
       "      <td>0.0</td>\n",
       "    </tr>\n",
       "    <tr>\n",
       "      <th>1</th>\n",
       "      <td>36900.0</td>\n",
       "      <td>0.333333</td>\n",
       "      <td>0.270402</td>\n",
       "      <td>1.067818</td>\n",
       "      <td>0.0</td>\n",
       "      <td>-0.155110</td>\n",
       "      <td>0.0</td>\n",
       "      <td>0.0</td>\n",
       "      <td>0.0</td>\n",
       "      <td>0.0</td>\n",
       "      <td>...</td>\n",
       "      <td>0.0</td>\n",
       "      <td>0.0</td>\n",
       "      <td>1.0</td>\n",
       "      <td>0.0</td>\n",
       "      <td>0.0</td>\n",
       "      <td>0.0</td>\n",
       "      <td>1.0</td>\n",
       "      <td>0.0</td>\n",
       "      <td>0.0</td>\n",
       "      <td>0.0</td>\n",
       "    </tr>\n",
       "    <tr>\n",
       "      <th>2</th>\n",
       "      <td>1399.0</td>\n",
       "      <td>0.888889</td>\n",
       "      <td>0.097933</td>\n",
       "      <td>-0.859197</td>\n",
       "      <td>0.0</td>\n",
       "      <td>-0.906978</td>\n",
       "      <td>0.0</td>\n",
       "      <td>0.0</td>\n",
       "      <td>0.0</td>\n",
       "      <td>-1.0</td>\n",
       "      <td>...</td>\n",
       "      <td>0.0</td>\n",
       "      <td>0.0</td>\n",
       "      <td>0.0</td>\n",
       "      <td>0.0</td>\n",
       "      <td>0.0</td>\n",
       "      <td>0.0</td>\n",
       "      <td>0.0</td>\n",
       "      <td>0.0</td>\n",
       "      <td>1.0</td>\n",
       "      <td>0.0</td>\n",
       "    </tr>\n",
       "    <tr>\n",
       "      <th>3</th>\n",
       "      <td>29590.0</td>\n",
       "      <td>0.555556</td>\n",
       "      <td>-0.729598</td>\n",
       "      <td>0.000000</td>\n",
       "      <td>0.0</td>\n",
       "      <td>-0.515449</td>\n",
       "      <td>0.0</td>\n",
       "      <td>-1.0</td>\n",
       "      <td>0.0</td>\n",
       "      <td>0.0</td>\n",
       "      <td>...</td>\n",
       "      <td>0.0</td>\n",
       "      <td>0.0</td>\n",
       "      <td>0.0</td>\n",
       "      <td>0.0</td>\n",
       "      <td>0.0</td>\n",
       "      <td>0.0</td>\n",
       "      <td>1.0</td>\n",
       "      <td>0.0</td>\n",
       "      <td>0.0</td>\n",
       "      <td>0.0</td>\n",
       "    </tr>\n",
       "    <tr>\n",
       "      <th>4</th>\n",
       "      <td>7950.0</td>\n",
       "      <td>-0.555556</td>\n",
       "      <td>0.270402</td>\n",
       "      <td>1.067818</td>\n",
       "      <td>0.0</td>\n",
       "      <td>0.875034</td>\n",
       "      <td>0.0</td>\n",
       "      <td>0.0</td>\n",
       "      <td>0.0</td>\n",
       "      <td>0.0</td>\n",
       "      <td>...</td>\n",
       "      <td>1.0</td>\n",
       "      <td>0.0</td>\n",
       "      <td>0.0</td>\n",
       "      <td>1.0</td>\n",
       "      <td>0.0</td>\n",
       "      <td>0.0</td>\n",
       "      <td>0.0</td>\n",
       "      <td>1.0</td>\n",
       "      <td>0.0</td>\n",
       "      <td>0.0</td>\n",
       "    </tr>\n",
       "  </tbody>\n",
       "</table>\n",
       "<p>5 rows × 23 columns</p>\n",
       "</div>"
      ],
      "text/plain": [
       "     price      year  condition  cylinders  fuel_gas  odometer  \\\n",
       "0  46995.0  0.444444   0.235830   1.067818       0.0 -0.411426   \n",
       "1  36900.0  0.333333   0.270402   1.067818       0.0 -0.155110   \n",
       "2   1399.0  0.888889   0.097933  -0.859197       0.0 -0.906978   \n",
       "3  29590.0  0.555556  -0.729598   0.000000       0.0 -0.515449   \n",
       "4   7950.0 -0.555556   0.270402   1.067818       0.0  0.875034   \n",
       "\n",
       "   title_status_ok  transmission_automatic  manufacturer_asia   \\\n",
       "0              0.0                     0.0                 0.0   \n",
       "1              0.0                     0.0                 0.0   \n",
       "2              0.0                     0.0                 0.0   \n",
       "3              0.0                    -1.0                 0.0   \n",
       "4              0.0                     0.0                 0.0   \n",
       "\n",
       "   manufacturer_north america   ...  type_pickup  type_sedan  type_truck  \\\n",
       "0                          0.0  ...          0.0         0.0         1.0   \n",
       "1                          0.0  ...          0.0         0.0         1.0   \n",
       "2                         -1.0  ...          0.0         0.0         0.0   \n",
       "3                          0.0  ...          0.0         0.0         0.0   \n",
       "4                          0.0  ...          1.0         0.0         0.0   \n",
       "\n",
       "   paint_color_black  paint_color_blue  paint_color_grey  paint_color_white  \\\n",
       "0                1.0               0.0               0.0                0.0   \n",
       "1                0.0               0.0               0.0                1.0   \n",
       "2                0.0               0.0               0.0                0.0   \n",
       "3                0.0               0.0               0.0                1.0   \n",
       "4                1.0               0.0               0.0                0.0   \n",
       "\n",
       "   regions_usa_Midwest  regions_usa_South  regions_usa_West  \n",
       "0                  0.0                1.0               0.0  \n",
       "1                  0.0                0.0               0.0  \n",
       "2                  0.0                1.0               0.0  \n",
       "3                  0.0                0.0               0.0  \n",
       "4                  1.0                0.0               0.0  \n",
       "\n",
       "[5 rows x 23 columns]"
      ]
     },
     "execution_count": 2,
     "metadata": {},
     "output_type": "execute_result"
    }
   ],
   "source": [
    "df = pd.read_csv('train_set_preprocessed.csv')\n",
    "df.head()"
   ]
  },
  {
   "cell_type": "code",
   "execution_count": 3,
   "id": "c91a8c55",
   "metadata": {},
   "outputs": [
    {
     "data": {
      "text/plain": [
       "(300999, 23)"
      ]
     },
     "execution_count": 3,
     "metadata": {},
     "output_type": "execute_result"
    }
   ],
   "source": [
    "df.shape"
   ]
  },
  {
   "cell_type": "markdown",
   "id": "a551cbc8",
   "metadata": {},
   "source": [
    "# Preparing the data"
   ]
  },
  {
   "cell_type": "code",
   "execution_count": 4,
   "id": "51804acd",
   "metadata": {},
   "outputs": [],
   "source": [
    "X_train = df.iloc[:, 1:].values\n",
    "y_train = df.iloc[:, 0].values"
   ]
  },
  {
   "cell_type": "markdown",
   "id": "3cda0a61",
   "metadata": {},
   "source": [
    "# First Round Modelling"
   ]
  },
  {
   "cell_type": "markdown",
   "id": "d6c5af22",
   "metadata": {},
   "source": [
    "## Setting things up\n",
    "* **Metrics**\n",
    "To assess performance on a regression task, a few common metrics are:\n",
    "   *  **Mean Absolute Error (MAE)** \n",
    "       * Obtained by calculating the absolute difference between the model predictions and the true actual values: $\\sum(\\hat{y}-y)/N$. It is more robust to outliers but less efficient (mathematically/computation)\n",
    "   * **Mean Square Error (MSE) / Root MSE (RMSE)**\n",
    "       * Calculated by the sum of square of prediction error: $\\sum(\\hat{y}-y)^2/N$. Less robust to outliers, but more computation efficient.\n",
    "   * **R2**\n",
    "       * R2 is a measure of ...\n",
    "       \n",
    "    In this analysis, models will be compared on the RMSE metric.\n",
    "* **Models**\n",
    "    * Using the sklearn library, different regression models will be tested as benchmark (the best ones will be later fine-tuned)\n",
    "* **Scores**\n",
    "    * An empty list will be created to keep the scores of each metric, for each model"
   ]
  },
  {
   "cell_type": "code",
   "execution_count": 5,
   "id": "84fb716c",
   "metadata": {},
   "outputs": [],
   "source": [
    "metrics = ['neg_root_mean_squared_error', 'neg_mean_absolute_error', 'r2']"
   ]
  },
  {
   "cell_type": "code",
   "execution_count": 6,
   "id": "2756ecf7",
   "metadata": {},
   "outputs": [],
   "source": [
    "models = []\n",
    "scores = []"
   ]
  },
  {
   "cell_type": "markdown",
   "id": "fb1764e5",
   "metadata": {},
   "source": [
    "## Exploring models"
   ]
  },
  {
   "cell_type": "code",
   "execution_count": 7,
   "id": "33237f43",
   "metadata": {},
   "outputs": [
    {
     "name": "stdout",
     "output_type": "stream",
     "text": [
      "CPU times: total: 1h 26s\n",
      "Wall time: 1h 19s\n"
     ]
    }
   ],
   "source": [
    "%%time\n",
    "sk_classes = [LinearRegression(), \n",
    "              ElasticNet(random_state = 42),\n",
    "              KNeighborsRegressor(),\n",
    "              DecisionTreeRegressor(random_state = 42),\n",
    "              RandomForestRegressor(random_state = 42),\n",
    "              AdaBoostRegressor(random_state = 42),\n",
    "              GradientBoostingRegressor(random_state = 42)]\n",
    "\n",
    "\n",
    "for model in sk_classes:\n",
    "    model.fit(X_train, y_train)\n",
    "    \n",
    "    cross_val = cross_validate(model, X_train, y_train, scoring = metrics)\n",
    "\n",
    "    models.append(f'{model.__class__.__name__}')\n",
    "    scores.append(list(cross_val.values())[2:])"
   ]
  },
  {
   "cell_type": "code",
   "execution_count": 8,
   "id": "5d437bbd",
   "metadata": {},
   "outputs": [
    {
     "data": {
      "text/html": [
       "<style  type=\"text/css\" >\n",
       "#T_5a9d1_row4_col0,#T_5a9d1_row4_col1,#T_5a9d1_row4_col2{\n",
       "            background-color:  lightgreen;\n",
       "        }</style><table id=\"T_5a9d1_\" ><thead>    <tr>        <th class=\"blank level0\" ></th>        <th class=\"col_heading level0 col0\" >neg_root_mean_squared_error</th>        <th class=\"col_heading level0 col1\" >neg_mean_absolute_error</th>        <th class=\"col_heading level0 col2\" >r2</th>    </tr></thead><tbody>\n",
       "                <tr>\n",
       "                        <th id=\"T_5a9d1_level0_row0\" class=\"row_heading level0 row0\" >LinearRegression</th>\n",
       "                        <td id=\"T_5a9d1_row0_col0\" class=\"data row0 col0\" >-8523.445444</td>\n",
       "                        <td id=\"T_5a9d1_row0_col1\" class=\"data row0 col1\" >-6178.590757</td>\n",
       "                        <td id=\"T_5a9d1_row0_col2\" class=\"data row0 col2\" >0.600677</td>\n",
       "            </tr>\n",
       "            <tr>\n",
       "                        <th id=\"T_5a9d1_level0_row1\" class=\"row_heading level0 row1\" >ElasticNet</th>\n",
       "                        <td id=\"T_5a9d1_row1_col0\" class=\"data row1 col0\" >-9893.699099</td>\n",
       "                        <td id=\"T_5a9d1_row1_col1\" class=\"data row1 col1\" >-7537.524846</td>\n",
       "                        <td id=\"T_5a9d1_row1_col2\" class=\"data row1 col2\" >0.461979</td>\n",
       "            </tr>\n",
       "            <tr>\n",
       "                        <th id=\"T_5a9d1_level0_row2\" class=\"row_heading level0 row2\" >KNeighborsRegressor</th>\n",
       "                        <td id=\"T_5a9d1_row2_col0\" class=\"data row2 col0\" >-4754.027172</td>\n",
       "                        <td id=\"T_5a9d1_row2_col1\" class=\"data row2 col1\" >-2715.579858</td>\n",
       "                        <td id=\"T_5a9d1_row2_col2\" class=\"data row2 col2\" >0.875764</td>\n",
       "            </tr>\n",
       "            <tr>\n",
       "                        <th id=\"T_5a9d1_level0_row3\" class=\"row_heading level0 row3\" >DecisionTreeRegressor</th>\n",
       "                        <td id=\"T_5a9d1_row3_col0\" class=\"data row3 col0\" >-4556.838026</td>\n",
       "                        <td id=\"T_5a9d1_row3_col1\" class=\"data row3 col1\" >-1994.702462</td>\n",
       "                        <td id=\"T_5a9d1_row3_col2\" class=\"data row3 col2\" >0.885864</td>\n",
       "            </tr>\n",
       "            <tr>\n",
       "                        <th id=\"T_5a9d1_level0_row4\" class=\"row_heading level0 row4\" >RandomForestRegressor</th>\n",
       "                        <td id=\"T_5a9d1_row4_col0\" class=\"data row4 col0\" >-3349.444586</td>\n",
       "                        <td id=\"T_5a9d1_row4_col1\" class=\"data row4 col1\" >-1628.561835</td>\n",
       "                        <td id=\"T_5a9d1_row4_col2\" class=\"data row4 col2\" >0.938324</td>\n",
       "            </tr>\n",
       "            <tr>\n",
       "                        <th id=\"T_5a9d1_level0_row5\" class=\"row_heading level0 row5\" >AdaBoostRegressor</th>\n",
       "                        <td id=\"T_5a9d1_row5_col0\" class=\"data row5 col0\" >-8647.481058</td>\n",
       "                        <td id=\"T_5a9d1_row5_col1\" class=\"data row5 col1\" >-6896.778260</td>\n",
       "                        <td id=\"T_5a9d1_row5_col2\" class=\"data row5 col2\" >0.588824</td>\n",
       "            </tr>\n",
       "            <tr>\n",
       "                        <th id=\"T_5a9d1_level0_row6\" class=\"row_heading level0 row6\" >GradientBoostingRegressor</th>\n",
       "                        <td id=\"T_5a9d1_row6_col0\" class=\"data row6 col0\" >-5737.981240</td>\n",
       "                        <td id=\"T_5a9d1_row6_col1\" class=\"data row6 col1\" >-4000.271365</td>\n",
       "                        <td id=\"T_5a9d1_row6_col2\" class=\"data row6 col2\" >0.819027</td>\n",
       "            </tr>\n",
       "    </tbody></table>"
      ],
      "text/plain": [
       "<pandas.io.formats.style.Styler at 0x20eba6b8eb0>"
      ]
     },
     "execution_count": 8,
     "metadata": {},
     "output_type": "execute_result"
    }
   ],
   "source": [
    "data = []\n",
    "for i in range(len(models)):\n",
    "    for j in range(len(metrics)):\n",
    "        data.append(scores[i][j].mean())\n",
    "\n",
    "data = np.reshape(data, (len(models), len(metrics)))\n",
    "        \n",
    "df_models = pd.DataFrame(data, index = models, columns = metrics)\n",
    "df_models.style.highlight_max(color = 'lightgreen', axis = 0)"
   ]
  },
  {
   "cell_type": "code",
   "execution_count": 9,
   "id": "bcd5fb01",
   "metadata": {},
   "outputs": [
    {
     "data": {
      "text/html": [
       "<style  type=\"text/css\" >\n",
       "#T_cd272_row2_col0,#T_cd272_row2_col1,#T_cd272_row2_col2{\n",
       "            background-color:  lightgreen;\n",
       "        }</style><table id=\"T_cd272_\" ><thead>    <tr>        <th class=\"blank level0\" ></th>        <th class=\"col_heading level0 col0\" >neg_root_mean_squared_error</th>        <th class=\"col_heading level0 col1\" >neg_mean_absolute_error</th>        <th class=\"col_heading level0 col2\" >r2</th>    </tr></thead><tbody>\n",
       "                <tr>\n",
       "                        <th id=\"T_cd272_level0_row0\" class=\"row_heading level0 row0\" >KNeighborsRegressor</th>\n",
       "                        <td id=\"T_cd272_row0_col0\" class=\"data row0 col0\" >-4754.027172</td>\n",
       "                        <td id=\"T_cd272_row0_col1\" class=\"data row0 col1\" >-2715.579858</td>\n",
       "                        <td id=\"T_cd272_row0_col2\" class=\"data row0 col2\" >0.875764</td>\n",
       "            </tr>\n",
       "            <tr>\n",
       "                        <th id=\"T_cd272_level0_row1\" class=\"row_heading level0 row1\" >DecisionTreeRegressor</th>\n",
       "                        <td id=\"T_cd272_row1_col0\" class=\"data row1 col0\" >-4556.838026</td>\n",
       "                        <td id=\"T_cd272_row1_col1\" class=\"data row1 col1\" >-1994.702462</td>\n",
       "                        <td id=\"T_cd272_row1_col2\" class=\"data row1 col2\" >0.885864</td>\n",
       "            </tr>\n",
       "            <tr>\n",
       "                        <th id=\"T_cd272_level0_row2\" class=\"row_heading level0 row2\" >RandomForestRegressor</th>\n",
       "                        <td id=\"T_cd272_row2_col0\" class=\"data row2 col0\" >-3349.444586</td>\n",
       "                        <td id=\"T_cd272_row2_col1\" class=\"data row2 col1\" >-1628.561835</td>\n",
       "                        <td id=\"T_cd272_row2_col2\" class=\"data row2 col2\" >0.938324</td>\n",
       "            </tr>\n",
       "            <tr>\n",
       "                        <th id=\"T_cd272_level0_row3\" class=\"row_heading level0 row3\" >GradientBoostingRegressor</th>\n",
       "                        <td id=\"T_cd272_row3_col0\" class=\"data row3 col0\" >-5737.981240</td>\n",
       "                        <td id=\"T_cd272_row3_col1\" class=\"data row3 col1\" >-4000.271365</td>\n",
       "                        <td id=\"T_cd272_row3_col2\" class=\"data row3 col2\" >0.819027</td>\n",
       "            </tr>\n",
       "    </tbody></table>"
      ],
      "text/plain": [
       "<pandas.io.formats.style.Styler at 0x20eba6b87f0>"
      ]
     },
     "execution_count": 9,
     "metadata": {},
     "output_type": "execute_result"
    }
   ],
   "source": [
    "df_models[df_models.r2 > 0.8].style.highlight_max(color = 'lightgreen', axis = 0)"
   ]
  },
  {
   "cell_type": "markdown",
   "id": "c30a2ac1",
   "metadata": {},
   "source": [
    "## Simplifying the model & comparing"
   ]
  },
  {
   "cell_type": "code",
   "execution_count": 10,
   "id": "5c8aa5ed",
   "metadata": {},
   "outputs": [],
   "source": [
    "rfr_gd_benchmark = RandomForestRegressor(random_state = 42)\n",
    "rfr_gd_benchmark.fit(X_train, y_train)\n",
    "\n",
    "df_model = pd.DataFrame(\n",
    "{\n",
    "    'features':df.iloc[:, 1:].columns,\n",
    "    'importance': rfr_gd_benchmark.feature_importances_\n",
    "})\n",
    "df_model = df_model.sort_values(by = ['importance'], ascending = False)\n",
    "df_model['cum_sum'] = df_model.importance.cumsum()"
   ]
  },
  {
   "cell_type": "code",
   "execution_count": 11,
   "id": "3a42d3f3",
   "metadata": {},
   "outputs": [
    {
     "data": {
      "text/html": [
       "<div>\n",
       "<style scoped>\n",
       "    .dataframe tbody tr th:only-of-type {\n",
       "        vertical-align: middle;\n",
       "    }\n",
       "\n",
       "    .dataframe tbody tr th {\n",
       "        vertical-align: top;\n",
       "    }\n",
       "\n",
       "    .dataframe thead th {\n",
       "        text-align: right;\n",
       "    }\n",
       "</style>\n",
       "<table border=\"1\" class=\"dataframe\">\n",
       "  <thead>\n",
       "    <tr style=\"text-align: right;\">\n",
       "      <th></th>\n",
       "      <th>features</th>\n",
       "      <th>importance</th>\n",
       "      <th>cum_sum</th>\n",
       "    </tr>\n",
       "  </thead>\n",
       "  <tbody>\n",
       "    <tr>\n",
       "      <th>0</th>\n",
       "      <td>year</td>\n",
       "      <td>0.429553</td>\n",
       "      <td>0.429553</td>\n",
       "    </tr>\n",
       "    <tr>\n",
       "      <th>2</th>\n",
       "      <td>cylinders</td>\n",
       "      <td>0.249528</td>\n",
       "      <td>0.679080</td>\n",
       "    </tr>\n",
       "    <tr>\n",
       "      <th>4</th>\n",
       "      <td>odometer</td>\n",
       "      <td>0.129389</td>\n",
       "      <td>0.808469</td>\n",
       "    </tr>\n",
       "    <tr>\n",
       "      <th>1</th>\n",
       "      <td>condition</td>\n",
       "      <td>0.057065</td>\n",
       "      <td>0.865535</td>\n",
       "    </tr>\n",
       "    <tr>\n",
       "      <th>3</th>\n",
       "      <td>fuel_gas</td>\n",
       "      <td>0.043597</td>\n",
       "      <td>0.909132</td>\n",
       "    </tr>\n",
       "    <tr>\n",
       "      <th>8</th>\n",
       "      <td>manufacturer_north america</td>\n",
       "      <td>0.014433</td>\n",
       "      <td>0.923564</td>\n",
       "    </tr>\n",
       "    <tr>\n",
       "      <th>6</th>\n",
       "      <td>transmission_automatic</td>\n",
       "      <td>0.008321</td>\n",
       "      <td>0.931885</td>\n",
       "    </tr>\n",
       "    <tr>\n",
       "      <th>14</th>\n",
       "      <td>type_truck</td>\n",
       "      <td>0.007777</td>\n",
       "      <td>0.939663</td>\n",
       "    </tr>\n",
       "    <tr>\n",
       "      <th>10</th>\n",
       "      <td>drive_rwd</td>\n",
       "      <td>0.007567</td>\n",
       "      <td>0.947230</td>\n",
       "    </tr>\n",
       "    <tr>\n",
       "      <th>9</th>\n",
       "      <td>drive_fwd</td>\n",
       "      <td>0.007363</td>\n",
       "      <td>0.954593</td>\n",
       "    </tr>\n",
       "    <tr>\n",
       "      <th>12</th>\n",
       "      <td>type_pickup</td>\n",
       "      <td>0.005886</td>\n",
       "      <td>0.960479</td>\n",
       "    </tr>\n",
       "    <tr>\n",
       "      <th>21</th>\n",
       "      <td>regions_usa_West</td>\n",
       "      <td>0.005266</td>\n",
       "      <td>0.965745</td>\n",
       "    </tr>\n",
       "    <tr>\n",
       "      <th>11</th>\n",
       "      <td>type_SUV</td>\n",
       "      <td>0.004989</td>\n",
       "      <td>0.970733</td>\n",
       "    </tr>\n",
       "    <tr>\n",
       "      <th>7</th>\n",
       "      <td>manufacturer_asia</td>\n",
       "      <td>0.004838</td>\n",
       "      <td>0.975571</td>\n",
       "    </tr>\n",
       "    <tr>\n",
       "      <th>13</th>\n",
       "      <td>type_sedan</td>\n",
       "      <td>0.004277</td>\n",
       "      <td>0.979848</td>\n",
       "    </tr>\n",
       "    <tr>\n",
       "      <th>18</th>\n",
       "      <td>paint_color_white</td>\n",
       "      <td>0.004119</td>\n",
       "      <td>0.983967</td>\n",
       "    </tr>\n",
       "    <tr>\n",
       "      <th>15</th>\n",
       "      <td>paint_color_black</td>\n",
       "      <td>0.003325</td>\n",
       "      <td>0.987292</td>\n",
       "    </tr>\n",
       "    <tr>\n",
       "      <th>5</th>\n",
       "      <td>title_status_ok</td>\n",
       "      <td>0.002791</td>\n",
       "      <td>0.990082</td>\n",
       "    </tr>\n",
       "    <tr>\n",
       "      <th>17</th>\n",
       "      <td>paint_color_grey</td>\n",
       "      <td>0.002719</td>\n",
       "      <td>0.992802</td>\n",
       "    </tr>\n",
       "    <tr>\n",
       "      <th>20</th>\n",
       "      <td>regions_usa_South</td>\n",
       "      <td>0.002649</td>\n",
       "      <td>0.995451</td>\n",
       "    </tr>\n",
       "    <tr>\n",
       "      <th>19</th>\n",
       "      <td>regions_usa_Midwest</td>\n",
       "      <td>0.002478</td>\n",
       "      <td>0.997929</td>\n",
       "    </tr>\n",
       "    <tr>\n",
       "      <th>16</th>\n",
       "      <td>paint_color_blue</td>\n",
       "      <td>0.002071</td>\n",
       "      <td>1.000000</td>\n",
       "    </tr>\n",
       "  </tbody>\n",
       "</table>\n",
       "</div>"
      ],
      "text/plain": [
       "                       features  importance   cum_sum\n",
       "0                          year    0.429553  0.429553\n",
       "2                     cylinders    0.249528  0.679080\n",
       "4                      odometer    0.129389  0.808469\n",
       "1                     condition    0.057065  0.865535\n",
       "3                      fuel_gas    0.043597  0.909132\n",
       "8   manufacturer_north america     0.014433  0.923564\n",
       "6        transmission_automatic    0.008321  0.931885\n",
       "14                   type_truck    0.007777  0.939663\n",
       "10                    drive_rwd    0.007567  0.947230\n",
       "9                     drive_fwd    0.007363  0.954593\n",
       "12                  type_pickup    0.005886  0.960479\n",
       "21             regions_usa_West    0.005266  0.965745\n",
       "11                     type_SUV    0.004989  0.970733\n",
       "7            manufacturer_asia     0.004838  0.975571\n",
       "13                   type_sedan    0.004277  0.979848\n",
       "18            paint_color_white    0.004119  0.983967\n",
       "15            paint_color_black    0.003325  0.987292\n",
       "5               title_status_ok    0.002791  0.990082\n",
       "17             paint_color_grey    0.002719  0.992802\n",
       "20            regions_usa_South    0.002649  0.995451\n",
       "19          regions_usa_Midwest    0.002478  0.997929\n",
       "16             paint_color_blue    0.002071  1.000000"
      ]
     },
     "execution_count": 11,
     "metadata": {},
     "output_type": "execute_result"
    }
   ],
   "source": [
    "df_model"
   ]
  },
  {
   "cell_type": "markdown",
   "id": "db41653d",
   "metadata": {},
   "source": [
    "### Feature selection"
   ]
  },
  {
   "cell_type": "code",
   "execution_count": 12,
   "id": "25538ab9",
   "metadata": {},
   "outputs": [
    {
     "data": {
      "text/plain": [
       "18      paint_color_white\n",
       "15      paint_color_black\n",
       "5         title_status_ok\n",
       "17       paint_color_grey\n",
       "20      regions_usa_South\n",
       "19    regions_usa_Midwest\n",
       "16       paint_color_blue\n",
       "Name: features, dtype: object"
      ]
     },
     "execution_count": 12,
     "metadata": {},
     "output_type": "execute_result"
    }
   ],
   "source": [
    "features_to_drop = df_model[df_model.cum_sum > 0.98].features\n",
    "features_to_drop"
   ]
  },
  {
   "cell_type": "code",
   "execution_count": 13,
   "id": "d6a46119",
   "metadata": {},
   "outputs": [
    {
     "data": {
      "text/plain": [
       "(300999, 16)"
      ]
     },
     "execution_count": 13,
     "metadata": {},
     "output_type": "execute_result"
    }
   ],
   "source": [
    "df_feature_selection = df.drop(features_to_drop, axis = 1)\n",
    "df_feature_selection.shape"
   ]
  },
  {
   "cell_type": "code",
   "execution_count": 14,
   "id": "f236f940",
   "metadata": {},
   "outputs": [],
   "source": [
    "X_train = df_feature_selection.iloc[:, 1:].values\n",
    "y_train = df_feature_selection.iloc[:, 0].values"
   ]
  },
  {
   "cell_type": "code",
   "execution_count": 15,
   "id": "6aefa4b8",
   "metadata": {},
   "outputs": [],
   "source": [
    "models_2 = []\n",
    "scores_2 = []"
   ]
  },
  {
   "cell_type": "code",
   "execution_count": 16,
   "id": "5a4642e9",
   "metadata": {},
   "outputs": [
    {
     "name": "stdout",
     "output_type": "stream",
     "text": [
      "CPU times: total: 9min 49s\n",
      "Wall time: 9min 45s\n"
     ]
    }
   ],
   "source": [
    "%%time\n",
    "sk_classes = [LinearRegression(), \n",
    "               ElasticNet(random_state = 42),\n",
    "               KNeighborsRegressor(),\n",
    "               DecisionTreeRegressor(random_state = 42),\n",
    "               RandomForestRegressor(random_state = 42),\n",
    "               AdaBoostRegressor(random_state = 42),\n",
    "               GradientBoostingRegressor(random_state = 42)]\n",
    "\n",
    "\n",
    "for model in sk_classes:\n",
    "    model.fit(X_train, y_train)\n",
    "    \n",
    "    cross_val = cross_validate(model, X_train, y_train, cv= 3, scoring = metrics)\n",
    "\n",
    "    models_2.append(f'{model.__class__.__name__}')\n",
    "    scores_2.append(list(cross_val.values())[2:])"
   ]
  },
  {
   "cell_type": "code",
   "execution_count": 17,
   "id": "0333521e",
   "metadata": {},
   "outputs": [
    {
     "data": {
      "text/html": [
       "<style  type=\"text/css\" >\n",
       "#T_16a0f_row4_col0,#T_16a0f_row4_col1,#T_16a0f_row4_col2{\n",
       "            background-color:  lightgreen;\n",
       "        }</style><table id=\"T_16a0f_\" ><thead>    <tr>        <th class=\"blank level0\" ></th>        <th class=\"col_heading level0 col0\" >neg_root_mean_squared_error</th>        <th class=\"col_heading level0 col1\" >neg_mean_absolute_error</th>        <th class=\"col_heading level0 col2\" >r2</th>    </tr></thead><tbody>\n",
       "                <tr>\n",
       "                        <th id=\"T_16a0f_level0_row0\" class=\"row_heading level0 row0\" >LinearRegression</th>\n",
       "                        <td id=\"T_16a0f_row0_col0\" class=\"data row0 col0\" >-8554.794103</td>\n",
       "                        <td id=\"T_16a0f_row0_col1\" class=\"data row0 col1\" >-6205.670039</td>\n",
       "                        <td id=\"T_16a0f_row0_col2\" class=\"data row0 col2\" >0.597744</td>\n",
       "            </tr>\n",
       "            <tr>\n",
       "                        <th id=\"T_16a0f_level0_row1\" class=\"row_heading level0 row1\" >ElasticNet</th>\n",
       "                        <td id=\"T_16a0f_row1_col0\" class=\"data row1 col0\" >-9921.352337</td>\n",
       "                        <td id=\"T_16a0f_row1_col1\" class=\"data row1 col1\" >-7564.368573</td>\n",
       "                        <td id=\"T_16a0f_row1_col2\" class=\"data row1 col2\" >0.458975</td>\n",
       "            </tr>\n",
       "            <tr>\n",
       "                        <th id=\"T_16a0f_level0_row2\" class=\"row_heading level0 row2\" >KNeighborsRegressor</th>\n",
       "                        <td id=\"T_16a0f_row2_col0\" class=\"data row2 col0\" >-4317.032513</td>\n",
       "                        <td id=\"T_16a0f_row2_col1\" class=\"data row2 col1\" >-2369.183528</td>\n",
       "                        <td id=\"T_16a0f_row2_col2\" class=\"data row2 col2\" >0.897562</td>\n",
       "            </tr>\n",
       "            <tr>\n",
       "                        <th id=\"T_16a0f_level0_row3\" class=\"row_heading level0 row3\" >DecisionTreeRegressor</th>\n",
       "                        <td id=\"T_16a0f_row3_col0\" class=\"data row3 col0\" >-4650.231784</td>\n",
       "                        <td id=\"T_16a0f_row3_col1\" class=\"data row3 col1\" >-2107.817703</td>\n",
       "                        <td id=\"T_16a0f_row3_col2\" class=\"data row3 col2\" >0.881123</td>\n",
       "            </tr>\n",
       "            <tr>\n",
       "                        <th id=\"T_16a0f_level0_row4\" class=\"row_heading level0 row4\" >RandomForestRegressor</th>\n",
       "                        <td id=\"T_16a0f_row4_col0\" class=\"data row4 col0\" >-3516.452022</td>\n",
       "                        <td id=\"T_16a0f_row4_col1\" class=\"data row4 col1\" >-1757.286164</td>\n",
       "                        <td id=\"T_16a0f_row4_col2\" class=\"data row4 col2\" >0.932030</td>\n",
       "            </tr>\n",
       "            <tr>\n",
       "                        <th id=\"T_16a0f_level0_row5\" class=\"row_heading level0 row5\" >AdaBoostRegressor</th>\n",
       "                        <td id=\"T_16a0f_row5_col0\" class=\"data row5 col0\" >-8513.148113</td>\n",
       "                        <td id=\"T_16a0f_row5_col1\" class=\"data row5 col1\" >-6744.030465</td>\n",
       "                        <td id=\"T_16a0f_row5_col2\" class=\"data row5 col2\" >0.601654</td>\n",
       "            </tr>\n",
       "            <tr>\n",
       "                        <th id=\"T_16a0f_level0_row6\" class=\"row_heading level0 row6\" >GradientBoostingRegressor</th>\n",
       "                        <td id=\"T_16a0f_row6_col0\" class=\"data row6 col0\" >-5736.153972</td>\n",
       "                        <td id=\"T_16a0f_row6_col1\" class=\"data row6 col1\" >-3997.211922</td>\n",
       "                        <td id=\"T_16a0f_row6_col2\" class=\"data row6 col2\" >0.819141</td>\n",
       "            </tr>\n",
       "    </tbody></table>"
      ],
      "text/plain": [
       "<pandas.io.formats.style.Styler at 0x20ebd3b5070>"
      ]
     },
     "execution_count": 17,
     "metadata": {},
     "output_type": "execute_result"
    }
   ],
   "source": [
    "data_2 = []\n",
    "for i in range(len(models_2)):\n",
    "    for j in range(len(metrics)):\n",
    "        data_2.append(scores_2[i][j].mean())\n",
    "\n",
    "data_2 = np.reshape(data_2, (len(models_2), len(metrics)))\n",
    "        \n",
    "df_models_2 = pd.DataFrame(data_2, index = models_2, columns = metrics)\n",
    "df_models_2.style.highlight_max(color = 'lightgreen', axis = 0)"
   ]
  },
  {
   "cell_type": "code",
   "execution_count": 18,
   "id": "2db9ae8a",
   "metadata": {},
   "outputs": [
    {
     "data": {
      "text/html": [
       "<style  type=\"text/css\" >\n",
       "#T_944aa_row2_col0,#T_944aa_row2_col1,#T_944aa_row2_col2{\n",
       "            background-color:  lightgreen;\n",
       "        }</style><table id=\"T_944aa_\" ><thead>    <tr>        <th class=\"blank level0\" ></th>        <th class=\"col_heading level0 col0\" >neg_root_mean_squared_error</th>        <th class=\"col_heading level0 col1\" >neg_mean_absolute_error</th>        <th class=\"col_heading level0 col2\" >r2</th>    </tr></thead><tbody>\n",
       "                <tr>\n",
       "                        <th id=\"T_944aa_level0_row0\" class=\"row_heading level0 row0\" >KNeighborsRegressor</th>\n",
       "                        <td id=\"T_944aa_row0_col0\" class=\"data row0 col0\" >-4317.032513</td>\n",
       "                        <td id=\"T_944aa_row0_col1\" class=\"data row0 col1\" >-2369.183528</td>\n",
       "                        <td id=\"T_944aa_row0_col2\" class=\"data row0 col2\" >0.897562</td>\n",
       "            </tr>\n",
       "            <tr>\n",
       "                        <th id=\"T_944aa_level0_row1\" class=\"row_heading level0 row1\" >DecisionTreeRegressor</th>\n",
       "                        <td id=\"T_944aa_row1_col0\" class=\"data row1 col0\" >-4650.231784</td>\n",
       "                        <td id=\"T_944aa_row1_col1\" class=\"data row1 col1\" >-2107.817703</td>\n",
       "                        <td id=\"T_944aa_row1_col2\" class=\"data row1 col2\" >0.881123</td>\n",
       "            </tr>\n",
       "            <tr>\n",
       "                        <th id=\"T_944aa_level0_row2\" class=\"row_heading level0 row2\" >RandomForestRegressor</th>\n",
       "                        <td id=\"T_944aa_row2_col0\" class=\"data row2 col0\" >-3516.452022</td>\n",
       "                        <td id=\"T_944aa_row2_col1\" class=\"data row2 col1\" >-1757.286164</td>\n",
       "                        <td id=\"T_944aa_row2_col2\" class=\"data row2 col2\" >0.932030</td>\n",
       "            </tr>\n",
       "            <tr>\n",
       "                        <th id=\"T_944aa_level0_row3\" class=\"row_heading level0 row3\" >GradientBoostingRegressor</th>\n",
       "                        <td id=\"T_944aa_row3_col0\" class=\"data row3 col0\" >-5736.153972</td>\n",
       "                        <td id=\"T_944aa_row3_col1\" class=\"data row3 col1\" >-3997.211922</td>\n",
       "                        <td id=\"T_944aa_row3_col2\" class=\"data row3 col2\" >0.819141</td>\n",
       "            </tr>\n",
       "    </tbody></table>"
      ],
      "text/plain": [
       "<pandas.io.formats.style.Styler at 0x20ebaaed6d0>"
      ]
     },
     "execution_count": 18,
     "metadata": {},
     "output_type": "execute_result"
    }
   ],
   "source": [
    "df_models_2[df_models_2.r2 > 0.8].style.highlight_max(color = 'lightgreen', axis = 0)"
   ]
  },
  {
   "cell_type": "code",
   "execution_count": 19,
   "id": "2f48b70d",
   "metadata": {},
   "outputs": [
    {
     "data": {
      "text/html": [
       "<style  type=\"text/css\" >\n",
       "#T_f0271_row2_col0,#T_f0271_row2_col1,#T_f0271_row2_col2{\n",
       "            background-color:  lightgreen;\n",
       "        }</style><table id=\"T_f0271_\" ><thead>    <tr>        <th class=\"blank level0\" ></th>        <th class=\"col_heading level0 col0\" >neg_root_mean_squared_error</th>        <th class=\"col_heading level0 col1\" >neg_mean_absolute_error</th>        <th class=\"col_heading level0 col2\" >r2</th>    </tr></thead><tbody>\n",
       "                <tr>\n",
       "                        <th id=\"T_f0271_level0_row0\" class=\"row_heading level0 row0\" >KNeighborsRegressor</th>\n",
       "                        <td id=\"T_f0271_row0_col0\" class=\"data row0 col0\" >-4754.027172</td>\n",
       "                        <td id=\"T_f0271_row0_col1\" class=\"data row0 col1\" >-2715.579858</td>\n",
       "                        <td id=\"T_f0271_row0_col2\" class=\"data row0 col2\" >0.875764</td>\n",
       "            </tr>\n",
       "            <tr>\n",
       "                        <th id=\"T_f0271_level0_row1\" class=\"row_heading level0 row1\" >DecisionTreeRegressor</th>\n",
       "                        <td id=\"T_f0271_row1_col0\" class=\"data row1 col0\" >-4556.838026</td>\n",
       "                        <td id=\"T_f0271_row1_col1\" class=\"data row1 col1\" >-1994.702462</td>\n",
       "                        <td id=\"T_f0271_row1_col2\" class=\"data row1 col2\" >0.885864</td>\n",
       "            </tr>\n",
       "            <tr>\n",
       "                        <th id=\"T_f0271_level0_row2\" class=\"row_heading level0 row2\" >RandomForestRegressor</th>\n",
       "                        <td id=\"T_f0271_row2_col0\" class=\"data row2 col0\" >-3349.444586</td>\n",
       "                        <td id=\"T_f0271_row2_col1\" class=\"data row2 col1\" >-1628.561835</td>\n",
       "                        <td id=\"T_f0271_row2_col2\" class=\"data row2 col2\" >0.938324</td>\n",
       "            </tr>\n",
       "            <tr>\n",
       "                        <th id=\"T_f0271_level0_row3\" class=\"row_heading level0 row3\" >GradientBoostingRegressor</th>\n",
       "                        <td id=\"T_f0271_row3_col0\" class=\"data row3 col0\" >-5737.981240</td>\n",
       "                        <td id=\"T_f0271_row3_col1\" class=\"data row3 col1\" >-4000.271365</td>\n",
       "                        <td id=\"T_f0271_row3_col2\" class=\"data row3 col2\" >0.819027</td>\n",
       "            </tr>\n",
       "    </tbody></table>"
      ],
      "text/plain": [
       "<pandas.io.formats.style.Styler at 0x20ebaaeb040>"
      ]
     },
     "execution_count": 19,
     "metadata": {},
     "output_type": "execute_result"
    }
   ],
   "source": [
    "# For comparison\n",
    "df_models[df_models.r2 > 0.8].style.highlight_max(color = 'lightgreen', axis = 0)"
   ]
  },
  {
   "cell_type": "markdown",
   "id": "2cd76c5d",
   "metadata": {},
   "source": [
    "## Fine-Tune models"
   ]
  },
  {
   "cell_type": "code",
   "execution_count": 20,
   "id": "4e6a20e5",
   "metadata": {},
   "outputs": [],
   "source": [
    "fine_tuned_models = []\n",
    "new_models = []\n",
    "new_scores = []"
   ]
  },
  {
   "cell_type": "markdown",
   "id": "556461dc",
   "metadata": {},
   "source": [
    "### RandomForestRegressor"
   ]
  },
  {
   "cell_type": "code",
   "execution_count": 21,
   "id": "97a86f29",
   "metadata": {
    "scrolled": true
   },
   "outputs": [
    {
     "name": "stdout",
     "output_type": "stream",
     "text": [
      "Fitting 3 folds for each of 24 candidates, totalling 72 fits\n",
      "[CV] END max_features=0.2, n_estimators=200, random_state=42; total time=  52.4s\n",
      "[CV] END max_features=0.2, n_estimators=200, random_state=42; total time=  50.8s\n",
      "[CV] END max_features=0.2, n_estimators=200, random_state=42; total time=  50.7s\n",
      "[CV] END max_features=0.2, n_estimators=225, random_state=42; total time= 1.0min\n",
      "[CV] END max_features=0.2, n_estimators=225, random_state=42; total time= 1.0min\n",
      "[CV] END max_features=0.2, n_estimators=225, random_state=42; total time= 1.0min\n",
      "[CV] END max_features=0.2, n_estimators=250, random_state=42; total time= 1.1min\n",
      "[CV] END max_features=0.2, n_estimators=250, random_state=42; total time= 1.1min\n",
      "[CV] END max_features=0.2, n_estimators=250, random_state=42; total time= 1.1min\n",
      "[CV] END max_features=0.2, n_estimators=275, random_state=42; total time= 1.2min\n",
      "[CV] END max_features=0.2, n_estimators=275, random_state=42; total time= 1.2min\n",
      "[CV] END max_features=0.2, n_estimators=275, random_state=42; total time= 1.2min\n",
      "[CV] END max_features=0.2, n_estimators=300, random_state=42; total time= 1.3min\n",
      "[CV] END max_features=0.2, n_estimators=300, random_state=42; total time= 1.3min\n",
      "[CV] END max_features=0.2, n_estimators=300, random_state=42; total time= 1.3min\n",
      "[CV] END max_features=0.2, n_estimators=325, random_state=42; total time= 1.4min\n",
      "[CV] END max_features=0.2, n_estimators=325, random_state=42; total time= 1.4min\n",
      "[CV] END max_features=0.2, n_estimators=325, random_state=42; total time= 1.4min\n",
      "[CV] END max_features=0.4, n_estimators=200, random_state=42; total time= 1.2min\n",
      "[CV] END max_features=0.4, n_estimators=200, random_state=42; total time= 1.2min\n",
      "[CV] END max_features=0.4, n_estimators=200, random_state=42; total time= 1.4min\n",
      "[CV] END max_features=0.4, n_estimators=225, random_state=42; total time= 1.5min\n",
      "[CV] END max_features=0.4, n_estimators=225, random_state=42; total time= 1.5min\n",
      "[CV] END max_features=0.4, n_estimators=225, random_state=42; total time= 1.5min\n",
      "[CV] END max_features=0.4, n_estimators=250, random_state=42; total time= 1.7min\n",
      "[CV] END max_features=0.4, n_estimators=250, random_state=42; total time= 1.6min\n",
      "[CV] END max_features=0.4, n_estimators=250, random_state=42; total time= 1.6min\n",
      "[CV] END max_features=0.4, n_estimators=275, random_state=42; total time= 1.7min\n",
      "[CV] END max_features=0.4, n_estimators=275, random_state=42; total time= 1.7min\n",
      "[CV] END max_features=0.4, n_estimators=275, random_state=42; total time= 1.8min\n",
      "[CV] END max_features=0.4, n_estimators=300, random_state=42; total time= 2.0min\n",
      "[CV] END max_features=0.4, n_estimators=300, random_state=42; total time= 1.9min\n",
      "[CV] END max_features=0.4, n_estimators=300, random_state=42; total time= 1.9min\n",
      "[CV] END max_features=0.4, n_estimators=325, random_state=42; total time= 2.0min\n",
      "[CV] END max_features=0.4, n_estimators=325, random_state=42; total time= 2.0min\n",
      "[CV] END max_features=0.4, n_estimators=325, random_state=42; total time= 2.0min\n",
      "[CV] END max_features=0.6000000000000001, n_estimators=200, random_state=42; total time= 1.7min\n",
      "[CV] END max_features=0.6000000000000001, n_estimators=200, random_state=42; total time= 1.7min\n",
      "[CV] END max_features=0.6000000000000001, n_estimators=200, random_state=42; total time= 1.7min\n",
      "[CV] END max_features=0.6000000000000001, n_estimators=225, random_state=42; total time= 1.9min\n",
      "[CV] END max_features=0.6000000000000001, n_estimators=225, random_state=42; total time= 2.0min\n",
      "[CV] END max_features=0.6000000000000001, n_estimators=225, random_state=42; total time= 2.1min\n",
      "[CV] END max_features=0.6000000000000001, n_estimators=250, random_state=42; total time= 2.1min\n",
      "[CV] END max_features=0.6000000000000001, n_estimators=250, random_state=42; total time= 2.2min\n",
      "[CV] END max_features=0.6000000000000001, n_estimators=250, random_state=42; total time= 2.3min\n",
      "[CV] END max_features=0.6000000000000001, n_estimators=275, random_state=42; total time= 2.6min\n",
      "[CV] END max_features=0.6000000000000001, n_estimators=275, random_state=42; total time= 2.6min\n",
      "[CV] END max_features=0.6000000000000001, n_estimators=275, random_state=42; total time= 2.6min\n",
      "[CV] END max_features=0.6000000000000001, n_estimators=300, random_state=42; total time= 2.8min\n",
      "[CV] END max_features=0.6000000000000001, n_estimators=300, random_state=42; total time= 2.5min\n",
      "[CV] END max_features=0.6000000000000001, n_estimators=300, random_state=42; total time= 2.5min\n",
      "[CV] END max_features=0.6000000000000001, n_estimators=325, random_state=42; total time= 2.7min\n",
      "[CV] END max_features=0.6000000000000001, n_estimators=325, random_state=42; total time= 2.7min\n",
      "[CV] END max_features=0.6000000000000001, n_estimators=325, random_state=42; total time= 2.9min\n",
      "[CV] END max_features=0.8, n_estimators=200, random_state=42; total time= 2.3min\n",
      "[CV] END max_features=0.8, n_estimators=200, random_state=42; total time= 2.2min\n",
      "[CV] END max_features=0.8, n_estimators=200, random_state=42; total time= 2.1min\n",
      "[CV] END max_features=0.8, n_estimators=225, random_state=42; total time= 2.5min\n",
      "[CV] END max_features=0.8, n_estimators=225, random_state=42; total time= 2.5min\n",
      "[CV] END max_features=0.8, n_estimators=225, random_state=42; total time= 2.4min\n",
      "[CV] END max_features=0.8, n_estimators=250, random_state=42; total time= 2.5min\n",
      "[CV] END max_features=0.8, n_estimators=250, random_state=42; total time= 2.5min\n",
      "[CV] END max_features=0.8, n_estimators=250, random_state=42; total time= 2.5min\n",
      "[CV] END max_features=0.8, n_estimators=275, random_state=42; total time= 2.8min\n",
      "[CV] END max_features=0.8, n_estimators=275, random_state=42; total time= 3.1min\n",
      "[CV] END max_features=0.8, n_estimators=275, random_state=42; total time= 3.0min\n",
      "[CV] END max_features=0.8, n_estimators=300, random_state=42; total time= 3.1min\n",
      "[CV] END max_features=0.8, n_estimators=300, random_state=42; total time= 3.5min\n",
      "[CV] END max_features=0.8, n_estimators=300, random_state=42; total time= 3.5min\n",
      "[CV] END max_features=0.8, n_estimators=325, random_state=42; total time= 3.3min\n",
      "[CV] END max_features=0.8, n_estimators=325, random_state=42; total time= 3.5min\n",
      "[CV] END max_features=0.8, n_estimators=325, random_state=42; total time= 3.5min\n",
      "CPU times: total: 2h 25min 26s\n",
      "Wall time: 2h 26min 39s\n"
     ]
    },
    {
     "data": {
      "text/plain": [
       "GridSearchCV(cv=3, error_score='raise', estimator=RandomForestRegressor(),\n",
       "             param_grid={'max_features': array([0.2, 0.4, 0.6, 0.8]),\n",
       "                         'n_estimators': array([200, 225, 250, 275, 300, 325]),\n",
       "                         'random_state': [42]},\n",
       "             refit='neg_root_mean_squared_error',\n",
       "             scoring=['neg_root_mean_squared_error', 'neg_mean_absolute_error',\n",
       "                      'r2'],\n",
       "             verbose=2)"
      ]
     },
     "execution_count": 21,
     "metadata": {},
     "output_type": "execute_result"
    }
   ],
   "source": [
    "%%time\n",
    "\n",
    "'''RandomForestRegressor\n",
    "parameters: \n",
    "    n_estimator: number of trees in the forest\n",
    "    min_samples_split: min number of samples required to split an internal node\n",
    "    max_features: n° features to consider for best split\n",
    "    '''\n",
    "\n",
    "param_grid = {'n_estimators':np.arange(200,350,25),\n",
    "              'max_features':np.arange(0.2,0.8,0.2),\n",
    "              'random_state':[42]}\n",
    "\n",
    "rfr_gd = GridSearchCV(estimator = RandomForestRegressor(),\n",
    "                      param_grid = param_grid, \n",
    "                      cv = 3, \n",
    "                      scoring = metrics,\n",
    "                      refit = 'neg_root_mean_squared_error',\n",
    "                      error_score = 'raise', \n",
    "                      verbose = 2)\n",
    "                     \n",
    "rfr_gd.fit(X_train, y_train)"
   ]
  },
  {
   "cell_type": "code",
   "execution_count": 22,
   "id": "e8445df3",
   "metadata": {},
   "outputs": [
    {
     "data": {
      "text/plain": [
       "RandomForestRegressor(max_features=0.4, n_estimators=325, random_state=42)"
      ]
     },
     "execution_count": 22,
     "metadata": {},
     "output_type": "execute_result"
    }
   ],
   "source": [
    "fine_tuned_models.append(rfr_gd.best_estimator_)\n",
    "rfr_gd.best_estimator_"
   ]
  },
  {
   "cell_type": "code",
   "execution_count": 23,
   "id": "898ea4ba",
   "metadata": {},
   "outputs": [],
   "source": [
    "filename = 'RandomForestRegressor.sav'\n",
    "pickle.dump(rfr_gd.best_estimator_, open(filename, 'wb'))"
   ]
  },
  {
   "cell_type": "markdown",
   "id": "3219a03b",
   "metadata": {},
   "source": [
    "### KNeighborsRegressor"
   ]
  },
  {
   "cell_type": "code",
   "execution_count": 24,
   "id": "8b6429ac",
   "metadata": {
    "scrolled": true
   },
   "outputs": [
    {
     "name": "stdout",
     "output_type": "stream",
     "text": [
      "Fitting 3 folds for each of 16 candidates, totalling 48 fits\n",
      "[CV] END .....................n_neighbors=4, weights=uniform; total time=  31.6s\n",
      "[CV] END .....................n_neighbors=4, weights=uniform; total time=  24.7s\n",
      "[CV] END .....................n_neighbors=4, weights=uniform; total time=  24.0s\n",
      "[CV] END ....................n_neighbors=4, weights=distance; total time=  24.3s\n",
      "[CV] END ....................n_neighbors=4, weights=distance; total time=  24.3s\n",
      "[CV] END ....................n_neighbors=4, weights=distance; total time=  24.2s\n",
      "[CV] END .....................n_neighbors=5, weights=uniform; total time=  28.4s\n",
      "[CV] END .....................n_neighbors=5, weights=uniform; total time=  28.7s\n",
      "[CV] END .....................n_neighbors=5, weights=uniform; total time=  29.4s\n",
      "[CV] END ....................n_neighbors=5, weights=distance; total time=  30.3s\n",
      "[CV] END ....................n_neighbors=5, weights=distance; total time=  28.9s\n",
      "[CV] END ....................n_neighbors=5, weights=distance; total time=  28.1s\n",
      "[CV] END .....................n_neighbors=6, weights=uniform; total time=  30.8s\n",
      "[CV] END .....................n_neighbors=6, weights=uniform; total time=  30.5s\n",
      "[CV] END .....................n_neighbors=6, weights=uniform; total time=  30.9s\n",
      "[CV] END ....................n_neighbors=6, weights=distance; total time=  30.8s\n",
      "[CV] END ....................n_neighbors=6, weights=distance; total time=  30.1s\n",
      "[CV] END ....................n_neighbors=6, weights=distance; total time=  30.7s\n",
      "[CV] END .....................n_neighbors=7, weights=uniform; total time=  32.8s\n",
      "[CV] END .....................n_neighbors=7, weights=uniform; total time=  33.1s\n",
      "[CV] END .....................n_neighbors=7, weights=uniform; total time=  32.5s\n",
      "[CV] END ....................n_neighbors=7, weights=distance; total time=  33.1s\n",
      "[CV] END ....................n_neighbors=7, weights=distance; total time=  32.5s\n",
      "[CV] END ....................n_neighbors=7, weights=distance; total time=  32.8s\n",
      "[CV] END .....................n_neighbors=8, weights=uniform; total time=  35.4s\n",
      "[CV] END .....................n_neighbors=8, weights=uniform; total time=  34.4s\n",
      "[CV] END .....................n_neighbors=8, weights=uniform; total time=  33.0s\n",
      "[CV] END ....................n_neighbors=8, weights=distance; total time=  33.5s\n",
      "[CV] END ....................n_neighbors=8, weights=distance; total time=  32.8s\n",
      "[CV] END ....................n_neighbors=8, weights=distance; total time=  32.7s\n",
      "[CV] END .....................n_neighbors=9, weights=uniform; total time=  34.9s\n",
      "[CV] END .....................n_neighbors=9, weights=uniform; total time=  35.4s\n",
      "[CV] END .....................n_neighbors=9, weights=uniform; total time=  36.3s\n",
      "[CV] END ....................n_neighbors=9, weights=distance; total time=  34.4s\n",
      "[CV] END ....................n_neighbors=9, weights=distance; total time=  35.4s\n",
      "[CV] END ....................n_neighbors=9, weights=distance; total time=  34.5s\n",
      "[CV] END ....................n_neighbors=10, weights=uniform; total time=  36.9s\n",
      "[CV] END ....................n_neighbors=10, weights=uniform; total time=  37.8s\n",
      "[CV] END ....................n_neighbors=10, weights=uniform; total time=  36.8s\n",
      "[CV] END ...................n_neighbors=10, weights=distance; total time=  36.6s\n",
      "[CV] END ...................n_neighbors=10, weights=distance; total time=  36.8s\n",
      "[CV] END ...................n_neighbors=10, weights=distance; total time=  38.3s\n",
      "[CV] END ....................n_neighbors=11, weights=uniform; total time=  53.1s\n",
      "[CV] END ....................n_neighbors=11, weights=uniform; total time=  41.4s\n",
      "[CV] END ....................n_neighbors=11, weights=uniform; total time=  40.0s\n",
      "[CV] END ...................n_neighbors=11, weights=distance; total time=  39.2s\n",
      "[CV] END ...................n_neighbors=11, weights=distance; total time=  39.0s\n",
      "[CV] END ...................n_neighbors=11, weights=distance; total time=  40.2s\n",
      "CPU times: total: 26min 42s\n",
      "Wall time: 26min 44s\n"
     ]
    },
    {
     "data": {
      "text/plain": [
       "GridSearchCV(cv=3, error_score='raise', estimator=KNeighborsRegressor(),\n",
       "             param_grid={'n_neighbors': array([ 4,  5,  6,  7,  8,  9, 10, 11]),\n",
       "                         'weights': ['uniform', 'distance']},\n",
       "             refit='neg_root_mean_squared_error',\n",
       "             scoring=['neg_root_mean_squared_error', 'neg_mean_absolute_error',\n",
       "                      'r2'],\n",
       "             verbose=2)"
      ]
     },
     "execution_count": 24,
     "metadata": {},
     "output_type": "execute_result"
    }
   ],
   "source": [
    "%%time\n",
    "\n",
    "'''KNeighborsRegressor\n",
    "parameters: \n",
    "    n_neihbors: number of neighbors to use by default\n",
    "    weights: uniform / distance\n",
    "    '''\n",
    "\n",
    "param_grid = {'n_neighbors':np.arange(4,12,1),\n",
    "              'weights':['uniform','distance']}\n",
    "\n",
    "knr_gd = GridSearchCV(estimator = KNeighborsRegressor(),\n",
    "                      param_grid = param_grid, \n",
    "                      cv = 3, \n",
    "                      scoring = metrics,\n",
    "                      refit = 'neg_root_mean_squared_error',\n",
    "                      error_score = 'raise', \n",
    "                      verbose = 2)\n",
    "                     \n",
    "knr_gd.fit(X_train, y_train)"
   ]
  },
  {
   "cell_type": "code",
   "execution_count": 25,
   "id": "1620dd1b",
   "metadata": {},
   "outputs": [
    {
     "data": {
      "text/plain": [
       "KNeighborsRegressor(n_neighbors=11, weights='distance')"
      ]
     },
     "execution_count": 25,
     "metadata": {},
     "output_type": "execute_result"
    }
   ],
   "source": [
    "fine_tuned_models.append(knr_gd.best_estimator_)\n",
    "knr_gd.best_estimator_"
   ]
  },
  {
   "cell_type": "code",
   "execution_count": 26,
   "id": "ecfae0d9",
   "metadata": {},
   "outputs": [],
   "source": [
    "filename = 'KNeighborsRegressor.sav'\n",
    "pickle.dump(knr_gd.best_estimator_, open(filename, 'wb'))"
   ]
  },
  {
   "cell_type": "markdown",
   "id": "5d578fcc",
   "metadata": {},
   "source": [
    "### GradientBoostingRegressor"
   ]
  },
  {
   "cell_type": "code",
   "execution_count": 27,
   "id": "d2198db8",
   "metadata": {
    "scrolled": true
   },
   "outputs": [
    {
     "name": "stdout",
     "output_type": "stream",
     "text": [
      "Fitting 3 folds for each of 72 candidates, totalling 216 fits\n",
      "[CV] END learning_rate=0.15, max_features=0.2, n_estimators=200, random_state=42; total time=  16.9s\n",
      "[CV] END learning_rate=0.15, max_features=0.2, n_estimators=200, random_state=42; total time=  16.0s\n",
      "[CV] END learning_rate=0.15, max_features=0.2, n_estimators=200, random_state=42; total time=  16.0s\n",
      "[CV] END learning_rate=0.15, max_features=0.2, n_estimators=225, random_state=42; total time=  17.9s\n",
      "[CV] END learning_rate=0.15, max_features=0.2, n_estimators=225, random_state=42; total time=  17.8s\n",
      "[CV] END learning_rate=0.15, max_features=0.2, n_estimators=225, random_state=42; total time=  17.8s\n",
      "[CV] END learning_rate=0.15, max_features=0.2, n_estimators=250, random_state=42; total time=  19.8s\n",
      "[CV] END learning_rate=0.15, max_features=0.2, n_estimators=250, random_state=42; total time=  19.7s\n",
      "[CV] END learning_rate=0.15, max_features=0.2, n_estimators=250, random_state=42; total time=  25.2s\n",
      "[CV] END learning_rate=0.15, max_features=0.2, n_estimators=275, random_state=42; total time=  21.7s\n",
      "[CV] END learning_rate=0.15, max_features=0.2, n_estimators=275, random_state=42; total time=  21.6s\n",
      "[CV] END learning_rate=0.15, max_features=0.2, n_estimators=275, random_state=42; total time=  21.6s\n",
      "[CV] END learning_rate=0.15, max_features=0.2, n_estimators=300, random_state=42; total time=  23.2s\n",
      "[CV] END learning_rate=0.15, max_features=0.2, n_estimators=300, random_state=42; total time=  23.8s\n",
      "[CV] END learning_rate=0.15, max_features=0.2, n_estimators=300, random_state=42; total time=  23.5s\n",
      "[CV] END learning_rate=0.15, max_features=0.2, n_estimators=325, random_state=42; total time=  25.8s\n",
      "[CV] END learning_rate=0.15, max_features=0.2, n_estimators=325, random_state=42; total time=  26.7s\n",
      "[CV] END learning_rate=0.15, max_features=0.2, n_estimators=325, random_state=42; total time=  25.4s\n",
      "[CV] END learning_rate=0.15, max_features=0.4, n_estimators=200, random_state=42; total time=  26.8s\n",
      "[CV] END learning_rate=0.15, max_features=0.4, n_estimators=200, random_state=42; total time=  26.7s\n",
      "[CV] END learning_rate=0.15, max_features=0.4, n_estimators=200, random_state=42; total time=  26.6s\n",
      "[CV] END learning_rate=0.15, max_features=0.4, n_estimators=225, random_state=42; total time=  30.2s\n",
      "[CV] END learning_rate=0.15, max_features=0.4, n_estimators=225, random_state=42; total time=  30.3s\n",
      "[CV] END learning_rate=0.15, max_features=0.4, n_estimators=225, random_state=42; total time=  30.0s\n",
      "[CV] END learning_rate=0.15, max_features=0.4, n_estimators=250, random_state=42; total time=  33.5s\n",
      "[CV] END learning_rate=0.15, max_features=0.4, n_estimators=250, random_state=42; total time=  34.5s\n",
      "[CV] END learning_rate=0.15, max_features=0.4, n_estimators=250, random_state=42; total time=  33.5s\n",
      "[CV] END learning_rate=0.15, max_features=0.4, n_estimators=275, random_state=42; total time=  36.9s\n",
      "[CV] END learning_rate=0.15, max_features=0.4, n_estimators=275, random_state=42; total time=  38.2s\n",
      "[CV] END learning_rate=0.15, max_features=0.4, n_estimators=275, random_state=42; total time=  43.7s\n",
      "[CV] END learning_rate=0.15, max_features=0.4, n_estimators=300, random_state=42; total time=  45.9s\n",
      "[CV] END learning_rate=0.15, max_features=0.4, n_estimators=300, random_state=42; total time=  45.6s\n",
      "[CV] END learning_rate=0.15, max_features=0.4, n_estimators=300, random_state=42; total time=  42.7s\n",
      "[CV] END learning_rate=0.15, max_features=0.4, n_estimators=325, random_state=42; total time=  44.6s\n",
      "[CV] END learning_rate=0.15, max_features=0.4, n_estimators=325, random_state=42; total time=  44.9s\n",
      "[CV] END learning_rate=0.15, max_features=0.4, n_estimators=325, random_state=42; total time=  43.6s\n",
      "[CV] END learning_rate=0.15, max_features=0.6000000000000001, n_estimators=200, random_state=42; total time=  38.0s\n",
      "[CV] END learning_rate=0.15, max_features=0.6000000000000001, n_estimators=200, random_state=42; total time=  38.7s\n",
      "[CV] END learning_rate=0.15, max_features=0.6000000000000001, n_estimators=200, random_state=42; total time=  38.0s\n",
      "[CV] END learning_rate=0.15, max_features=0.6000000000000001, n_estimators=225, random_state=42; total time=  43.1s\n",
      "[CV] END learning_rate=0.15, max_features=0.6000000000000001, n_estimators=225, random_state=42; total time=  45.9s\n",
      "[CV] END learning_rate=0.15, max_features=0.6000000000000001, n_estimators=225, random_state=42; total time=  53.1s\n",
      "[CV] END learning_rate=0.15, max_features=0.6000000000000001, n_estimators=250, random_state=42; total time=  48.9s\n",
      "[CV] END learning_rate=0.15, max_features=0.6000000000000001, n_estimators=250, random_state=42; total time=  52.2s\n",
      "[CV] END learning_rate=0.15, max_features=0.6000000000000001, n_estimators=250, random_state=42; total time=  47.0s\n",
      "[CV] END learning_rate=0.15, max_features=0.6000000000000001, n_estimators=275, random_state=42; total time=  52.0s\n",
      "[CV] END learning_rate=0.15, max_features=0.6000000000000001, n_estimators=275, random_state=42; total time=  52.0s\n",
      "[CV] END learning_rate=0.15, max_features=0.6000000000000001, n_estimators=275, random_state=42; total time=  52.5s\n",
      "[CV] END learning_rate=0.15, max_features=0.6000000000000001, n_estimators=300, random_state=42; total time=  57.1s\n",
      "[CV] END learning_rate=0.15, max_features=0.6000000000000001, n_estimators=300, random_state=42; total time=  57.2s\n",
      "[CV] END learning_rate=0.15, max_features=0.6000000000000001, n_estimators=300, random_state=42; total time=  57.0s\n",
      "[CV] END learning_rate=0.15, max_features=0.6000000000000001, n_estimators=325, random_state=42; total time= 1.0min\n",
      "[CV] END learning_rate=0.15, max_features=0.6000000000000001, n_estimators=325, random_state=42; total time= 1.0min\n",
      "[CV] END learning_rate=0.15, max_features=0.6000000000000001, n_estimators=325, random_state=42; total time= 1.0min\n",
      "[CV] END learning_rate=0.15, max_features=0.8, n_estimators=200, random_state=42; total time=  48.9s\n",
      "[CV] END learning_rate=0.15, max_features=0.8, n_estimators=200, random_state=42; total time=  48.3s\n",
      "[CV] END learning_rate=0.15, max_features=0.8, n_estimators=200, random_state=42; total time=  48.5s\n",
      "[CV] END learning_rate=0.15, max_features=0.8, n_estimators=225, random_state=42; total time=  54.6s\n",
      "[CV] END learning_rate=0.15, max_features=0.8, n_estimators=225, random_state=42; total time=  54.5s\n",
      "[CV] END learning_rate=0.15, max_features=0.8, n_estimators=225, random_state=42; total time=  54.6s\n",
      "[CV] END learning_rate=0.15, max_features=0.8, n_estimators=250, random_state=42; total time= 1.0min\n",
      "[CV] END learning_rate=0.15, max_features=0.8, n_estimators=250, random_state=42; total time= 1.0min\n",
      "[CV] END learning_rate=0.15, max_features=0.8, n_estimators=250, random_state=42; total time= 1.0min\n",
      "[CV] END learning_rate=0.15, max_features=0.8, n_estimators=275, random_state=42; total time= 1.1min\n",
      "[CV] END learning_rate=0.15, max_features=0.8, n_estimators=275, random_state=42; total time= 1.1min\n",
      "[CV] END learning_rate=0.15, max_features=0.8, n_estimators=275, random_state=42; total time= 1.1min\n",
      "[CV] END learning_rate=0.15, max_features=0.8, n_estimators=300, random_state=42; total time= 1.2min\n",
      "[CV] END learning_rate=0.15, max_features=0.8, n_estimators=300, random_state=42; total time= 1.2min\n",
      "[CV] END learning_rate=0.15, max_features=0.8, n_estimators=300, random_state=42; total time= 1.2min\n",
      "[CV] END learning_rate=0.15, max_features=0.8, n_estimators=325, random_state=42; total time= 1.3min\n",
      "[CV] END learning_rate=0.15, max_features=0.8, n_estimators=325, random_state=42; total time= 1.3min\n",
      "[CV] END learning_rate=0.15, max_features=0.8, n_estimators=325, random_state=42; total time= 1.4min\n",
      "[CV] END learning_rate=0.2, max_features=0.2, n_estimators=200, random_state=42; total time=  15.8s\n",
      "[CV] END learning_rate=0.2, max_features=0.2, n_estimators=200, random_state=42; total time=  16.9s\n",
      "[CV] END learning_rate=0.2, max_features=0.2, n_estimators=200, random_state=42; total time=  17.2s\n",
      "[CV] END learning_rate=0.2, max_features=0.2, n_estimators=225, random_state=42; total time=  23.1s\n",
      "[CV] END learning_rate=0.2, max_features=0.2, n_estimators=225, random_state=42; total time=  22.9s\n",
      "[CV] END learning_rate=0.2, max_features=0.2, n_estimators=225, random_state=42; total time=  18.8s\n"
     ]
    },
    {
     "name": "stdout",
     "output_type": "stream",
     "text": [
      "[CV] END learning_rate=0.2, max_features=0.2, n_estimators=250, random_state=42; total time=  20.0s\n",
      "[CV] END learning_rate=0.2, max_features=0.2, n_estimators=250, random_state=42; total time=  20.4s\n",
      "[CV] END learning_rate=0.2, max_features=0.2, n_estimators=250, random_state=42; total time=  25.0s\n",
      "[CV] END learning_rate=0.2, max_features=0.2, n_estimators=275, random_state=42; total time=  22.5s\n",
      "[CV] END learning_rate=0.2, max_features=0.2, n_estimators=275, random_state=42; total time=  21.5s\n",
      "[CV] END learning_rate=0.2, max_features=0.2, n_estimators=275, random_state=42; total time=  21.3s\n",
      "[CV] END learning_rate=0.2, max_features=0.2, n_estimators=300, random_state=42; total time=  24.1s\n",
      "[CV] END learning_rate=0.2, max_features=0.2, n_estimators=300, random_state=42; total time=  23.3s\n",
      "[CV] END learning_rate=0.2, max_features=0.2, n_estimators=300, random_state=42; total time=  23.3s\n",
      "[CV] END learning_rate=0.2, max_features=0.2, n_estimators=325, random_state=42; total time=  25.8s\n",
      "[CV] END learning_rate=0.2, max_features=0.2, n_estimators=325, random_state=42; total time=  25.8s\n",
      "[CV] END learning_rate=0.2, max_features=0.2, n_estimators=325, random_state=42; total time=  25.2s\n",
      "[CV] END learning_rate=0.2, max_features=0.4, n_estimators=200, random_state=42; total time=  26.8s\n",
      "[CV] END learning_rate=0.2, max_features=0.4, n_estimators=200, random_state=42; total time=  27.1s\n",
      "[CV] END learning_rate=0.2, max_features=0.4, n_estimators=200, random_state=42; total time=  26.8s\n",
      "[CV] END learning_rate=0.2, max_features=0.4, n_estimators=225, random_state=42; total time=  30.4s\n",
      "[CV] END learning_rate=0.2, max_features=0.4, n_estimators=225, random_state=42; total time=  30.2s\n",
      "[CV] END learning_rate=0.2, max_features=0.4, n_estimators=225, random_state=42; total time=  30.4s\n",
      "[CV] END learning_rate=0.2, max_features=0.4, n_estimators=250, random_state=42; total time=  33.8s\n",
      "[CV] END learning_rate=0.2, max_features=0.4, n_estimators=250, random_state=42; total time=  33.1s\n",
      "[CV] END learning_rate=0.2, max_features=0.4, n_estimators=250, random_state=42; total time=  33.9s\n",
      "[CV] END learning_rate=0.2, max_features=0.4, n_estimators=275, random_state=42; total time=  36.9s\n",
      "[CV] END learning_rate=0.2, max_features=0.4, n_estimators=275, random_state=42; total time=  36.5s\n",
      "[CV] END learning_rate=0.2, max_features=0.4, n_estimators=275, random_state=42; total time=  37.7s\n",
      "[CV] END learning_rate=0.2, max_features=0.4, n_estimators=300, random_state=42; total time=  40.5s\n",
      "[CV] END learning_rate=0.2, max_features=0.4, n_estimators=300, random_state=42; total time=  40.2s\n",
      "[CV] END learning_rate=0.2, max_features=0.4, n_estimators=300, random_state=42; total time=  41.4s\n",
      "[CV] END learning_rate=0.2, max_features=0.4, n_estimators=325, random_state=42; total time=  44.8s\n",
      "[CV] END learning_rate=0.2, max_features=0.4, n_estimators=325, random_state=42; total time=  43.6s\n",
      "[CV] END learning_rate=0.2, max_features=0.4, n_estimators=325, random_state=42; total time=  44.7s\n",
      "[CV] END learning_rate=0.2, max_features=0.6000000000000001, n_estimators=200, random_state=42; total time=  38.1s\n",
      "[CV] END learning_rate=0.2, max_features=0.6000000000000001, n_estimators=200, random_state=42; total time=  39.2s\n",
      "[CV] END learning_rate=0.2, max_features=0.6000000000000001, n_estimators=200, random_state=42; total time=  38.1s\n",
      "[CV] END learning_rate=0.2, max_features=0.6000000000000001, n_estimators=225, random_state=42; total time=  44.1s\n",
      "[CV] END learning_rate=0.2, max_features=0.6000000000000001, n_estimators=225, random_state=42; total time=  43.6s\n",
      "[CV] END learning_rate=0.2, max_features=0.6000000000000001, n_estimators=225, random_state=42; total time=  44.6s\n",
      "[CV] END learning_rate=0.2, max_features=0.6000000000000001, n_estimators=250, random_state=42; total time=  47.4s\n",
      "[CV] END learning_rate=0.2, max_features=0.6000000000000001, n_estimators=250, random_state=42; total time=  47.5s\n",
      "[CV] END learning_rate=0.2, max_features=0.6000000000000001, n_estimators=250, random_state=42; total time=  47.5s\n",
      "[CV] END learning_rate=0.2, max_features=0.6000000000000001, n_estimators=275, random_state=42; total time=  56.9s\n",
      "[CV] END learning_rate=0.2, max_features=0.6000000000000001, n_estimators=275, random_state=42; total time=  53.2s\n",
      "[CV] END learning_rate=0.2, max_features=0.6000000000000001, n_estimators=275, random_state=42; total time=  53.4s\n",
      "[CV] END learning_rate=0.2, max_features=0.6000000000000001, n_estimators=300, random_state=42; total time=  57.9s\n",
      "[CV] END learning_rate=0.2, max_features=0.6000000000000001, n_estimators=300, random_state=42; total time=  58.7s\n",
      "[CV] END learning_rate=0.2, max_features=0.6000000000000001, n_estimators=300, random_state=42; total time=  58.5s\n",
      "[CV] END learning_rate=0.2, max_features=0.6000000000000001, n_estimators=325, random_state=42; total time= 1.1min\n",
      "[CV] END learning_rate=0.2, max_features=0.6000000000000001, n_estimators=325, random_state=42; total time= 1.1min\n",
      "[CV] END learning_rate=0.2, max_features=0.6000000000000001, n_estimators=325, random_state=42; total time= 1.1min\n",
      "[CV] END learning_rate=0.2, max_features=0.8, n_estimators=200, random_state=42; total time=  53.0s\n",
      "[CV] END learning_rate=0.2, max_features=0.8, n_estimators=200, random_state=42; total time=  57.9s\n",
      "[CV] END learning_rate=0.2, max_features=0.8, n_estimators=200, random_state=42; total time=  53.6s\n",
      "[CV] END learning_rate=0.2, max_features=0.8, n_estimators=225, random_state=42; total time= 1.1min\n",
      "[CV] END learning_rate=0.2, max_features=0.8, n_estimators=225, random_state=42; total time= 1.3min\n",
      "[CV] END learning_rate=0.2, max_features=0.8, n_estimators=225, random_state=42; total time= 1.3min\n",
      "[CV] END learning_rate=0.2, max_features=0.8, n_estimators=250, random_state=42; total time= 1.3min\n",
      "[CV] END learning_rate=0.2, max_features=0.8, n_estimators=250, random_state=42; total time= 1.3min\n",
      "[CV] END learning_rate=0.2, max_features=0.8, n_estimators=250, random_state=42; total time= 1.2min\n",
      "[CV] END learning_rate=0.2, max_features=0.8, n_estimators=275, random_state=42; total time= 1.3min\n",
      "[CV] END learning_rate=0.2, max_features=0.8, n_estimators=275, random_state=42; total time= 1.3min\n",
      "[CV] END learning_rate=0.2, max_features=0.8, n_estimators=275, random_state=42; total time= 1.3min\n",
      "[CV] END learning_rate=0.2, max_features=0.8, n_estimators=300, random_state=42; total time= 1.5min\n",
      "[CV] END learning_rate=0.2, max_features=0.8, n_estimators=300, random_state=42; total time= 1.6min\n",
      "[CV] END learning_rate=0.2, max_features=0.8, n_estimators=300, random_state=42; total time= 1.6min\n",
      "[CV] END learning_rate=0.2, max_features=0.8, n_estimators=325, random_state=42; total time= 1.8min\n",
      "[CV] END learning_rate=0.2, max_features=0.8, n_estimators=325, random_state=42; total time= 1.8min\n",
      "[CV] END learning_rate=0.2, max_features=0.8, n_estimators=325, random_state=42; total time= 1.7min\n",
      "[CV] END learning_rate=0.25, max_features=0.2, n_estimators=200, random_state=42; total time=  20.9s\n",
      "[CV] END learning_rate=0.25, max_features=0.2, n_estimators=200, random_state=42; total time=  19.6s\n",
      "[CV] END learning_rate=0.25, max_features=0.2, n_estimators=200, random_state=42; total time=  21.1s\n",
      "[CV] END learning_rate=0.25, max_features=0.2, n_estimators=225, random_state=42; total time=  25.7s\n",
      "[CV] END learning_rate=0.25, max_features=0.2, n_estimators=225, random_state=42; total time=  22.4s\n",
      "[CV] END learning_rate=0.25, max_features=0.2, n_estimators=225, random_state=42; total time=  22.9s\n",
      "[CV] END learning_rate=0.25, max_features=0.2, n_estimators=250, random_state=42; total time=  25.5s\n",
      "[CV] END learning_rate=0.25, max_features=0.2, n_estimators=250, random_state=42; total time=  25.0s\n",
      "[CV] END learning_rate=0.25, max_features=0.2, n_estimators=250, random_state=42; total time=  25.6s\n",
      "[CV] END learning_rate=0.25, max_features=0.2, n_estimators=275, random_state=42; total time=  27.5s\n",
      "[CV] END learning_rate=0.25, max_features=0.2, n_estimators=275, random_state=42; total time=  27.1s\n",
      "[CV] END learning_rate=0.25, max_features=0.2, n_estimators=275, random_state=42; total time=  27.6s\n",
      "[CV] END learning_rate=0.25, max_features=0.2, n_estimators=300, random_state=42; total time=  30.6s\n",
      "[CV] END learning_rate=0.25, max_features=0.2, n_estimators=300, random_state=42; total time=  30.5s\n"
     ]
    },
    {
     "name": "stdout",
     "output_type": "stream",
     "text": [
      "[CV] END learning_rate=0.25, max_features=0.2, n_estimators=300, random_state=42; total time=  31.8s\n",
      "[CV] END learning_rate=0.25, max_features=0.2, n_estimators=325, random_state=42; total time=  35.9s\n",
      "[CV] END learning_rate=0.25, max_features=0.2, n_estimators=325, random_state=42; total time=  36.0s\n",
      "[CV] END learning_rate=0.25, max_features=0.2, n_estimators=325, random_state=42; total time=  35.0s\n",
      "[CV] END learning_rate=0.25, max_features=0.4, n_estimators=200, random_state=42; total time=  36.5s\n",
      "[CV] END learning_rate=0.25, max_features=0.4, n_estimators=200, random_state=42; total time=  37.4s\n",
      "[CV] END learning_rate=0.25, max_features=0.4, n_estimators=200, random_state=42; total time=  36.4s\n",
      "[CV] END learning_rate=0.25, max_features=0.4, n_estimators=225, random_state=42; total time=  41.6s\n",
      "[CV] END learning_rate=0.25, max_features=0.4, n_estimators=225, random_state=42; total time=  43.4s\n",
      "[CV] END learning_rate=0.25, max_features=0.4, n_estimators=225, random_state=42; total time=  44.6s\n",
      "[CV] END learning_rate=0.25, max_features=0.4, n_estimators=250, random_state=42; total time=  50.7s\n",
      "[CV] END learning_rate=0.25, max_features=0.4, n_estimators=250, random_state=42; total time=  50.6s\n",
      "[CV] END learning_rate=0.25, max_features=0.4, n_estimators=250, random_state=42; total time=  49.7s\n",
      "[CV] END learning_rate=0.25, max_features=0.4, n_estimators=275, random_state=42; total time=  55.4s\n",
      "[CV] END learning_rate=0.25, max_features=0.4, n_estimators=275, random_state=42; total time=  56.0s\n",
      "[CV] END learning_rate=0.25, max_features=0.4, n_estimators=275, random_state=42; total time=  54.9s\n",
      "[CV] END learning_rate=0.25, max_features=0.4, n_estimators=300, random_state=42; total time=  59.7s\n",
      "[CV] END learning_rate=0.25, max_features=0.4, n_estimators=300, random_state=42; total time=  59.8s\n",
      "[CV] END learning_rate=0.25, max_features=0.4, n_estimators=300, random_state=42; total time= 1.0min\n",
      "[CV] END learning_rate=0.25, max_features=0.4, n_estimators=325, random_state=42; total time= 1.1min\n",
      "[CV] END learning_rate=0.25, max_features=0.4, n_estimators=325, random_state=42; total time= 1.1min\n",
      "[CV] END learning_rate=0.25, max_features=0.4, n_estimators=325, random_state=42; total time= 1.1min\n",
      "[CV] END learning_rate=0.25, max_features=0.6000000000000001, n_estimators=200, random_state=42; total time=  57.0s\n",
      "[CV] END learning_rate=0.25, max_features=0.6000000000000001, n_estimators=200, random_state=42; total time=  57.0s\n",
      "[CV] END learning_rate=0.25, max_features=0.6000000000000001, n_estimators=200, random_state=42; total time=  53.9s\n",
      "[CV] END learning_rate=0.25, max_features=0.6000000000000001, n_estimators=225, random_state=42; total time=  56.4s\n",
      "[CV] END learning_rate=0.25, max_features=0.6000000000000001, n_estimators=225, random_state=42; total time= 1.0min\n",
      "[CV] END learning_rate=0.25, max_features=0.6000000000000001, n_estimators=225, random_state=42; total time= 1.0min\n",
      "[CV] END learning_rate=0.25, max_features=0.6000000000000001, n_estimators=250, random_state=42; total time= 1.1min\n",
      "[CV] END learning_rate=0.25, max_features=0.6000000000000001, n_estimators=250, random_state=42; total time= 1.1min\n",
      "[CV] END learning_rate=0.25, max_features=0.6000000000000001, n_estimators=250, random_state=42; total time= 1.2min\n",
      "[CV] END learning_rate=0.25, max_features=0.6000000000000001, n_estimators=275, random_state=42; total time= 1.3min\n",
      "[CV] END learning_rate=0.25, max_features=0.6000000000000001, n_estimators=275, random_state=42; total time= 1.3min\n",
      "[CV] END learning_rate=0.25, max_features=0.6000000000000001, n_estimators=275, random_state=42; total time= 1.3min\n",
      "[CV] END learning_rate=0.25, max_features=0.6000000000000001, n_estimators=300, random_state=42; total time= 1.4min\n",
      "[CV] END learning_rate=0.25, max_features=0.6000000000000001, n_estimators=300, random_state=42; total time= 1.4min\n",
      "[CV] END learning_rate=0.25, max_features=0.6000000000000001, n_estimators=300, random_state=42; total time= 1.2min\n",
      "[CV] END learning_rate=0.25, max_features=0.6000000000000001, n_estimators=325, random_state=42; total time= 1.3min\n",
      "[CV] END learning_rate=0.25, max_features=0.6000000000000001, n_estimators=325, random_state=42; total time= 1.3min\n",
      "[CV] END learning_rate=0.25, max_features=0.6000000000000001, n_estimators=325, random_state=42; total time= 1.6min\n",
      "[CV] END learning_rate=0.25, max_features=0.8, n_estimators=200, random_state=42; total time= 1.3min\n",
      "[CV] END learning_rate=0.25, max_features=0.8, n_estimators=200, random_state=42; total time= 1.2min\n",
      "[CV] END learning_rate=0.25, max_features=0.8, n_estimators=200, random_state=42; total time= 1.2min\n",
      "[CV] END learning_rate=0.25, max_features=0.8, n_estimators=225, random_state=42; total time= 1.1min\n",
      "[CV] END learning_rate=0.25, max_features=0.8, n_estimators=225, random_state=42; total time=  57.7s\n",
      "[CV] END learning_rate=0.25, max_features=0.8, n_estimators=225, random_state=42; total time=  58.0s\n",
      "[CV] END learning_rate=0.25, max_features=0.8, n_estimators=250, random_state=42; total time= 1.1min\n",
      "[CV] END learning_rate=0.25, max_features=0.8, n_estimators=250, random_state=42; total time= 1.1min\n",
      "[CV] END learning_rate=0.25, max_features=0.8, n_estimators=250, random_state=42; total time= 1.1min\n",
      "[CV] END learning_rate=0.25, max_features=0.8, n_estimators=275, random_state=42; total time= 1.2min\n",
      "[CV] END learning_rate=0.25, max_features=0.8, n_estimators=275, random_state=42; total time= 1.2min\n",
      "[CV] END learning_rate=0.25, max_features=0.8, n_estimators=275, random_state=42; total time= 1.3min\n",
      "[CV] END learning_rate=0.25, max_features=0.8, n_estimators=300, random_state=42; total time= 1.4min\n",
      "[CV] END learning_rate=0.25, max_features=0.8, n_estimators=300, random_state=42; total time= 1.4min\n",
      "[CV] END learning_rate=0.25, max_features=0.8, n_estimators=300, random_state=42; total time= 1.4min\n",
      "[CV] END learning_rate=0.25, max_features=0.8, n_estimators=325, random_state=42; total time= 1.5min\n",
      "[CV] END learning_rate=0.25, max_features=0.8, n_estimators=325, random_state=42; total time= 1.5min\n",
      "[CV] END learning_rate=0.25, max_features=0.8, n_estimators=325, random_state=42; total time= 1.6min\n",
      "CPU times: total: 2h 56min 52s\n",
      "Wall time: 2h 58min 41s\n"
     ]
    },
    {
     "data": {
      "text/plain": [
       "GridSearchCV(cv=3, error_score='raise', estimator=GradientBoostingRegressor(),\n",
       "             param_grid={'learning_rate': [0.15, 0.2, 0.25],\n",
       "                         'max_features': array([0.2, 0.4, 0.6, 0.8]),\n",
       "                         'n_estimators': array([200, 225, 250, 275, 300, 325]),\n",
       "                         'random_state': [42]},\n",
       "             refit='neg_root_mean_squared_error',\n",
       "             scoring=['neg_root_mean_squared_error', 'neg_mean_absolute_error',\n",
       "                      'r2'],\n",
       "             verbose=2)"
      ]
     },
     "execution_count": 27,
     "metadata": {},
     "output_type": "execute_result"
    }
   ],
   "source": [
    "%%time\n",
    "\n",
    "'''GradientBoostingRegressor\n",
    "parameters: \n",
    "    learning_rate: it shrinks contribution of each tree by learning_rate\n",
    "    n_estimator: number of boosting stages to perform (usually large number results in better performance)\n",
    "    subsample: fraction of samples used for fitting, if < 1.0 => less variance (overfitting) , more bias (underfitting)\n",
    "    max_features: n° features to consider for best split\n",
    "    min_samples_split: min samples to split an internal node\n",
    "\n",
    "    '''\n",
    "\n",
    "param_grid = {'learning_rate':[0.15, 0.2, 0.25],\n",
    "              'n_estimators':np.arange(200,350,25),\n",
    "              'max_features':np.arange(0.2,1,0.2),\n",
    "              'random_state':[42]}\n",
    "\n",
    "gbr_gd = GridSearchCV(estimator = GradientBoostingRegressor(),\n",
    "                      param_grid = param_grid, \n",
    "                      cv = 3, \n",
    "                      scoring = metrics,\n",
    "                      refit = 'neg_root_mean_squared_error',\n",
    "                      error_score = 'raise', \n",
    "                      verbose = 2)\n",
    "                     \n",
    "gbr_gd.fit(X_train, y_train)"
   ]
  },
  {
   "cell_type": "code",
   "execution_count": 28,
   "id": "a72eaf77",
   "metadata": {},
   "outputs": [
    {
     "data": {
      "text/plain": [
       "GradientBoostingRegressor(learning_rate=0.25, max_features=0.8,\n",
       "                          n_estimators=325, random_state=42)"
      ]
     },
     "execution_count": 28,
     "metadata": {},
     "output_type": "execute_result"
    }
   ],
   "source": [
    "fine_tuned_models.append(gbr_gd.best_estimator_)\n",
    "gbr_gd.best_estimator_"
   ]
  },
  {
   "cell_type": "code",
   "execution_count": 29,
   "id": "4b83021e",
   "metadata": {},
   "outputs": [],
   "source": [
    "filename = 'GradientBoostingRegressor.sav'\n",
    "pickle.dump(gbr_gd.best_estimator_, open(filename, 'wb'))"
   ]
  },
  {
   "cell_type": "markdown",
   "id": "756108f8",
   "metadata": {},
   "source": [
    "### Comparing models"
   ]
  },
  {
   "cell_type": "code",
   "execution_count": 30,
   "id": "41e8b9f6",
   "metadata": {},
   "outputs": [
    {
     "name": "stdout",
     "output_type": "stream",
     "text": [
      "\n",
      "\n",
      "\n",
      "CPU times: total: 14min 14s\n",
      "Wall time: 14min 34s\n"
     ]
    }
   ],
   "source": [
    "%%time\n",
    "for model in fine_tuned_models:\n",
    "    cross_val = cross_validate(model, X_train, y_train, cv= 3, scoring = metrics)\n",
    "\n",
    "    new_models.append(f'{model.__class__.__name__}')\n",
    "    new_scores.append(list(cross_val.values())[2:])\n",
    "    print('')\n",
    "\n",
    "data = []\n",
    "for model in range(len(fine_tuned_models)):\n",
    "    for score in range(len(metrics)):\n",
    "        data.append(new_scores[model][score].mean())\n",
    "\n",
    "data = np.reshape(data, (len(fine_tuned_models), len(metrics)))\n",
    "        \n",
    "df_models = pd.DataFrame(data, index = new_models, columns = metrics)"
   ]
  },
  {
   "cell_type": "code",
   "execution_count": 31,
   "id": "94806242",
   "metadata": {},
   "outputs": [
    {
     "data": {
      "text/html": [
       "<style  type=\"text/css\" >\n",
       "#T_7604b_row0_col0,#T_7604b_row0_col1,#T_7604b_row0_col2{\n",
       "            background-color:  lightgreen;\n",
       "        }</style><table id=\"T_7604b_\" ><thead>    <tr>        <th class=\"blank level0\" ></th>        <th class=\"col_heading level0 col0\" >neg_root_mean_squared_error</th>        <th class=\"col_heading level0 col1\" >neg_mean_absolute_error</th>        <th class=\"col_heading level0 col2\" >r2</th>    </tr></thead><tbody>\n",
       "                <tr>\n",
       "                        <th id=\"T_7604b_level0_row0\" class=\"row_heading level0 row0\" >RandomForestRegressor</th>\n",
       "                        <td id=\"T_7604b_row0_col0\" class=\"data row0 col0\" >-3390.631712</td>\n",
       "                        <td id=\"T_7604b_row0_col1\" class=\"data row0 col1\" >-1698.155388</td>\n",
       "                        <td id=\"T_7604b_row0_col2\" class=\"data row0 col2\" >0.936806</td>\n",
       "            </tr>\n",
       "            <tr>\n",
       "                        <th id=\"T_7604b_level0_row1\" class=\"row_heading level0 row1\" >KNeighborsRegressor</th>\n",
       "                        <td id=\"T_7604b_row1_col0\" class=\"data row1 col0\" >-3813.632760</td>\n",
       "                        <td id=\"T_7604b_row1_col1\" class=\"data row1 col1\" >-1744.311863</td>\n",
       "                        <td id=\"T_7604b_row1_col2\" class=\"data row1 col2\" >0.920054</td>\n",
       "            </tr>\n",
       "            <tr>\n",
       "                        <th id=\"T_7604b_level0_row2\" class=\"row_heading level0 row2\" >GradientBoostingRegressor</th>\n",
       "                        <td id=\"T_7604b_row2_col0\" class=\"data row2 col0\" >-4667.554135</td>\n",
       "                        <td id=\"T_7604b_row2_col1\" class=\"data row2 col1\" >-3150.937023</td>\n",
       "                        <td id=\"T_7604b_row2_col2\" class=\"data row2 col2\" >0.880248</td>\n",
       "            </tr>\n",
       "    </tbody></table>"
      ],
      "text/plain": [
       "<pandas.io.formats.style.Styler at 0x20eb5038730>"
      ]
     },
     "execution_count": 31,
     "metadata": {},
     "output_type": "execute_result"
    }
   ],
   "source": [
    "df_models.style.highlight_max(color = 'lightgreen', axis = 0)"
   ]
  },
  {
   "cell_type": "markdown",
   "id": "5b4ac1c6",
   "metadata": {},
   "source": [
    "# Final round of tuning"
   ]
  },
  {
   "cell_type": "code",
   "execution_count": 32,
   "id": "d9b1b8b7",
   "metadata": {
    "scrolled": true
   },
   "outputs": [
    {
     "name": "stdout",
     "output_type": "stream",
     "text": [
      "Fitting 3 folds for each of 21 candidates, totalling 63 fits\n",
      "[CV] END max_features=0.3, n_estimators=350, random_state=42; total time= 1.8min\n",
      "[CV] END max_features=0.3, n_estimators=350, random_state=42; total time= 1.8min\n",
      "[CV] END max_features=0.3, n_estimators=350, random_state=42; total time= 1.8min\n",
      "[CV] END max_features=0.3, n_estimators=365, random_state=42; total time= 1.9min\n",
      "[CV] END max_features=0.3, n_estimators=365, random_state=42; total time= 1.9min\n",
      "[CV] END max_features=0.3, n_estimators=365, random_state=42; total time= 2.0min\n",
      "[CV] END max_features=0.3, n_estimators=380, random_state=42; total time= 2.1min\n",
      "[CV] END max_features=0.3, n_estimators=380, random_state=42; total time= 2.1min\n",
      "[CV] END max_features=0.3, n_estimators=380, random_state=42; total time= 2.1min\n",
      "[CV] END max_features=0.3, n_estimators=395, random_state=42; total time= 2.0min\n",
      "[CV] END max_features=0.3, n_estimators=395, random_state=42; total time= 2.0min\n",
      "[CV] END max_features=0.3, n_estimators=395, random_state=42; total time= 2.0min\n",
      "[CV] END max_features=0.3, n_estimators=410, random_state=42; total time= 2.2min\n",
      "[CV] END max_features=0.3, n_estimators=410, random_state=42; total time= 2.2min\n",
      "[CV] END max_features=0.3, n_estimators=410, random_state=42; total time= 2.2min\n",
      "[CV] END max_features=0.3, n_estimators=425, random_state=42; total time= 2.3min\n",
      "[CV] END max_features=0.3, n_estimators=425, random_state=42; total time= 2.2min\n",
      "[CV] END max_features=0.3, n_estimators=425, random_state=42; total time= 2.3min\n",
      "[CV] END max_features=0.3, n_estimators=440, random_state=42; total time= 2.5min\n",
      "[CV] END max_features=0.3, n_estimators=440, random_state=42; total time= 2.3min\n",
      "[CV] END max_features=0.3, n_estimators=440, random_state=42; total time= 2.2min\n",
      "[CV] END max_features=0.4, n_estimators=350, random_state=42; total time= 2.3min\n",
      "[CV] END max_features=0.4, n_estimators=350, random_state=42; total time= 2.3min\n",
      "[CV] END max_features=0.4, n_estimators=350, random_state=42; total time= 2.2min\n",
      "[CV] END max_features=0.4, n_estimators=365, random_state=42; total time= 2.3min\n",
      "[CV] END max_features=0.4, n_estimators=365, random_state=42; total time= 2.4min\n",
      "[CV] END max_features=0.4, n_estimators=365, random_state=42; total time= 2.3min\n",
      "[CV] END max_features=0.4, n_estimators=380, random_state=42; total time= 2.4min\n",
      "[CV] END max_features=0.4, n_estimators=380, random_state=42; total time= 2.4min\n",
      "[CV] END max_features=0.4, n_estimators=380, random_state=42; total time= 2.4min\n",
      "[CV] END max_features=0.4, n_estimators=395, random_state=42; total time= 2.6min\n",
      "[CV] END max_features=0.4, n_estimators=395, random_state=42; total time= 2.7min\n",
      "[CV] END max_features=0.4, n_estimators=395, random_state=42; total time= 2.7min\n",
      "[CV] END max_features=0.4, n_estimators=410, random_state=42; total time= 2.8min\n",
      "[CV] END max_features=0.4, n_estimators=410, random_state=42; total time= 2.7min\n",
      "[CV] END max_features=0.4, n_estimators=410, random_state=42; total time= 2.6min\n",
      "[CV] END max_features=0.4, n_estimators=425, random_state=42; total time= 2.8min\n",
      "[CV] END max_features=0.4, n_estimators=425, random_state=42; total time= 2.9min\n",
      "[CV] END max_features=0.4, n_estimators=425, random_state=42; total time= 2.9min\n",
      "[CV] END max_features=0.4, n_estimators=440, random_state=42; total time= 3.0min\n",
      "[CV] END max_features=0.4, n_estimators=440, random_state=42; total time= 2.8min\n",
      "[CV] END max_features=0.4, n_estimators=440, random_state=42; total time= 2.9min\n",
      "[CV] END max_features=0.5, n_estimators=350, random_state=42; total time= 2.5min\n",
      "[CV] END max_features=0.5, n_estimators=350, random_state=42; total time= 2.6min\n",
      "[CV] END max_features=0.5, n_estimators=350, random_state=42; total time= 2.6min\n",
      "[CV] END max_features=0.5, n_estimators=365, random_state=42; total time= 2.8min\n",
      "[CV] END max_features=0.5, n_estimators=365, random_state=42; total time= 2.8min\n",
      "[CV] END max_features=0.5, n_estimators=365, random_state=42; total time= 2.6min\n",
      "[CV] END max_features=0.5, n_estimators=380, random_state=42; total time= 2.7min\n",
      "[CV] END max_features=0.5, n_estimators=380, random_state=42; total time= 2.7min\n",
      "[CV] END max_features=0.5, n_estimators=380, random_state=42; total time= 2.7min\n",
      "[CV] END max_features=0.5, n_estimators=395, random_state=42; total time= 3.1min\n",
      "[CV] END max_features=0.5, n_estimators=395, random_state=42; total time= 3.6min\n",
      "[CV] END max_features=0.5, n_estimators=395, random_state=42; total time= 3.2min\n",
      "[CV] END max_features=0.5, n_estimators=410, random_state=42; total time= 3.3min\n",
      "[CV] END max_features=0.5, n_estimators=410, random_state=42; total time= 3.3min\n",
      "[CV] END max_features=0.5, n_estimators=410, random_state=42; total time= 3.0min\n",
      "[CV] END max_features=0.5, n_estimators=425, random_state=42; total time= 3.2min\n",
      "[CV] END max_features=0.5, n_estimators=425, random_state=42; total time= 3.4min\n",
      "[CV] END max_features=0.5, n_estimators=425, random_state=42; total time= 3.1min\n",
      "[CV] END max_features=0.5, n_estimators=440, random_state=42; total time= 3.2min\n",
      "[CV] END max_features=0.5, n_estimators=440, random_state=42; total time= 3.3min\n",
      "[CV] END max_features=0.5, n_estimators=440, random_state=42; total time= 3.2min\n",
      "CPU times: total: 2h 45min 10s\n",
      "Wall time: 2h 45min 43s\n"
     ]
    },
    {
     "data": {
      "text/plain": [
       "GridSearchCV(cv=3, error_score='raise', estimator=RandomForestRegressor(),\n",
       "             param_grid={'max_features': [0.3, 0.4, 0.5],\n",
       "                         'n_estimators': array([350, 365, 380, 395, 410, 425, 440]),\n",
       "                         'random_state': [42]},\n",
       "             refit='neg_root_mean_squared_error',\n",
       "             scoring=['neg_root_mean_squared_error', 'neg_mean_absolute_error',\n",
       "                      'r2'],\n",
       "             verbose=2)"
      ]
     },
     "execution_count": 32,
     "metadata": {},
     "output_type": "execute_result"
    }
   ],
   "source": [
    "%%time\n",
    "\n",
    "'''RandomForestRegressor\n",
    "parameters: \n",
    "    n_estimator: number of trees in the forest\n",
    "    min_samples_split: min number of samples required to split an internal node\n",
    "    max_features: n° features to consider for best split\n",
    "    '''\n",
    "\n",
    "param_grid = {'n_estimators':np.arange(350,450,15),\n",
    "              'max_features': [0.3, 0.4, 0.5],\n",
    "              'random_state':[42]}\n",
    "\n",
    "rfr_gd_2 = GridSearchCV(estimator = RandomForestRegressor(),\n",
    "                      param_grid = param_grid, \n",
    "                      cv = 3, \n",
    "                      scoring = metrics,\n",
    "                      refit = 'neg_root_mean_squared_error',\n",
    "                      error_score = 'raise', \n",
    "                      verbose = 2)\n",
    "                     \n",
    "rfr_gd_2.fit(X_train, y_train)"
   ]
  },
  {
   "cell_type": "code",
   "execution_count": 33,
   "id": "978a6f7a",
   "metadata": {},
   "outputs": [
    {
     "data": {
      "text/plain": [
       "RandomForestRegressor(max_features=0.4, n_estimators=425, random_state=42)"
      ]
     },
     "execution_count": 33,
     "metadata": {},
     "output_type": "execute_result"
    }
   ],
   "source": [
    "rfr_gd_2.best_estimator_"
   ]
  },
  {
   "cell_type": "code",
   "execution_count": 34,
   "id": "1ab914f0",
   "metadata": {},
   "outputs": [],
   "source": [
    "filename = 'RandomForestRegressor_2.sav'\n",
    "pickle.dump(rfr_gd_2.best_estimator_, open(filename, 'wb'))"
   ]
  },
  {
   "cell_type": "code",
   "execution_count": 35,
   "id": "a57e8407",
   "metadata": {},
   "outputs": [],
   "source": [
    "scores_ = cross_validate(rfr_gd_2.best_estimator_, X_train, y_train, cv= 3, scoring = metrics)"
   ]
  },
  {
   "cell_type": "code",
   "execution_count": 36,
   "id": "59293919",
   "metadata": {},
   "outputs": [
    {
     "data": {
      "text/plain": [
       "-3388.411560918494"
      ]
     },
     "execution_count": 36,
     "metadata": {},
     "output_type": "execute_result"
    }
   ],
   "source": [
    "scores_.get('test_neg_root_mean_squared_error').mean()"
   ]
  },
  {
   "cell_type": "code",
   "execution_count": 37,
   "id": "ca1f83d2",
   "metadata": {},
   "outputs": [],
   "source": [
    "mean_squared_error_2 = round(scores_.get('test_neg_root_mean_squared_error').mean(), 2)\n",
    "mean_absolute_error_2 = round(scores_.get('test_neg_mean_absolute_error').mean(),2)\n",
    "r2_2 = round(scores_.get('test_r2').mean(),2)"
   ]
  },
  {
   "cell_type": "code",
   "execution_count": 38,
   "id": "40fe1173",
   "metadata": {},
   "outputs": [
    {
     "name": "stdout",
     "output_type": "stream",
     "text": [
      "neg_root_mean_squared_error:   -3388.41\n",
      "neg_mean_absolute_error:       -1696.43\n",
      "r2:                             0.94\n"
     ]
    }
   ],
   "source": [
    "print('neg_root_mean_squared_error:  ', mean_squared_error_2)\n",
    "print('neg_mean_absolute_error:      ', mean_absolute_error_2)\n",
    "print('r2:                            ', r2_2)"
   ]
  },
  {
   "cell_type": "code",
   "execution_count": 39,
   "id": "aa6be49f",
   "metadata": {},
   "outputs": [
    {
     "data": {
      "text/plain": [
       "neg_root_mean_squared_error   -3390.631712\n",
       "neg_mean_absolute_error       -1698.155388\n",
       "r2                                0.936806\n",
       "Name: RandomForestRegressor, dtype: float64"
      ]
     },
     "execution_count": 39,
     "metadata": {},
     "output_type": "execute_result"
    }
   ],
   "source": [
    "df_models.iloc[0]"
   ]
  },
  {
   "cell_type": "code",
   "execution_count": null,
   "id": "5922f881",
   "metadata": {},
   "outputs": [],
   "source": []
  }
 ],
 "metadata": {
  "kernelspec": {
   "display_name": "Python 3",
   "language": "python",
   "name": "python3"
  },
  "language_info": {
   "codemirror_mode": {
    "name": "ipython",
    "version": 3
   },
   "file_extension": ".py",
   "mimetype": "text/x-python",
   "name": "python",
   "nbconvert_exporter": "python",
   "pygments_lexer": "ipython3",
   "version": "3.8.10"
  }
 },
 "nbformat": 4,
 "nbformat_minor": 5
}
